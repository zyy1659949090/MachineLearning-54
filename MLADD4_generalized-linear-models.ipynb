{
 "cells": [
  {
   "cell_type": "markdown",
   "metadata": {},
   "source": [
    "# Generalized Linear Models\n"
   ]
  },
  {
   "cell_type": "markdown",
   "metadata": {},
   "source": [
    "* * *\n",
    "![Alt text](./images/linear_regression.png \"Linear Regression Model\")\n",
    "* * *\n",
    "Image Source: Wikipedia"
   ]
  },
  {
   "cell_type": "markdown",
   "metadata": {},
   "source": [
    "## Introduction\n",
    "\n",
    "[Linear Models](https://en.wikipedia.org/wiki/Linear_regression) are one of the oldest and most well known statistical prediction algorithms which nowdays is often categorized as a \"machine learning algorithm.\" [Generalized Linear Models](https://en.wikipedia.org/wiki/Generalized_linear_model) (GLMs) are are a framework for modeling a response variable $y$ that is bounded or discrete. Generalized linear models allow for an arbitrary link function $g$ that relates the mean of the response variable to the predictors, i.e. $E(y) = g(β′x)$. The link function is often related to the distribution of the response, and in particular it typically has the effect of transforming between, $(-\\infty ,\\infty )$, the range of the linear predictor, and the range of the response variable (e.g. $[0,1]$). [1]\n",
    "\n",
    "Therefore, GLMs allow for response variables that have error distribution models other than a normal distribution. Some common examples of GLMs are:\n",
    "- [Poisson regression](https://en.wikipedia.org/wiki/Poisson_regression) for count data.\n",
    "- [Logistic regression](https://en.wikipedia.org/wiki/Logistic_regression) and [probit regression](https://en.wikipedia.org/wiki/Probit_regression) for binary data.\n",
    "- [Multinomial logistic regression](https://en.wikipedia.org/wiki/Multinomial_logistic_regression) and [multinomial probit](https://en.wikipedia.org/wiki/Multinomial_probit) regression for categorical data.\n",
    "- [Ordered probit](https://en.wikipedia.org/wiki/Ordered_probit) regression for ordinal data.\n",
    "\n",
    "\n",
    "\n",
    "## Linear Models\n",
    "\n",
    "In a linear model, given a vector of inputs, $X^T = (X_1, X_2, ..., X_p)$, we predict the output $Y$ via the model:\n",
    "\n",
    "$$\\hat{Y} = \\hat{\\beta}_0 + \\sum_{j=1}^p X_j \\hat{\\beta}_j$$\n",
    "\n",
    "The term $\\hat{\\beta}_0$ is the intercept, also known as the *bias* in machine learning.  Often it is convenient to include the constant variable $1$ in $X$, include $\\beta_0$ in the vector of coefficients $\\hat{\\beta}$, and then write the linear model in vector form as an inner product, \n",
    "\n",
    "$$\\hat{Y} = X^T\\hat{\\beta},$$\n",
    "\n",
    "where $X^T$ denotes the transpose of the design matrix.  We will review the case where $Y$ is a scalar, however, in general $Y$ can have more than one dimension.  Viewed as a function over the $p$-dimensional input space, $f(X) = X^T\\beta$ is linear, and the [gradient](https://en.wikipedia.org/wiki/Gradient), $f′(X) = \\beta$, is a vector in input space that points in the steepest uphill direction.\n",
    "\n",
    "### Ordinary Least Squares (OLS)\n",
    "\n",
    "There are many different methods to fitting a linear model, but the most simple and popular method is [Ordinary Least Squares](https://en.wikipedia.org/wiki/Ordinary_least_squares) (OLS).  The OLS method minimizes the [residual sum of squares](https://en.wikipedia.org/wiki/Residual_sum_of_squares) (RSS), and leads to a closed-form expression for the estimated value of the unknown parameter $\\beta$.\n",
    "\n",
    "$$RSS(\\beta) = \\sum_{i=1}^n (y_i - x_i^T\\beta)^2$$\n",
    "\n",
    "$RSS(\\beta)$ is a quadradic function of the parameters, and hence its minimum always exists, but may not be unique.  The solution is easiest to characterize in matrix notation:\n",
    "\n",
    "$$RSS(\\beta) = (\\boldsymbol{y} - \\boldsymbol{X}\\beta)^T(\\boldsymbol{y} - \\boldsymbol{X}\\beta)$$\n",
    "\n",
    "where $\\boldsymbol{X}$ is an $n \\times p$ matrix with each row an input vector, and $\\boldsymbol{y}$ is a vector of length $n$ representing the response in the training set.  Differentiating with respect to $\\beta$, we get the *normal equations*, \n",
    "\n",
    "$$\\boldsymbol{X}^T(\\boldsymbol{y} - \\boldsymbol{X}\\beta) = 0$$\n",
    "\n",
    "If $\\boldsymbol{X}^T\\boldsymbol{X}$ is [nonsingular](https://en.wikipedia.org/wiki/Invertible_matrix), then the unique solution is given by:\n",
    "\n",
    "$$\\hat{\\beta} = (\\boldsymbol{X}^T\\boldsymbol{X})^{-1}\\boldsymbol{X}^T\\boldsymbol{y}$$\n",
    "\n",
    "The fitted value at the $i^{th}$ input, $x_i$ is $\\hat{y}_i = \\hat{y}(x_i) = x_i^T\\hat{\\beta}$.  To solve this equation for $\\beta$, we must invert a matrix, $\\boldsymbol{X}^T\\boldsymbol{X}$, however it can be computationally expensive to invert this matrix directly.  There are computational shortcuts for solving the normal equations available via [QR](https://en.wikipedia.org/wiki/QR_decomposition) or [Cholesky](https://en.wikipedia.org/wiki/Cholesky_decomposition) decomposition.  When dealing with large training sets, it is useful to have an understanding of the underlying computational methods in the software that you are using.  Some GLM software implementations may not utilize all available computational shortcuts, costing you extra time to train your GLMs, or require you to upgrade the memory on your machine."
   ]
  },
  {
   "cell_type": "markdown",
   "metadata": {},
   "source": [
    "## Regularization\n",
    "\n",
    "http://web.stanford.edu/~hastie/Papers/glmpath.pdf\n",
    "\n",
    "\n",
    "### Ridge Regression\n",
    "\n",
    "\n",
    "Consider a sample consisting of $n$ cases, each of which consists of $p$ covariates and a single outcome. Let $y_i$ be the outcome and $X_i := ( x_1 , x_2 , … , x_p)^T$. \n",
    "\n",
    "Then the objective of Ridge is to solve:\n",
    "\n",
    "$${\\displaystyle \\min _{\\beta }\\left\\{{\\frac {1}{N}}\\sum _{i=1}^{N}\\left(y_{i}-\\beta_0 - \\sum_{j=1}^p x_{ij}\\beta_j \\right)^{2}\\right\\}{\\text{ subject to }}\\sum _{j=1}^{p}\\beta _{j}^2 \\leq t.}$$\n",
    "\n",
    "\n",
    "Here $t$ is a prespecified free parameter that determines the amount of regularization.  Ridge is also called $\\ell_2$ regularization.\n",
    "\n",
    "### Lasso Regression\n",
    "\n",
    "[Lasso](https://en.wikipedia.org/wiki/Lasso_(statistics) (least absolute shrinkage and selection operator) (also Lasso or LASSO) is a regression analysis method that performs both variable selection and regularization in order to enhance the prediction accuracy and interpretability of the statistical model it produces. \n",
    "\n",
    "- It was [introduced by Robert Tibshirani in 1996](http://www-stat.stanford.edu/%7Etibs/lasso/lasso.pdf) based on Leo Breiman’s Nonnegative Garrote.\n",
    "- Lasso conveniently performs coefficient shrinkage comparable to the ridge regression as well as variable selection by reducing coefficients to zero. \n",
    "- By sacrificing a small amount of bias in the predicted response variable in order to decrease variance, the lasso achieves improved predictive accuracy compared with ordinary least squares (OLS) models, particularly with data containing highly correlated predictor variables or in over determined data where $p>n$.\n",
    "\n",
    "Then the objective of Lasso is to solve:\n",
    "\n",
    "$${\\displaystyle \\min _{\\beta }\\left\\{{\\frac {1}{N}}\\sum _{i=1}^{N}\\left(y_{i}-\\beta_0 - \\sum_{j=1}^p x_{ij}\\beta_j \\right)^{2}\\right\\}{\\text{ subject to }}\\sum _{j=1}^{p}|\\beta _{j}| \\leq t.}$$\n",
    "\n",
    "Here $t$ is a prespecified free parameter that determines the amount of regularization.\n",
    "Lasso is also called $\\ell_1$ regularization.\n",
    "\n",
    "\n",
    "### Elastic Net\n",
    "\n",
    "[Elastic Net regularization](https://en.wikipedia.org/wiki/Elastic_net_regularization) is a simple blend of Lasso and Ridge regularization.  In software, this is typically controlled by an `alpha` parameter in between 0 and 1, where:\n",
    "- `alpha = 0.0` is Ridge regression\n",
    "- `alpha = 0.5` is a 50/50 blend of Ridge/Lasso regression\n",
    "- `alpha = 1.0` is Lasso regression"
   ]
  },
  {
   "cell_type": "markdown",
   "metadata": {},
   "source": [
    "## Other Solvers\n",
    "\n",
    "GLM models are trained by finding the set of parameters that maximizes the likelihood of the data.  For the Gaussian family, maximum likelihood consists of minimizing the mean squared error.  This has an analytical solution and can be\n",
    "solved with a standard method of least squares.  This is also applicable when the $\\ell_2$ penalty is added to the optimization.  For all other families and when the $\\ell_1$ penalty is included, the maximum likelihood\n",
    "problem has no analytical  solution.  Therefore an iterative method  such as IRLSM, L-BFGS, the Newton method, or gradient descent, must be used.\n",
    "\n",
    "\n",
    "### Iteratively Re-weighted Least Squares (IRLS)\n",
    "\n",
    "The [IRLS](https://en.wikipedia.org/wiki/Iteratively_reweighted_least_squares) method is used to solve certain optimization problems with objective functions of the form:\n",
    "\n",
    "$${\\underset  {{\\boldsymbol  \\beta }}{\\operatorname {arg\\,min}}}\\sum _{{i=1}}^{n}{\\big |}y_{i}-f_{i}({\\boldsymbol  \\beta }){\\big |}^{p},$$\n",
    "\n",
    "by an iterative method in which each step involves solving a weighted least squares problem of the form:\n",
    "\n",
    "$${\\boldsymbol  \\beta }^{{(t+1)}}={\\underset  {{\\boldsymbol  \\beta }}{\\operatorname {arg\\,min}}}\\sum _{{i=1}}^{n}w_{i}({\\boldsymbol  \\beta }^{{(t)}}){\\big |}y_{i}-f_{i}({\\boldsymbol  \\beta }){\\big |}^{2}.$$\n",
    "\n",
    "IRLS is used to find the [maximum likelihood](https://en.wikipedia.org/wiki/Maximum_likelihood) estimates of a generalized linear model as a way of mitigating the influence of outliers in an otherwise normally-distributed data set.  For example, by minimizing the least absolute error rather than the least square error.\n",
    "\n",
    "One of the advantages of IRLS over [linear programming](https://en.wikipedia.org/wiki/Linear_programming) and [convex programming](https://en.wikipedia.org/wiki/Convex_programming) is that it can be used with [Gauss-Newton](https://en.wikipedia.org/wiki/Gauss%E2%80%93Newton) and [Levenberg-Marquardt](https://en.wikipedia.org/wiki/Levenberg%E2%80%93Marquardt) numerical algorithms.\n",
    "\n",
    "The IRL1 algorithm solves a sequence of non-smooth weighted $\\ell_1$-minimization problems, and hence can be seen as the non-smooth counterpart to the IRLS algorithm. \n",
    "\n",
    "\n",
    "### Iteratively Re-weighted Least Squares with ADMM\n",
    "\n",
    "The IRLS method with [alternating direction method of multipliers](http://web.stanford.edu/~boyd/admm.html) (ADMM) inner solver as described in [Distributed Optimization and Statistical Learning via the Alternating Direction Method of Multipliers](http://web.stanford.edu/~boyd/papers/admm_distr_stats.html) by Boyd et. al to deal with the $\\ell_1$ penalty. ADMM is an algorithm that solves convex optimization problems by breaking them into smaller pieces, each of which are then easier to handle.  Every iteration of the algorithm consists of following steps:\n",
    "\n",
    "1. Generate weighted least squares problem based on previous solution, i.e. vector of weights w and response z.\n",
    "2. Compute the weighted [Gram matrix](https://en.wikipedia.org/wiki/Gramian_matrix) XT WX and XT z vector\n",
    "3. Decompose the Gram matrix ([Cholesky decomposition](https://en.wikipedia.org/wiki/Cholesky_decomposition)) and apply ADMM solver to solve the  $\\ell_1$ penalized least squares problem.\n",
    "\n",
    "In the [H2O GLM](http://docs.h2o.ai/h2o/latest-stable/h2o-docs/booklets/GLMBooklet.pdf) implementation, steps 1 and 2 are performed distributively, and Step 3 is computed in parallel on a single node.  The Gram matrix appraoch is very efficient for tall and narrow datasets when running lamnda search with a sparse solution. \n",
    "\n",
    "\n",
    "### Cyclical Coordinate Descent\n",
    "\n",
    "The IRLS method can also use cyclical coordinate descent in it's inner loop (as opposed to ADMM).  The [glmnet](http://web.stanford.edu/~hastie/glmnet/glmnet_beta.html) package uses [cyclical coordinate descent](http://web.stanford.edu/~hastie/Papers/glmnet.pdf) which successively optimizes the objective function over each parameter with others fixed, and cycles repeatedly until convergence.\n",
    "\n",
    "Cyclical  coordinate  descent  methods  are  a  natural  approach  for  solving\n",
    "convex  problems  with $\\ell_1$ or $\\ell_2$ constraints,  or  mixtures  of  the  two  (elastic net).  Each coordinate-descent step is fast, with an explicit formula for each coordinate-wise minimization.  The method also exploits the sparsity of the model, spending much of its time evaluating only inner products for variables with non-zero coefficients.\n",
    "\n",
    "\n",
    "### L-BFGS \n",
    "\n",
    "[Limited-memory BFGS](https://en.wikipedia.org/wiki/Limited-memory_BFGS) (L-BFGS) is an optimization algorithm in the family of [quasi-Newton methods](https://en.wikipedia.org/wiki/Quasi-Newton_method) that approximates the [Broyden–Fletcher–Goldfarb–Shanno](https://en.wikipedia.org/wiki/BFGS_method) (BFGS) algorithm using a limited amount of computer memory. Due to its resulting linear memory requirement, the L-BFGS method is particularly well suited for optimization problems with a large number of variables.  The method is popular among \"big data\" GLM implementations such as [h2o::h2o.glm()](http://www.rdocumentation.org/packages/h2o/functions/h2o.glm) (one of two available solvers) and [SparkR::glm()](https://spark.apache.org/docs/latest/api/R/index.html).  The [L-BFGS-B algorithm](http://sepwww.stanford.edu/data/media/public/docs/sep117/antoine1/paper_html/node12.html#lbfgsb) is an extension of the L-BFGS algorithm to handle simple bounds on the model. "
   ]
  },
  {
   "cell_type": "markdown",
   "metadata": {},
   "source": [
    "## Data Preprocessing\n",
    "\n",
    "In order for the coefficients to be easily interpretable, the features must be centered and scaled (aka \"normalized\").  Many software packages will allow the direct input of categorical/factor columns in the training frame, however internally any categorical columns will be expaded into binary indicator variables.  The caret package offers a handy utility function, [caret::dummyVars()](http://www.rdocumentation.org/packages/caret/functions/dummyVars), for dummy/indicator expansion if you need to do this manually.\n",
    "\n",
    "Missing data will need to be imputed, otherwise in many GLM packages, those rows will simply be omitted from the training set at train time.  For example, in the `stats::glm()` function there is an `na.action` argument which allows the user to do one of the three options:\n",
    "\n",
    "- na.omit and na.exclude: observations are removed if they contain any missing values; if na.exclude is used some functions will pad residuals and predictions to the correct length by inserting NAs for omitted cases.\n",
    "- na.pass: keep all data, including NAs\n",
    "- na.fail: returns the object only if it contains no missing values\n",
    "\n",
    "Other GLM implementations such as `h2o::glm()` will impute the mean automatically (in both training and test data), unless specified by the user."
   ]
  },
  {
   "cell_type": "markdown",
   "metadata": {},
   "source": [
    "***"
   ]
  },
  {
   "cell_type": "markdown",
   "metadata": {},
   "source": [
    "# GLM Software in R\n",
    "\n",
    "There is an implementation of the standard GLM (no regularization) in the built-in \"stats\" package in R called [glm](http://www.rdocumentation.org/packages/stats/functions/glm).\n",
    "\n",
    "## glm\n",
    "\n",
    "Authors: The original R implementation of glm was written by Simon Davies working for Ross Ihaka at the University of Auckland, but has since been extensively re-written by members of the R Core team.  The design was inspired by the S function of the same name described in Hastie & Pregibon (1992).\n",
    "\n",
    "Backend: Fortran\n",
    "\n",
    "### Example Linear Regression with glm()"
   ]
  },
  {
   "cell_type": "code",
   "execution_count": 1,
   "metadata": {},
   "outputs": [
    {
     "name": "stderr",
     "output_type": "stream",
     "text": [
      "Loading required package: lattice\n",
      "Loading required package: ggplot2\n"
     ]
    }
   ],
   "source": [
    "#install.packages(\"caret\")\n",
    "library(caret)\n",
    "data(\"Sacramento\")\n",
    "\n",
    "# Split the data into a 70/25% train/test sets\n",
    "set.seed(1)\n",
    "idxs <- caret::createDataPartition(y = Sacramento$price, p = 0.75)[[1]]\n",
    "train <- Sacramento[idxs,]\n",
    "test <- Sacramento[-idxs,]"
   ]
  },
  {
   "cell_type": "code",
   "execution_count": 2,
   "metadata": {},
   "outputs": [
    {
     "data": {
      "text/plain": [
       "\n",
       "Call:\n",
       "glm(formula = price ~ ., family = gaussian(), data = train)\n",
       "\n",
       "Deviance Residuals: \n",
       "    Min       1Q   Median       3Q      Max  \n",
       "-269404   -39233    -6677    27418   279476  \n",
       "\n",
       "Coefficients: (32 not defined because of singularities)\n",
       "                      Estimate Std. Error t value Pr(>|t|)    \n",
       "(Intercept)          7.434e+06  1.931e+07   0.385 0.700365    \n",
       "cityAUBURN           1.450e+05  7.163e+04   2.024 0.043348 *  \n",
       "cityCAMERON_PARK     3.497e+04  6.341e+04   0.551 0.581536    \n",
       "cityCARMICHAEL       8.019e+04  2.699e+04   2.971 0.003078 ** \n",
       "cityCITRUS_HEIGHTS  -8.352e+03  2.222e+04  -0.376 0.707161    \n",
       "cityCOOL             1.300e+05  1.015e+05   1.281 0.200691    \n",
       "cityEL_DORADO        3.534e+04  1.061e+05   0.333 0.739141    \n",
       "cityEL_DORADO_HILLS  1.243e+05  5.417e+04   2.295 0.022047 *  \n",
       "cityELK_GROVE       -6.302e+04  5.984e+04  -1.053 0.292688    \n",
       "cityELVERTA         -5.559e+04  5.066e+04  -1.097 0.272929    \n",
       "cityFAIR_OAKS        6.136e+04  3.307e+04   1.855 0.064008 .  \n",
       "cityFOLSOM           1.056e+05  4.168e+04   2.533 0.011540 *  \n",
       "cityFORESTHILL       7.605e+04  1.283e+05   0.593 0.553518    \n",
       "cityGALT            -9.711e+04  8.547e+04  -1.136 0.256354    \n",
       "cityGOLD_RIVER       3.459e+04  6.240e+04   0.554 0.579555    \n",
       "cityGRANITE_BAY      3.217e+05  7.939e+04   4.053 5.70e-05 ***\n",
       "cityGREENWOOD        7.445e+04  1.119e+05   0.665 0.506249    \n",
       "cityLINCOLN          3.605e+04  3.989e+04   0.904 0.366484    \n",
       "cityLOOMIS           3.754e+05  6.367e+04   5.896 6.08e-09 ***\n",
       "cityMATHER          -8.306e+04  7.679e+04  -1.082 0.279856    \n",
       "cityMEADOW_VISTA     1.221e+05  1.060e+05   1.153 0.249537    \n",
       "cityNORTH_HIGHLANDS -3.655e+04  2.425e+04  -1.507 0.132220    \n",
       "cityORANGEVALE       5.875e+04  3.518e+04   1.670 0.095465 .  \n",
       "cityPLACERVILLE      1.271e+05  9.188e+04   1.384 0.166998    \n",
       "cityPOLLOCK_PINES    3.648e+04  1.291e+05   0.283 0.777580    \n",
       "cityRANCHO_CORDOVA  -6.894e+04  4.502e+04  -1.531 0.126222    \n",
       "cityRANCHO_MURIETA  -1.675e+05  8.849e+04  -1.893 0.058780 .  \n",
       "cityRIO_LINDA       -2.221e+04  3.001e+04  -0.740 0.459428    \n",
       "cityROCKLIN          9.179e+04  3.562e+04   2.577 0.010205 *  \n",
       "cityROSEVILLE        9.536e+04  2.678e+04   3.560 0.000398 ***\n",
       "citySACRAMENTO       1.203e+05  4.113e+04   2.926 0.003561 ** \n",
       "cityWALNUT_GROVE     4.904e+04  1.173e+05   0.418 0.676124    \n",
       "cityWEST_SACRAMENTO -7.501e+04  6.405e+04  -1.171 0.242019    \n",
       "cityWILTON           1.265e+05  7.234e+04   1.749 0.080744 .  \n",
       "zipz95608                   NA         NA      NA       NA    \n",
       "zipz95610            7.732e+03  3.056e+04   0.253 0.800363    \n",
       "zipz95614                   NA         NA      NA       NA    \n",
       "zipz95621                   NA         NA      NA       NA    \n",
       "zipz95623                   NA         NA      NA       NA    \n",
       "zipz95624           -1.452e+03  2.038e+04  -0.071 0.943237    \n",
       "zipz95626                   NA         NA      NA       NA    \n",
       "zipz95628                   NA         NA      NA       NA    \n",
       "zipz95630                   NA         NA      NA       NA    \n",
       "zipz95631                   NA         NA      NA       NA    \n",
       "zipz95632                   NA         NA      NA       NA    \n",
       "zipz95635                   NA         NA      NA       NA    \n",
       "zipz95648                   NA         NA      NA       NA    \n",
       "zipz95650                   NA         NA      NA       NA    \n",
       "zipz95655                   NA         NA      NA       NA    \n",
       "zipz95660                   NA         NA      NA       NA    \n",
       "zipz95661            2.926e+04  3.994e+04   0.733 0.464062    \n",
       "zipz95662                   NA         NA      NA       NA    \n",
       "zipz95667                   NA         NA      NA       NA    \n",
       "zipz95670            5.343e+04  3.267e+04   1.635 0.102495    \n",
       "zipz95673                   NA         NA      NA       NA    \n",
       "zipz95677            1.607e+04  4.510e+04   0.356 0.721739    \n",
       "zipz95678           -4.077e+04  2.838e+04  -1.437 0.151329    \n",
       "zipz95682                   NA         NA      NA       NA    \n",
       "zipz95683                   NA         NA      NA       NA    \n",
       "zipz95690                   NA         NA      NA       NA    \n",
       "zipz95691                   NA         NA      NA       NA    \n",
       "zipz95693                   NA         NA      NA       NA    \n",
       "zipz95722                   NA         NA      NA       NA    \n",
       "zipz95726                   NA         NA      NA       NA    \n",
       "zipz95742                   NA         NA      NA       NA    \n",
       "zipz95746                   NA         NA      NA       NA    \n",
       "zipz95747                   NA         NA      NA       NA    \n",
       "zipz95757            1.339e+04  1.874e+04   0.715 0.475149    \n",
       "zipz95758                   NA         NA      NA       NA    \n",
       "zipz95762                   NA         NA      NA       NA    \n",
       "zipz95765                   NA         NA      NA       NA    \n",
       "zipz95811            1.067e+05  7.624e+04   1.400 0.162053    \n",
       "zipz95814           -7.275e+04  6.049e+04  -1.203 0.229549    \n",
       "zipz95815           -1.940e+05  3.691e+04  -5.256 2.02e-07 ***\n",
       "zipz95816           -2.631e+03  4.872e+04  -0.054 0.956956    \n",
       "zipz95817           -1.662e+05  4.612e+04  -3.605 0.000337 ***\n",
       "zipz95818           -5.284e+04  4.452e+04  -1.187 0.235783    \n",
       "zipz95819            1.074e+05  5.104e+04   2.104 0.035800 *  \n",
       "zipz95820           -1.712e+05  3.770e+04  -4.540 6.73e-06 ***\n",
       "zipz95821           -9.943e+04  4.344e+04  -2.289 0.022420 *  \n",
       "zipz95822           -1.762e+05  4.333e+04  -4.066 5.39e-05 ***\n",
       "zipz95823           -2.001e+05  4.157e+04  -4.813 1.86e-06 ***\n",
       "zipz95824           -2.056e+05  4.097e+04  -5.019 6.77e-07 ***\n",
       "zipz95825           -1.386e+05  3.719e+04  -3.727 0.000212 ***\n",
       "zipz95826           -1.435e+05  3.811e+04  -3.765 0.000182 ***\n",
       "zipz95827           -1.880e+05  4.005e+04  -4.694 3.30e-06 ***\n",
       "zipz95828           -2.005e+05  3.935e+04  -5.096 4.60e-07 ***\n",
       "zipz95829           -1.802e+05  4.471e+04  -4.030 6.25e-05 ***\n",
       "zipz95831           -1.137e+05  5.317e+04  -2.138 0.032914 *  \n",
       "zipz95832           -2.242e+05  4.891e+04  -4.584 5.52e-06 ***\n",
       "zipz95833           -1.549e+05  4.048e+04  -3.827 0.000143 ***\n",
       "zipz95834           -1.510e+05  4.150e+04  -3.639 0.000297 ***\n",
       "zipz95835           -1.202e+05  4.195e+04  -2.865 0.004309 ** \n",
       "zipz95838           -1.729e+05  3.648e+04  -4.741 2.64e-06 ***\n",
       "zipz95841           -7.757e+04  5.190e+04  -1.495 0.135538    \n",
       "zipz95842           -1.651e+05  3.921e+04  -4.210 2.93e-05 ***\n",
       "zipz95843                   NA         NA      NA       NA    \n",
       "zipz95864                   NA         NA      NA       NA    \n",
       "beds                -1.336e+04  5.016e+03  -2.664 0.007926 ** \n",
       "baths                1.314e+04  6.323e+03   2.078 0.038099 *  \n",
       "sqft                 1.148e+02  7.457e+00  15.388  < 2e-16 ***\n",
       "typeMulti_Family     3.034e+04  2.731e+04   1.111 0.266933    \n",
       "typeResidential      4.665e+04  1.298e+04   3.594 0.000351 ***\n",
       "latitude            -2.121e+05  1.895e+05  -1.120 0.263319    \n",
       "longitude           -6.519e+03  1.547e+05  -0.042 0.966399    \n",
       "---\n",
       "Signif. codes:  0 ‘***’ 0.001 ‘**’ 0.01 ‘*’ 0.05 ‘.’ 0.1 ‘ ’ 1\n",
       "\n",
       "(Dispersion parameter for gaussian family taken to be 4622177625)\n",
       "\n",
       "    Null deviance: 1.2350e+13  on 699  degrees of freedom\n",
       "Residual deviance: 2.8981e+12  on 627  degrees of freedom\n",
       "AIC: 17635\n",
       "\n",
       "Number of Fisher Scoring iterations: 2\n"
      ]
     },
     "metadata": {},
     "output_type": "display_data"
    }
   ],
   "source": [
    "# Fit the GLM\n",
    "fit <- glm(price ~ ., \n",
    "           data = train, \n",
    "           family = gaussian())\n",
    "summary(fit)"
   ]
  },
  {
   "cell_type": "code",
   "execution_count": 3,
   "metadata": {},
   "outputs": [
    {
     "ename": "ERROR",
     "evalue": "Error in model.frame.default(Terms, newdata, na.action = na.action, xlev = object$xlevels): factor city has new levels DIAMOND_SPRINGS, GARDEN_VALLEY, PENRYN\n",
     "output_type": "error",
     "traceback": [
      "Error in model.frame.default(Terms, newdata, na.action = na.action, xlev = object$xlevels): factor city has new levels DIAMOND_SPRINGS, GARDEN_VALLEY, PENRYN\nTraceback:\n",
      "1. predict(fit, newdata = test)",
      "2. predict.glm(fit, newdata = test)",
      "3. predict.lm(object, newdata, se.fit, scale = 1, type = ifelse(type == \n .     \"link\", \"response\", type), terms = terms, na.action = na.action)",
      "4. model.frame(Terms, newdata, na.action = na.action, xlev = object$xlevels)",
      "5. model.frame.default(Terms, newdata, na.action = na.action, xlev = object$xlevels)",
      "6. stop(sprintf(ngettext(length(m), \"factor %s has new level %s\", \n .     \"factor %s has new levels %s\"), nm, paste(nxl[m], collapse = \", \")), \n .     domain = NA)"
     ]
    }
   ],
   "source": [
    "# Predict on the test set\n",
    "pred <- predict(fit, newdata = test)"
   ]
  },
  {
   "cell_type": "markdown",
   "metadata": {},
   "source": [
    "Above we have a slight issue.  The `city` column has new factor levels in the test set that were not present in the training set.  Even though the `train` and `test` data frames originated from a single data frame, `Sacramento`, and therefore have identical factor levels, we still run into this problem.  Let's take a closer look at the factor levels to see what's going on:"
   ]
  },
  {
   "cell_type": "code",
   "execution_count": 4,
   "metadata": {},
   "outputs": [
    {
     "name": "stdout",
     "output_type": "stream",
     "text": [
      "'data.frame':\t700 obs. of  9 variables:\n",
      " $ city     : Factor w/ 37 levels \"ANTELOPE\",\"AUBURN\",..: 34 34 34 34 34 29 31 34 34 34 ...\n",
      " $ zip      : Factor w/ 68 levels \"z95603\",\"z95608\",..: 52 44 44 53 65 24 25 44 51 66 ...\n",
      " $ beds     : int  3 2 2 2 3 2 3 1 3 2 ...\n",
      " $ baths    : num  1 1 1 1 1 2 2 1 1 2 ...\n",
      " $ sqft     : int  1167 796 852 797 1122 941 1146 871 1020 1022 ...\n",
      " $ type     : Factor w/ 3 levels \"Condo\",\"Multi_Family\",..: 3 3 3 3 1 1 3 3 3 3 ...\n",
      " $ price    : int  68212 68880 69307 81900 89921 94905 98937 106852 107502 108750 ...\n",
      " $ latitude : num  38.5 38.6 38.6 38.5 38.7 ...\n",
      " $ longitude: num  -121 -121 -121 -121 -121 ...\n"
     ]
    }
   ],
   "source": [
    "str(train)"
   ]
  },
  {
   "cell_type": "code",
   "execution_count": 5,
   "metadata": {},
   "outputs": [
    {
     "name": "stdout",
     "output_type": "stream",
     "text": [
      "'data.frame':\t232 obs. of  9 variables:\n",
      " $ city     : Factor w/ 37 levels \"ANTELOPE\",\"AUBURN\",..: 34 34 34 34 34 1 34 24 11 10 ...\n",
      " $ zip      : Factor w/ 68 levels \"z95603\",\"z95608\",..: 64 66 49 64 52 67 57 19 9 8 ...\n",
      " $ beds     : int  2 3 3 3 3 3 3 3 3 3 ...\n",
      " $ baths    : num  1 2 1 2 2 2 2 2 2 2 ...\n",
      " $ sqft     : int  836 1104 1177 909 1289 1088 1248 1152 1116 1056 ...\n",
      " $ type     : Factor w/ 3 levels \"Condo\",\"Multi_Family\",..: 3 3 3 3 3 3 3 3 3 3 ...\n",
      " $ price    : int  59222 90895 91002 100309 106250 126640 132000 134555 138750 156896 ...\n",
      " $ latitude : num  38.6 38.7 38.5 38.6 38.5 ...\n",
      " $ longitude: num  -121 -121 -121 -121 -121 ...\n"
     ]
    }
   ],
   "source": [
    "str(test)"
   ]
  },
  {
   "cell_type": "markdown",
   "metadata": {},
   "source": [
    "Although `train` and `test` have identical structure, not all the levels are represented in the training data.  To validate this, let's take a look at the actual unique levels that were used in the model:"
   ]
  },
  {
   "cell_type": "code",
   "execution_count": 6,
   "metadata": {},
   "outputs": [
    {
     "name": "stdout",
     "output_type": "stream",
     "text": [
      "[1] 34\n",
      "[1] 65\n",
      "[1] 3\n"
     ]
    },
    {
     "data": {
      "text/html": [
       "<dl class=dl-horizontal>\n",
       "\t<dt>city</dt>\n",
       "\t\t<dd>34</dd>\n",
       "\t<dt>zip</dt>\n",
       "\t\t<dd>65</dd>\n",
       "\t<dt>type</dt>\n",
       "\t\t<dd>3</dd>\n",
       "</dl>\n"
      ],
      "text/latex": [
       "\\begin{description*}\n",
       "\\item[city] 34\n",
       "\\item[zip] 65\n",
       "\\item[type] 3\n",
       "\\end{description*}\n"
      ],
      "text/markdown": [
       "city\n",
       ":   34zip\n",
       ":   65type\n",
       ":   3\n",
       "\n"
      ],
      "text/plain": [
       "city  zip type \n",
       "  34   65    3 "
      ]
     },
     "metadata": {},
     "output_type": "display_data"
    }
   ],
   "source": [
    "# Check the number of levels in the model features\n",
    "sapply(fit$xlevels, function(x) print(length(x)))"
   ]
  },
  {
   "cell_type": "markdown",
   "metadata": {},
   "source": [
    "We can manually fix this by updating the `xlevels` element of the model.  We have the same issue with `zip`, so we should go ahead and manually update that as well."
   ]
  },
  {
   "cell_type": "code",
   "execution_count": 7,
   "metadata": {
    "collapsed": true
   },
   "outputs": [],
   "source": [
    "# Update factor levels so that prediction works\n",
    "fit$xlevels[[\"city\"]] <- union(fit$xlevels[[\"city\"]], levels(test$city))\n",
    "fit$xlevels[[\"zip\"]] <- union(fit$xlevels[[\"zip\"]], levels(test$zip))"
   ]
  },
  {
   "cell_type": "code",
   "execution_count": 8,
   "metadata": {},
   "outputs": [
    {
     "name": "stderr",
     "output_type": "stream",
     "text": [
      "Warning message in predict.lm(object, newdata, se.fit, scale = 1, type = ifelse(type == :\n",
      "“prediction from a rank-deficient fit may be misleading”"
     ]
    },
    {
     "data": {
      "text/plain": [
       "\n",
       "Call:\n",
       "glm(formula = price ~ ., family = gaussian(), data = train)\n",
       "\n",
       "Deviance Residuals: \n",
       "    Min       1Q   Median       3Q      Max  \n",
       "-269404   -39233    -6677    27418   279476  \n",
       "\n",
       "Coefficients: (32 not defined because of singularities)\n",
       "                      Estimate Std. Error t value Pr(>|t|)    \n",
       "(Intercept)          7.434e+06  1.931e+07   0.385 0.700365    \n",
       "cityAUBURN           1.450e+05  7.163e+04   2.024 0.043348 *  \n",
       "cityCAMERON_PARK     3.497e+04  6.341e+04   0.551 0.581536    \n",
       "cityCARMICHAEL       8.019e+04  2.699e+04   2.971 0.003078 ** \n",
       "cityCITRUS_HEIGHTS  -8.352e+03  2.222e+04  -0.376 0.707161    \n",
       "cityCOOL             1.300e+05  1.015e+05   1.281 0.200691    \n",
       "cityEL_DORADO        3.534e+04  1.061e+05   0.333 0.739141    \n",
       "cityEL_DORADO_HILLS  1.243e+05  5.417e+04   2.295 0.022047 *  \n",
       "cityELK_GROVE       -6.302e+04  5.984e+04  -1.053 0.292688    \n",
       "cityELVERTA         -5.559e+04  5.066e+04  -1.097 0.272929    \n",
       "cityFAIR_OAKS        6.136e+04  3.307e+04   1.855 0.064008 .  \n",
       "cityFOLSOM           1.056e+05  4.168e+04   2.533 0.011540 *  \n",
       "cityFORESTHILL       7.605e+04  1.283e+05   0.593 0.553518    \n",
       "cityGALT            -9.711e+04  8.547e+04  -1.136 0.256354    \n",
       "cityGOLD_RIVER       3.459e+04  6.240e+04   0.554 0.579555    \n",
       "cityGRANITE_BAY      3.217e+05  7.939e+04   4.053 5.70e-05 ***\n",
       "cityGREENWOOD        7.445e+04  1.119e+05   0.665 0.506249    \n",
       "cityLINCOLN          3.605e+04  3.989e+04   0.904 0.366484    \n",
       "cityLOOMIS           3.754e+05  6.367e+04   5.896 6.08e-09 ***\n",
       "cityMATHER          -8.306e+04  7.679e+04  -1.082 0.279856    \n",
       "cityMEADOW_VISTA     1.221e+05  1.060e+05   1.153 0.249537    \n",
       "cityNORTH_HIGHLANDS -3.655e+04  2.425e+04  -1.507 0.132220    \n",
       "cityORANGEVALE       5.875e+04  3.518e+04   1.670 0.095465 .  \n",
       "cityPLACERVILLE      1.271e+05  9.188e+04   1.384 0.166998    \n",
       "cityPOLLOCK_PINES    3.648e+04  1.291e+05   0.283 0.777580    \n",
       "cityRANCHO_CORDOVA  -6.894e+04  4.502e+04  -1.531 0.126222    \n",
       "cityRANCHO_MURIETA  -1.675e+05  8.849e+04  -1.893 0.058780 .  \n",
       "cityRIO_LINDA       -2.221e+04  3.001e+04  -0.740 0.459428    \n",
       "cityROCKLIN          9.179e+04  3.562e+04   2.577 0.010205 *  \n",
       "cityROSEVILLE        9.536e+04  2.678e+04   3.560 0.000398 ***\n",
       "citySACRAMENTO       1.203e+05  4.113e+04   2.926 0.003561 ** \n",
       "cityWALNUT_GROVE     4.904e+04  1.173e+05   0.418 0.676124    \n",
       "cityWEST_SACRAMENTO -7.501e+04  6.405e+04  -1.171 0.242019    \n",
       "cityWILTON           1.265e+05  7.234e+04   1.749 0.080744 .  \n",
       "zipz95608                   NA         NA      NA       NA    \n",
       "zipz95610            7.732e+03  3.056e+04   0.253 0.800363    \n",
       "zipz95614                   NA         NA      NA       NA    \n",
       "zipz95621                   NA         NA      NA       NA    \n",
       "zipz95623                   NA         NA      NA       NA    \n",
       "zipz95624           -1.452e+03  2.038e+04  -0.071 0.943237    \n",
       "zipz95626                   NA         NA      NA       NA    \n",
       "zipz95628                   NA         NA      NA       NA    \n",
       "zipz95630                   NA         NA      NA       NA    \n",
       "zipz95631                   NA         NA      NA       NA    \n",
       "zipz95632                   NA         NA      NA       NA    \n",
       "zipz95635                   NA         NA      NA       NA    \n",
       "zipz95648                   NA         NA      NA       NA    \n",
       "zipz95650                   NA         NA      NA       NA    \n",
       "zipz95655                   NA         NA      NA       NA    \n",
       "zipz95660                   NA         NA      NA       NA    \n",
       "zipz95661            2.926e+04  3.994e+04   0.733 0.464062    \n",
       "zipz95662                   NA         NA      NA       NA    \n",
       "zipz95667                   NA         NA      NA       NA    \n",
       "zipz95670            5.343e+04  3.267e+04   1.635 0.102495    \n",
       "zipz95673                   NA         NA      NA       NA    \n",
       "zipz95677            1.607e+04  4.510e+04   0.356 0.721739    \n",
       "zipz95678           -4.077e+04  2.838e+04  -1.437 0.151329    \n",
       "zipz95682                   NA         NA      NA       NA    \n",
       "zipz95683                   NA         NA      NA       NA    \n",
       "zipz95690                   NA         NA      NA       NA    \n",
       "zipz95691                   NA         NA      NA       NA    \n",
       "zipz95693                   NA         NA      NA       NA    \n",
       "zipz95722                   NA         NA      NA       NA    \n",
       "zipz95726                   NA         NA      NA       NA    \n",
       "zipz95742                   NA         NA      NA       NA    \n",
       "zipz95746                   NA         NA      NA       NA    \n",
       "zipz95747                   NA         NA      NA       NA    \n",
       "zipz95757            1.339e+04  1.874e+04   0.715 0.475149    \n",
       "zipz95758                   NA         NA      NA       NA    \n",
       "zipz95762                   NA         NA      NA       NA    \n",
       "zipz95765                   NA         NA      NA       NA    \n",
       "zipz95811            1.067e+05  7.624e+04   1.400 0.162053    \n",
       "zipz95814           -7.275e+04  6.049e+04  -1.203 0.229549    \n",
       "zipz95815           -1.940e+05  3.691e+04  -5.256 2.02e-07 ***\n",
       "zipz95816           -2.631e+03  4.872e+04  -0.054 0.956956    \n",
       "zipz95817           -1.662e+05  4.612e+04  -3.605 0.000337 ***\n",
       "zipz95818           -5.284e+04  4.452e+04  -1.187 0.235783    \n",
       "zipz95819            1.074e+05  5.104e+04   2.104 0.035800 *  \n",
       "zipz95820           -1.712e+05  3.770e+04  -4.540 6.73e-06 ***\n",
       "zipz95821           -9.943e+04  4.344e+04  -2.289 0.022420 *  \n",
       "zipz95822           -1.762e+05  4.333e+04  -4.066 5.39e-05 ***\n",
       "zipz95823           -2.001e+05  4.157e+04  -4.813 1.86e-06 ***\n",
       "zipz95824           -2.056e+05  4.097e+04  -5.019 6.77e-07 ***\n",
       "zipz95825           -1.386e+05  3.719e+04  -3.727 0.000212 ***\n",
       "zipz95826           -1.435e+05  3.811e+04  -3.765 0.000182 ***\n",
       "zipz95827           -1.880e+05  4.005e+04  -4.694 3.30e-06 ***\n",
       "zipz95828           -2.005e+05  3.935e+04  -5.096 4.60e-07 ***\n",
       "zipz95829           -1.802e+05  4.471e+04  -4.030 6.25e-05 ***\n",
       "zipz95831           -1.137e+05  5.317e+04  -2.138 0.032914 *  \n",
       "zipz95832           -2.242e+05  4.891e+04  -4.584 5.52e-06 ***\n",
       "zipz95833           -1.549e+05  4.048e+04  -3.827 0.000143 ***\n",
       "zipz95834           -1.510e+05  4.150e+04  -3.639 0.000297 ***\n",
       "zipz95835           -1.202e+05  4.195e+04  -2.865 0.004309 ** \n",
       "zipz95838           -1.729e+05  3.648e+04  -4.741 2.64e-06 ***\n",
       "zipz95841           -7.757e+04  5.190e+04  -1.495 0.135538    \n",
       "zipz95842           -1.651e+05  3.921e+04  -4.210 2.93e-05 ***\n",
       "zipz95843                   NA         NA      NA       NA    \n",
       "zipz95864                   NA         NA      NA       NA    \n",
       "beds                -1.336e+04  5.016e+03  -2.664 0.007926 ** \n",
       "baths                1.314e+04  6.323e+03   2.078 0.038099 *  \n",
       "sqft                 1.148e+02  7.457e+00  15.388  < 2e-16 ***\n",
       "typeMulti_Family     3.034e+04  2.731e+04   1.111 0.266933    \n",
       "typeResidential      4.665e+04  1.298e+04   3.594 0.000351 ***\n",
       "latitude            -2.121e+05  1.895e+05  -1.120 0.263319    \n",
       "longitude           -6.519e+03  1.547e+05  -0.042 0.966399    \n",
       "---\n",
       "Signif. codes:  0 ‘***’ 0.001 ‘**’ 0.01 ‘*’ 0.05 ‘.’ 0.1 ‘ ’ 1\n",
       "\n",
       "(Dispersion parameter for gaussian family taken to be 4622177625)\n",
       "\n",
       "    Null deviance: 1.2350e+13  on 699  degrees of freedom\n",
       "Residual deviance: 2.8981e+12  on 627  degrees of freedom\n",
       "AIC: 17635\n",
       "\n",
       "Number of Fisher Scoring iterations: 2\n"
      ]
     },
     "metadata": {},
     "output_type": "display_data"
    }
   ],
   "source": [
    "# Predict on the test set\n",
    "pred <- predict(fit, newdata = test)\n",
    "summary(fit)"
   ]
  },
  {
   "cell_type": "code",
   "execution_count": 9,
   "metadata": {},
   "outputs": [
    {
     "data": {
      "text/html": [
       "0.0371512375879591"
      ],
      "text/latex": [
       "0.0371512375879591"
      ],
      "text/markdown": [
       "0.0371512375879591"
      ],
      "text/plain": [
       "[1] 0.03715124"
      ]
     },
     "metadata": {},
     "output_type": "display_data"
    },
    {
     "data": {
      "text/html": [
       "7173981.7581349"
      ],
      "text/latex": [
       "7173981.7581349"
      ],
      "text/markdown": [
       "7173981.7581349"
      ],
      "text/plain": [
       "[1] 7173982"
      ]
     },
     "metadata": {},
     "output_type": "display_data"
    }
   ],
   "source": [
    "# Compute model performance on the test set\n",
    "\n",
    "caret::R2(pred = pred, obs = test$price)\n",
    "caret::RMSE(pred = pred, obs = test$price)"
   ]
  },
  {
   "cell_type": "markdown",
   "metadata": {},
   "source": [
    "### GLM in caret\n",
    "\n",
    "Now let's run the same model using caret's glm method to get a sense of how much easier it is to use."
   ]
  },
  {
   "cell_type": "code",
   "execution_count": 10,
   "metadata": {},
   "outputs": [
    {
     "data": {
      "text/plain": [
       "\n",
       "Call:\n",
       "NULL\n",
       "\n",
       "Deviance Residuals: \n",
       "    Min       1Q   Median       3Q      Max  \n",
       "-269404   -39233    -6677    27418   279476  \n",
       "\n",
       "Coefficients: (38 not defined because of singularities)\n",
       "                      Estimate Std. Error t value Pr(>|t|)    \n",
       "(Intercept)          7.434e+06  1.931e+07   0.385 0.700365    \n",
       "cityAUBURN           1.450e+05  7.163e+04   2.024 0.043348 *  \n",
       "cityCAMERON_PARK     3.497e+04  6.341e+04   0.551 0.581536    \n",
       "cityCARMICHAEL       8.019e+04  2.699e+04   2.971 0.003078 ** \n",
       "cityCITRUS_HEIGHTS  -8.352e+03  2.222e+04  -0.376 0.707161    \n",
       "cityCOOL             1.300e+05  1.015e+05   1.281 0.200691    \n",
       "cityDIAMOND_SPRINGS         NA         NA      NA       NA    \n",
       "cityEL_DORADO        3.534e+04  1.061e+05   0.333 0.739141    \n",
       "cityEL_DORADO_HILLS  1.243e+05  5.417e+04   2.295 0.022047 *  \n",
       "cityELK_GROVE       -6.302e+04  5.984e+04  -1.053 0.292688    \n",
       "cityELVERTA         -5.559e+04  5.066e+04  -1.097 0.272929    \n",
       "cityFAIR_OAKS        6.136e+04  3.307e+04   1.855 0.064008 .  \n",
       "cityFOLSOM           1.056e+05  4.168e+04   2.533 0.011540 *  \n",
       "cityFORESTHILL       7.605e+04  1.283e+05   0.593 0.553518    \n",
       "cityGALT            -9.711e+04  8.547e+04  -1.136 0.256354    \n",
       "cityGARDEN_VALLEY           NA         NA      NA       NA    \n",
       "cityGOLD_RIVER       3.459e+04  6.240e+04   0.554 0.579555    \n",
       "cityGRANITE_BAY      3.217e+05  7.939e+04   4.053 5.70e-05 ***\n",
       "cityGREENWOOD        7.445e+04  1.119e+05   0.665 0.506249    \n",
       "cityLINCOLN          3.605e+04  3.989e+04   0.904 0.366484    \n",
       "cityLOOMIS           3.754e+05  6.367e+04   5.896 6.08e-09 ***\n",
       "cityMATHER          -8.306e+04  7.679e+04  -1.082 0.279856    \n",
       "cityMEADOW_VISTA     1.221e+05  1.060e+05   1.153 0.249537    \n",
       "cityNORTH_HIGHLANDS -3.655e+04  2.425e+04  -1.507 0.132220    \n",
       "cityORANGEVALE       5.875e+04  3.518e+04   1.670 0.095465 .  \n",
       "cityPENRYN                  NA         NA      NA       NA    \n",
       "cityPLACERVILLE      1.271e+05  9.188e+04   1.384 0.166998    \n",
       "cityPOLLOCK_PINES    3.648e+04  1.291e+05   0.283 0.777580    \n",
       "cityRANCHO_CORDOVA  -6.894e+04  4.502e+04  -1.531 0.126222    \n",
       "cityRANCHO_MURIETA  -1.675e+05  8.849e+04  -1.893 0.058780 .  \n",
       "cityRIO_LINDA       -2.221e+04  3.001e+04  -0.740 0.459428    \n",
       "cityROCKLIN          9.179e+04  3.562e+04   2.577 0.010205 *  \n",
       "cityROSEVILLE        9.536e+04  2.678e+04   3.560 0.000398 ***\n",
       "citySACRAMENTO       1.203e+05  4.113e+04   2.926 0.003561 ** \n",
       "cityWALNUT_GROVE     4.904e+04  1.173e+05   0.418 0.676124    \n",
       "cityWEST_SACRAMENTO -7.501e+04  6.405e+04  -1.171 0.242019    \n",
       "cityWILTON           1.265e+05  7.234e+04   1.749 0.080744 .  \n",
       "zipz95608                   NA         NA      NA       NA    \n",
       "zipz95610            7.732e+03  3.056e+04   0.253 0.800363    \n",
       "zipz95614                   NA         NA      NA       NA    \n",
       "zipz95619                   NA         NA      NA       NA    \n",
       "zipz95621                   NA         NA      NA       NA    \n",
       "zipz95623                   NA         NA      NA       NA    \n",
       "zipz95624           -1.452e+03  2.038e+04  -0.071 0.943237    \n",
       "zipz95626                   NA         NA      NA       NA    \n",
       "zipz95628                   NA         NA      NA       NA    \n",
       "zipz95630                   NA         NA      NA       NA    \n",
       "zipz95631                   NA         NA      NA       NA    \n",
       "zipz95632                   NA         NA      NA       NA    \n",
       "zipz95633                   NA         NA      NA       NA    \n",
       "zipz95635                   NA         NA      NA       NA    \n",
       "zipz95648                   NA         NA      NA       NA    \n",
       "zipz95650                   NA         NA      NA       NA    \n",
       "zipz95655                   NA         NA      NA       NA    \n",
       "zipz95660                   NA         NA      NA       NA    \n",
       "zipz95661            2.926e+04  3.994e+04   0.733 0.464062    \n",
       "zipz95662                   NA         NA      NA       NA    \n",
       "zipz95663                   NA         NA      NA       NA    \n",
       "zipz95667                   NA         NA      NA       NA    \n",
       "zipz95670            5.343e+04  3.267e+04   1.635 0.102495    \n",
       "zipz95673                   NA         NA      NA       NA    \n",
       "zipz95677            1.607e+04  4.510e+04   0.356 0.721739    \n",
       "zipz95678           -4.077e+04  2.838e+04  -1.437 0.151329    \n",
       "zipz95682                   NA         NA      NA       NA    \n",
       "zipz95683                   NA         NA      NA       NA    \n",
       "zipz95690                   NA         NA      NA       NA    \n",
       "zipz95691                   NA         NA      NA       NA    \n",
       "zipz95693                   NA         NA      NA       NA    \n",
       "zipz95722                   NA         NA      NA       NA    \n",
       "zipz95726                   NA         NA      NA       NA    \n",
       "zipz95742                   NA         NA      NA       NA    \n",
       "zipz95746                   NA         NA      NA       NA    \n",
       "zipz95747                   NA         NA      NA       NA    \n",
       "zipz95757            1.339e+04  1.874e+04   0.715 0.475149    \n",
       "zipz95758                   NA         NA      NA       NA    \n",
       "zipz95762                   NA         NA      NA       NA    \n",
       "zipz95765                   NA         NA      NA       NA    \n",
       "zipz95811            1.067e+05  7.624e+04   1.400 0.162053    \n",
       "zipz95814           -7.275e+04  6.049e+04  -1.203 0.229549    \n",
       "zipz95815           -1.940e+05  3.691e+04  -5.256 2.02e-07 ***\n",
       "zipz95816           -2.631e+03  4.872e+04  -0.054 0.956956    \n",
       "zipz95817           -1.662e+05  4.612e+04  -3.605 0.000337 ***\n",
       "zipz95818           -5.284e+04  4.452e+04  -1.187 0.235783    \n",
       "zipz95819            1.074e+05  5.104e+04   2.104 0.035800 *  \n",
       "zipz95820           -1.712e+05  3.770e+04  -4.540 6.73e-06 ***\n",
       "zipz95821           -9.943e+04  4.344e+04  -2.289 0.022420 *  \n",
       "zipz95822           -1.762e+05  4.333e+04  -4.066 5.39e-05 ***\n",
       "zipz95823           -2.001e+05  4.157e+04  -4.813 1.86e-06 ***\n",
       "zipz95824           -2.056e+05  4.097e+04  -5.019 6.77e-07 ***\n",
       "zipz95825           -1.386e+05  3.719e+04  -3.727 0.000212 ***\n",
       "zipz95826           -1.435e+05  3.811e+04  -3.765 0.000182 ***\n",
       "zipz95827           -1.880e+05  4.005e+04  -4.694 3.30e-06 ***\n",
       "zipz95828           -2.005e+05  3.935e+04  -5.096 4.60e-07 ***\n",
       "zipz95829           -1.802e+05  4.471e+04  -4.030 6.25e-05 ***\n",
       "zipz95831           -1.137e+05  5.317e+04  -2.138 0.032914 *  \n",
       "zipz95832           -2.242e+05  4.891e+04  -4.584 5.52e-06 ***\n",
       "zipz95833           -1.549e+05  4.048e+04  -3.827 0.000143 ***\n",
       "zipz95834           -1.510e+05  4.150e+04  -3.639 0.000297 ***\n",
       "zipz95835           -1.202e+05  4.195e+04  -2.865 0.004309 ** \n",
       "zipz95838           -1.729e+05  3.648e+04  -4.741 2.64e-06 ***\n",
       "zipz95841           -7.757e+04  5.190e+04  -1.495 0.135538    \n",
       "zipz95842           -1.651e+05  3.921e+04  -4.210 2.93e-05 ***\n",
       "zipz95843                   NA         NA      NA       NA    \n",
       "zipz95864                   NA         NA      NA       NA    \n",
       "beds                -1.336e+04  5.016e+03  -2.664 0.007926 ** \n",
       "baths                1.314e+04  6.323e+03   2.078 0.038099 *  \n",
       "sqft                 1.148e+02  7.457e+00  15.388  < 2e-16 ***\n",
       "typeMulti_Family     3.034e+04  2.731e+04   1.111 0.266933    \n",
       "typeResidential      4.665e+04  1.298e+04   3.594 0.000351 ***\n",
       "latitude            -2.121e+05  1.895e+05  -1.120 0.263319    \n",
       "longitude           -6.519e+03  1.547e+05  -0.042 0.966399    \n",
       "---\n",
       "Signif. codes:  0 ‘***’ 0.001 ‘**’ 0.01 ‘*’ 0.05 ‘.’ 0.1 ‘ ’ 1\n",
       "\n",
       "(Dispersion parameter for gaussian family taken to be 4622177625)\n",
       "\n",
       "    Null deviance: 1.2350e+13  on 699  degrees of freedom\n",
       "Residual deviance: 2.8981e+12  on 627  degrees of freedom\n",
       "AIC: 17635\n",
       "\n",
       "Number of Fisher Scoring iterations: 2\n"
      ]
     },
     "metadata": {},
     "output_type": "display_data"
    }
   ],
   "source": [
    "# Train a caret glm model\n",
    "fit <- caret::train(form = price ~ ., \n",
    "                    data = train, \n",
    "                    trControl = trainControl(method = \"none\"),   \n",
    "                    method = \"glm\",  \n",
    "                    family = gaussian())\n",
    "summary(fit$finalModel)"
   ]
  },
  {
   "cell_type": "code",
   "execution_count": 11,
   "metadata": {},
   "outputs": [
    {
     "name": "stderr",
     "output_type": "stream",
     "text": [
      "Warning message in predict.lm(object, newdata, se.fit, scale = 1, type = ifelse(type == :\n",
      "“prediction from a rank-deficient fit may be misleading”"
     ]
    }
   ],
   "source": [
    "# Predict on the test set\n",
    "pred <- predict(fit, newdata = test)"
   ]
  },
  {
   "cell_type": "code",
   "execution_count": 12,
   "metadata": {},
   "outputs": [
    {
     "data": {
      "text/html": [
       "0.733889319847418"
      ],
      "text/latex": [
       "0.733889319847418"
      ],
      "text/markdown": [
       "0.733889319847418"
      ],
      "text/plain": [
       "[1] 0.7338893"
      ]
     },
     "metadata": {},
     "output_type": "display_data"
    },
    {
     "data": {
      "text/html": [
       "66030.8440670652"
      ],
      "text/latex": [
       "66030.8440670652"
      ],
      "text/markdown": [
       "66030.8440670652"
      ],
      "text/plain": [
       "[1] 66030.84"
      ]
     },
     "metadata": {},
     "output_type": "display_data"
    }
   ],
   "source": [
    "# Compute model performance on the test set\n",
    "\n",
    "caret::R2(pred = pred, obs = test$price)\n",
    "caret::RMSE(pred = pred, obs = test$price)"
   ]
  },
  {
   "cell_type": "markdown",
   "metadata": {},
   "source": [
    "Ok, this looks much better.  And we didn't have to deal with the missing factor levels! :-)"
   ]
  },
  {
   "cell_type": "markdown",
   "metadata": {},
   "source": [
    "### h2o\n",
    "\n",
    "Authors: Tomas Nykodym, H2O.ai contributors\n",
    "\n",
    "Backend: Java\n",
    "\n",
    "The [h2o](https://cran.r-project.org/web/packages/h2o/index.html) package offers a data-distributed implementation of Generalized Linear Models.  A \"data-distribtued\" version uses distributed data frames, so that the whole design matrix does not need to fit into memory at once.  The h2o package fits both regularized and non-regularized GLMs.  The implementation details are documented [here](http://docs.h2o.ai/h2o/latest-stable/h2o-docs/booklets/GLMBooklet.pdf)."
   ]
  },
  {
   "cell_type": "code",
   "execution_count": 13,
   "metadata": {},
   "outputs": [],
   "source": [
    "#h2o.shutdown(prompt = FALSE)"
   ]
  },
  {
   "cell_type": "code",
   "execution_count": 14,
   "metadata": {},
   "outputs": [
    {
     "name": "stderr",
     "output_type": "stream",
     "text": [
      "\n",
      "----------------------------------------------------------------------\n",
      "\n",
      "Your next step is to start H2O:\n",
      "    > h2o.init()\n",
      "\n",
      "For H2O package documentation, ask for help:\n",
      "    > ??h2o\n",
      "\n",
      "After starting H2O, you can use the Web UI at http://localhost:54321\n",
      "For more information visit http://docs.h2o.ai\n",
      "\n",
      "----------------------------------------------------------------------\n",
      "\n",
      "\n",
      "Attaching package: ‘h2o’\n",
      "\n",
      "The following objects are masked from ‘package:stats’:\n",
      "\n",
      "    cor, sd, var\n",
      "\n",
      "The following objects are masked from ‘package:base’:\n",
      "\n",
      "    &&, %*%, %in%, ||, apply, as.factor, as.numeric, colnames,\n",
      "    colnames<-, ifelse, is.character, is.factor, is.numeric, log,\n",
      "    log10, log1p, log2, round, signif, trunc\n",
      "\n"
     ]
    },
    {
     "name": "stdout",
     "output_type": "stream",
     "text": [
      " Connection successful!\n",
      "\n",
      "R is connected to the H2O cluster: \n",
      "    H2O cluster uptime:         15 minutes 42 seconds \n",
      "    H2O cluster version:        3.10.5.3 \n",
      "    H2O cluster version age:    1 month and 8 days  \n",
      "    H2O cluster name:           H2O_started_from_R_robertstevens_ppr077 \n",
      "    H2O cluster total nodes:    1 \n",
      "    H2O cluster total memory:   3.44 GB \n",
      "    H2O cluster total cores:    8 \n",
      "    H2O cluster allowed cores:  8 \n",
      "    H2O cluster healthy:        TRUE \n",
      "    H2O Connection ip:          localhost \n",
      "    H2O Connection port:        54321 \n",
      "    H2O Connection proxy:       NA \n",
      "    H2O Internal Security:      FALSE \n",
      "    R Version:                  R version 3.4.1 (2017-06-30) \n",
      "\n"
     ]
    }
   ],
   "source": [
    "# h2o.glm example\n",
    "#install.packages(\"h2o\")\n",
    "library(h2o)\n",
    "h2o.init(nthreads = -1)  #Start a local H2O cluster using nthreads = num available cores"
   ]
  },
  {
   "cell_type": "markdown",
   "metadata": {},
   "source": [
    "Typically one would load a dataset in parallel from disk using the `h2o.importFile()` function, however for the purposes of this tutorial, we are going to use a tiny built-in R dataset, so we can send that data to the H2O cluster (from R memory) using the `as.h2o()` function.  We would also use the `h2o.splitFrame()` function to split the data instead of the `caret::createDataPartition()`, but for an apples-to-apples comparison with the methods above, it's good to use the same exact train and test split, generated the same way as above."
   ]
  },
  {
   "cell_type": "code",
   "execution_count": 15,
   "metadata": {},
   "outputs": [
    {
     "name": "stdout",
     "output_type": "stream",
     "text": [
      "\r",
      "  |                                                                            \r",
      "  |                                                                      |   0%\r",
      "  |                                                                            \r",
      "  |======================================================================| 100%\n"
     ]
    },
    {
     "data": {
      "text/html": [
       "<ol class=list-inline>\n",
       "\t<li>700</li>\n",
       "\t<li>9</li>\n",
       "</ol>\n"
      ],
      "text/latex": [
       "\\begin{enumerate*}\n",
       "\\item 700\n",
       "\\item 9\n",
       "\\end{enumerate*}\n"
      ],
      "text/markdown": [
       "1. 700\n",
       "2. 9\n",
       "\n",
       "\n"
      ],
      "text/plain": [
       "[1] 700   9"
      ]
     },
     "metadata": {},
     "output_type": "display_data"
    },
    {
     "data": {
      "text/html": [
       "<ol class=list-inline>\n",
       "\t<li>232</li>\n",
       "\t<li>9</li>\n",
       "</ol>\n"
      ],
      "text/latex": [
       "\\begin{enumerate*}\n",
       "\\item 232\n",
       "\\item 9\n",
       "\\end{enumerate*}\n"
      ],
      "text/markdown": [
       "1. 232\n",
       "2. 9\n",
       "\n",
       "\n"
      ],
      "text/plain": [
       "[1] 232   9"
      ]
     },
     "metadata": {},
     "output_type": "display_data"
    },
    {
     "data": {
      "text/html": [
       "<ol class=list-inline>\n",
       "\t<li>'city'</li>\n",
       "\t<li>'zip'</li>\n",
       "\t<li>'beds'</li>\n",
       "\t<li>'baths'</li>\n",
       "\t<li>'sqft'</li>\n",
       "\t<li>'type'</li>\n",
       "\t<li>'price'</li>\n",
       "\t<li>'latitude'</li>\n",
       "\t<li>'longitude'</li>\n",
       "</ol>\n"
      ],
      "text/latex": [
       "\\begin{enumerate*}\n",
       "\\item 'city'\n",
       "\\item 'zip'\n",
       "\\item 'beds'\n",
       "\\item 'baths'\n",
       "\\item 'sqft'\n",
       "\\item 'type'\n",
       "\\item 'price'\n",
       "\\item 'latitude'\n",
       "\\item 'longitude'\n",
       "\\end{enumerate*}\n"
      ],
      "text/markdown": [
       "1. 'city'\n",
       "2. 'zip'\n",
       "3. 'beds'\n",
       "4. 'baths'\n",
       "5. 'sqft'\n",
       "6. 'type'\n",
       "7. 'price'\n",
       "8. 'latitude'\n",
       "9. 'longitude'\n",
       "\n",
       "\n"
      ],
      "text/plain": [
       "[1] \"city\"      \"zip\"       \"beds\"      \"baths\"     \"sqft\"      \"type\"     \n",
       "[7] \"price\"     \"latitude\"  \"longitude\""
      ]
     },
     "metadata": {},
     "output_type": "display_data"
    }
   ],
   "source": [
    "# Load Sacramento dataset\n",
    "library(caret)\n",
    "data(\"Sacramento\")\n",
    "\n",
    "# Convert the data into an H2OFrame\n",
    "sac <- as.h2o(Sacramento)\n",
    "\n",
    "# Split the data into a 70/25% train/test sets\n",
    "set.seed(1)\n",
    "idxs <- caret::createDataPartition(y = Sacramento$price, p = 0.75)[[1]]\n",
    "train <- sac[idxs,]\n",
    "test <- sac[-idxs,]\n",
    "\n",
    "# Dimensions\n",
    "dim(train)\n",
    "dim(test)\n",
    "\n",
    "# Columns\n",
    "names(train)"
   ]
  },
  {
   "cell_type": "code",
   "execution_count": 16,
   "metadata": {},
   "outputs": [
    {
     "name": "stdout",
     "output_type": "stream",
     "text": [
      "\r",
      "  |                                                                            \r",
      "  |                                                                      |   0%\r",
      "  |                                                                            \r",
      "  |======================================================================| 100%\n"
     ]
    },
    {
     "data": {
      "text/plain": [
       "   user  system elapsed \n",
       "  0.198   0.006   0.275 "
      ]
     },
     "metadata": {},
     "output_type": "display_data"
    }
   ],
   "source": [
    "# Identify the predictor columns\n",
    "xcols <- setdiff(names(train), \"price\")\n",
    "\n",
    "# Train a default GLM model with no regularization\n",
    "system.time(fit <- h2o.glm(x = xcols,\n",
    "                           y = \"price\",\n",
    "                           training_frame = train,\n",
    "                           family = \"gaussian\",\n",
    "                           lambda = 0))  #lambda = 0 means no regularization"
   ]
  },
  {
   "cell_type": "code",
   "execution_count": 17,
   "metadata": {},
   "outputs": [
    {
     "name": "stdout",
     "output_type": "stream",
     "text": [
      "Model Details:\n",
      "==============\n",
      "\n",
      "H2ORegressionModel: glm\n",
      "Model Key:  GLM_model_R_1502162171177_4340 \n",
      "GLM Model: summary\n",
      "    family     link regularization number_of_predictors_total\n",
      "1 gaussian identity           None                        110\n",
      "  number_of_active_predictors number_of_iterations  training_frame\n",
      "1                         104                    0 RTMP_sid_adfc_2\n",
      "\n",
      "H2ORegressionMetrics: glm\n",
      "** Reported on training data. **\n",
      "\n",
      "MSE:  4140191405\n",
      "RMSE:  64344.32\n",
      "MAE:  46055.84\n",
      "RMSLE:  0.2853132\n",
      "Mean Residual Deviance :  4140191405\n",
      "R^2 :  0.7653286\n",
      "Null Deviance :1.234975e+13\n",
      "Null D.o.F. :699\n",
      "Residual Deviance :2.898134e+12\n",
      "Residual D.o.F. :595\n",
      "AIC :17699.32\n",
      "\n",
      "\n",
      "\n",
      "\n",
      "\n",
      "Scoring History: \n",
      "            timestamp   duration iteration negative_log_likelihood\n",
      "1 2017-08-07 22:32:07  0.000 sec         0    12349752226576.09961\n",
      "          objective\n",
      "1 17642503180.82300\n",
      "\n",
      "Variable Importances: (Extract with `h2o.varimp`) \n",
      "=================================================\n",
      "\n",
      "Standardized Coefficient Magnitudes: standardized coefficient magnitudes\n",
      "        names  coefficients sign\n",
      "1  zip.z95819 226542.703922  POS\n",
      "2  zip.z95811 224933.815960  POS\n",
      "3  zip.z95650 161683.933044  POS\n",
      "4 city.LOOMIS 161683.933044  POS\n",
      "5  zip.z95746 134784.591570  POS\n",
      "\n",
      "---\n",
      "                   names coefficients sign\n",
      "105           zip.z95619     0.000000  POS\n",
      "106           zip.z95633     0.000000  POS\n",
      "107           zip.z95663     0.000000  POS\n",
      "108 city.DIAMOND_SPRINGS     0.000000  POS\n",
      "109   city.GARDEN_VALLEY     0.000000  POS\n",
      "110          city.PENRYN     0.000000  POS\n"
     ]
    }
   ],
   "source": [
    "summary(fit)"
   ]
  },
  {
   "cell_type": "code",
   "execution_count": 18,
   "metadata": {},
   "outputs": [
    {
     "data": {
      "text/html": [
       "0.737770566620389"
      ],
      "text/latex": [
       "0.737770566620389"
      ],
      "text/markdown": [
       "0.737770566620389"
      ],
      "text/plain": [
       "[1] 0.7377706"
      ]
     },
     "metadata": {},
     "output_type": "display_data"
    },
    {
     "data": {
      "text/html": [
       "64293.337537164"
      ],
      "text/latex": [
       "64293.337537164"
      ],
      "text/markdown": [
       "64293.337537164"
      ],
      "text/plain": [
       "[1] 64293.34"
      ]
     },
     "metadata": {},
     "output_type": "display_data"
    }
   ],
   "source": [
    "# H2O computes many model performance metrics automatically, accessible by utility functions\n",
    "\n",
    "perf <- h2o.performance(model = fit, newdata = test)\n",
    "h2o.r2(perf)\n",
    "sqrt(h2o.mse(perf))"
   ]
  },
  {
   "cell_type": "markdown",
   "metadata": {},
   "source": [
    "### speedglm\n",
    "\n",
    "Also worth metioning is the [speedglm](https://cran.r-project.org/web/packages/speedglm/index.html) package, which fits Linear and Generalized Linear Models to large data sets. This is particularly useful if R is linked against an optimized [BLAS](https://en.wikipedia.org/wiki/Basic_Linear_Algebra_Subprograms). For data sets of size greater of R memory, the fitting is performed by an iterative algorithm."
   ]
  },
  {
   "cell_type": "markdown",
   "metadata": {},
   "source": [
    "## Regularized GLM in R\n",
    "\n",
    "Ok, so let's assume that we have wide, sparse, collinear or big data.  If your training set falls into any of those categories, it might be a good idea to use a regularlized GLM.\n",
    "\n",
    "### glmnet\n",
    "\n",
    "Authors: [Jerome Friedman](https://statweb.stanford.edu/~jhf/), [Trevor Hastie](http://web.stanford.edu/~hastie/), [Noah Simon](http://faculty.washington.edu/nrsimon/), [Rob Tibshirani](http://statweb.stanford.edu/~tibs/)\n",
    "\n",
    "Backend: [Mortran](https://en.wikipedia.org/wiki/Mortran) (extension of Fortran used for scientific computation)\n",
    "\n",
    "[glmnet](http://web.stanford.edu/~hastie/glmnet/glmnet_beta.html) is a package that fits a generalized linear model via penalized maximum likelihood. The regularization path is computed for the lasso or elastic-net penalty at a grid of values for the regularization parameter lambda. The algorithm is extremely fast, and can exploit sparsity in the input matrix $\\boldsymbol{X}$.\n",
    "\n",
    "Features:\n",
    "\n",
    "- The code can handle sparse input-matrix formats, as well as range constraints on coefficients. \n",
    "- Glmnet also makes use of the strong rules for efficient restriction of the active set.  \n",
    "- The core of Glmnet is a set of fortran subroutines, which make for very fast execution. \n",
    "- The algorithms use coordinate descent with warm starts and active set iterations. \n",
    "- Supports the following distributions: `\"gaussian\",\"binomial\",\"poisson\",\"multinomial\",\"cox\",\"mgaussian\"`\n",
    "- Supports standardization and offsets.\n",
    "\n",
    "The Glmnet package is a fast implementation, but it requires some extra processing up-front to your data if it's not already represented as a numeric matrix.  For example, if you have categorical data or missing data, you need to deal with that yourself."
   ]
  },
  {
   "cell_type": "code",
   "execution_count": 19,
   "metadata": {},
   "outputs": [
    {
     "name": "stderr",
     "output_type": "stream",
     "text": [
      "Loading required package: Matrix\n",
      "Loading required package: foreach\n",
      "Loaded glmnet 2.0-10\n",
      "\n"
     ]
    }
   ],
   "source": [
    "#install.packages(\"glmnet\")\n",
    "#install.packages(\"Cairo\")  #for plotting lasso coefficients in Jupyter notebook\n",
    "library(glmnet)"
   ]
  },
  {
   "cell_type": "code",
   "execution_count": 20,
   "metadata": {},
   "outputs": [
    {
     "name": "stdout",
     "output_type": "stream",
     "text": [
      " num [1:100, 1:20] 0.274 2.245 -0.125 -0.544 -1.459 ...\n"
     ]
    },
    {
     "data": {
      "text/html": [
       "'matrix'"
      ],
      "text/latex": [
       "'matrix'"
      ],
      "text/markdown": [
       "'matrix'"
      ],
      "text/plain": [
       "[1] \"matrix\""
      ]
     },
     "metadata": {},
     "output_type": "display_data"
    }
   ],
   "source": [
    "data(\"QuickStartExample\")  #loads 'x' and 'y'\n",
    "str(x)\n",
    "class(x)"
   ]
  },
  {
   "cell_type": "code",
   "execution_count": 21,
   "metadata": {
    "collapsed": true
   },
   "outputs": [],
   "source": [
    "fit <- glmnet(x, y)"
   ]
  },
  {
   "cell_type": "markdown",
   "metadata": {},
   "source": [
    "We can visualize the coefficients by executing the `plot` function.  Each curve corresponds to a variable. It shows the path of its coefficient against the $\\ell_1$-norm of the whole coefficient vector at as $\\lambda$ varies. The axis above indicates the number of nonzero coefficients at the current $\\lambda$, which is the effective degrees of freedom for the lasso."
   ]
  },
  {
   "cell_type": "code",
   "execution_count": 22,
   "metadata": {},
   "outputs": [
    {
     "data": {
      "image/png": "[encoded data removed]",
      "text/plain": [
       "plot without title"
      ]
     },
     "metadata": {},
     "output_type": "display_data"
    }
   ],
   "source": [
    "plot(fit)"
   ]
  },
  {
   "cell_type": "code",
   "execution_count": null,
   "metadata": {
    "collapsed": true
   },
   "outputs": [],
   "source": [
    "# TO DO: Add caret::twoClassSim example for comparison instead of \"QuickStartExample\""
   ]
  },
  {
   "cell_type": "code",
   "execution_count": 28,
   "metadata": {},
   "outputs": [
    {
     "data": {
      "text/html": [
       "<ol class=list-inline>\n",
       "\t<li>100000</li>\n",
       "\t<li>116</li>\n",
       "</ol>\n"
      ],
      "text/latex": [
       "\\begin{enumerate*}\n",
       "\\item 100000\n",
       "\\item 116\n",
       "\\end{enumerate*}\n"
      ],
      "text/markdown": [
       "1. 100000\n",
       "2. 116\n",
       "\n",
       "\n"
      ],
      "text/plain": [
       "[1] 100000    116"
      ]
     },
     "metadata": {},
     "output_type": "display_data"
    }
   ],
   "source": [
    "# Simulate a binary response dataset\n",
    "library(caret)\n",
    "set.seed(1)\n",
    "df <- caret::twoClassSim(n = 100000,\n",
    "                         linearVars = 10, \n",
    "                         noiseVars = 50, \n",
    "                         corrVars = 50)\n",
    "dim(df)"
   ]
  },
  {
   "cell_type": "code",
   "execution_count": 29,
   "metadata": {},
   "outputs": [
    {
     "data": {
      "text/html": [
       "<ol class=list-inline>\n",
       "\t<li>75000</li>\n",
       "\t<li>115</li>\n",
       "</ol>\n"
      ],
      "text/latex": [
       "\\begin{enumerate*}\n",
       "\\item 75000\n",
       "\\item 115\n",
       "\\end{enumerate*}\n"
      ],
      "text/markdown": [
       "1. 75000\n",
       "2. 115\n",
       "\n",
       "\n"
      ],
      "text/plain": [
       "[1] 75000   115"
      ]
     },
     "metadata": {},
     "output_type": "display_data"
    },
    {
     "data": {
      "text/html": [
       "75000"
      ],
      "text/latex": [
       "75000"
      ],
      "text/markdown": [
       "75000"
      ],
      "text/plain": [
       "[1] 75000"
      ]
     },
     "metadata": {},
     "output_type": "display_data"
    },
    {
     "data": {
      "text/html": [
       "<ol class=list-inline>\n",
       "\t<li>25000</li>\n",
       "\t<li>115</li>\n",
       "</ol>\n"
      ],
      "text/latex": [
       "\\begin{enumerate*}\n",
       "\\item 25000\n",
       "\\item 115\n",
       "\\end{enumerate*}\n"
      ],
      "text/markdown": [
       "1. 25000\n",
       "2. 115\n",
       "\n",
       "\n"
      ],
      "text/plain": [
       "[1] 25000   115"
      ]
     },
     "metadata": {},
     "output_type": "display_data"
    },
    {
     "data": {
      "text/html": [
       "25000"
      ],
      "text/latex": [
       "25000"
      ],
      "text/markdown": [
       "25000"
      ],
      "text/plain": [
       "[1] 25000"
      ]
     },
     "metadata": {},
     "output_type": "display_data"
    }
   ],
   "source": [
    "# Identify the response & predictor columns\n",
    "ycol <- \"Class\"\n",
    "xcols <- setdiff(names(df), ycol)\n",
    "df[ , ycol] <- ifelse(df[ , ycol] == \"Class1\", 0, 1)\n",
    "\n",
    "# Split the data into a 70/25% train/test sets\n",
    "set.seed(1)\n",
    "idxs <- caret::createDataPartition(y = df[,ycol], p = 0.75)[[1]]\n",
    "train <- df[idxs, ]\n",
    "test <- df[-idxs, ]\n",
    "train_y <- df[idxs, ycol]\n",
    "test_y <- df[-idxs, ycol]\n",
    "train_x <- model.matrix(~ -1 + ., train[, xcols])\n",
    "test_x <- model.matrix(~ -1 + ., test[, xcols])\n",
    "\n",
    "\n",
    "# Dimensions\n",
    "dim(train_x)\n",
    "length(train_y)\n",
    "dim(test_x)\n",
    "length(test_y)"
   ]
  },
  {
   "cell_type": "code",
   "execution_count": 30,
   "metadata": {},
   "outputs": [
    {
     "data": {
      "text/html": [
       "<ol class=list-inline>\n",
       "\t<li>0</li>\n",
       "\t<li>1</li>\n",
       "\t<li>1</li>\n",
       "\t<li>0</li>\n",
       "\t<li>0</li>\n",
       "\t<li>0</li>\n",
       "</ol>\n"
      ],
      "text/latex": [
       "\\begin{enumerate*}\n",
       "\\item 0\n",
       "\\item 1\n",
       "\\item 1\n",
       "\\item 0\n",
       "\\item 0\n",
       "\\item 0\n",
       "\\end{enumerate*}\n"
      ],
      "text/markdown": [
       "1. 0\n",
       "2. 1\n",
       "3. 1\n",
       "4. 0\n",
       "5. 0\n",
       "6. 0\n",
       "\n",
       "\n"
      ],
      "text/plain": [
       "[1] 0 1 1 0 0 0"
      ]
     },
     "metadata": {},
     "output_type": "display_data"
    }
   ],
   "source": [
    "head(test_y)"
   ]
  },
  {
   "cell_type": "code",
   "execution_count": 31,
   "metadata": {},
   "outputs": [
    {
     "data": {
      "text/plain": [
       "   user  system elapsed \n",
       " 44.013   1.107  45.232 "
      ]
     },
     "metadata": {},
     "output_type": "display_data"
    }
   ],
   "source": [
    "# Train a Lasso GLM\n",
    "system.time(cvfit <- cv.glmnet(x = train_x,\n",
    "                               y = train_y,\n",
    "                               family = \"binomial\",\n",
    "                               alpha = 1.0))  # alpha = 1 means lasso by default"
   ]
  },
  {
   "cell_type": "code",
   "execution_count": 32,
   "metadata": {},
   "outputs": [
    {
     "data": {
      "text/html": [
       "<table>\n",
       "<thead><tr><th></th><th scope=col>1</th></tr></thead>\n",
       "<tbody>\n",
       "\t<tr><th scope=row>2</th><td>0.3136236</td></tr>\n",
       "\t<tr><th scope=row>14</th><td>0.6544411</td></tr>\n",
       "\t<tr><th scope=row>15</th><td>0.9269314</td></tr>\n",
       "\t<tr><th scope=row>21</th><td>0.1027764</td></tr>\n",
       "\t<tr><th scope=row>29</th><td>0.6640567</td></tr>\n",
       "\t<tr><th scope=row>30</th><td>0.5079524</td></tr>\n",
       "</tbody>\n",
       "</table>\n"
      ],
      "text/latex": [
       "\\begin{tabular}{r|l}\n",
       "  & 1\\\\\n",
       "\\hline\n",
       "\t2 & 0.3136236\\\\\n",
       "\t14 & 0.6544411\\\\\n",
       "\t15 & 0.9269314\\\\\n",
       "\t21 & 0.1027764\\\\\n",
       "\t29 & 0.6640567\\\\\n",
       "\t30 & 0.5079524\\\\\n",
       "\\end{tabular}\n"
      ],
      "text/markdown": [
       "\n",
       "| <!--/--> | 1 | \n",
       "|---|---|---|---|---|---|\n",
       "| 2 | 0.3136236 | \n",
       "| 14 | 0.6544411 | \n",
       "| 15 | 0.9269314 | \n",
       "| 21 | 0.1027764 | \n",
       "| 29 | 0.6640567 | \n",
       "| 30 | 0.5079524 | \n",
       "\n",
       "\n"
      ],
      "text/plain": [
       "   1        \n",
       "2  0.3136236\n",
       "14 0.6544411\n",
       "15 0.9269314\n",
       "21 0.1027764\n",
       "29 0.6640567\n",
       "30 0.5079524"
      ]
     },
     "metadata": {},
     "output_type": "display_data"
    }
   ],
   "source": [
    "preds <- predict(cvfit$glmnet.fit, \n",
    "                newx = test_x, \n",
    "                s = cvfit$lambda.min, \n",
    "                type = \"response\")\n",
    "head(preds)"
   ]
  },
  {
   "cell_type": "code",
   "execution_count": 33,
   "metadata": {},
   "outputs": [
    {
     "name": "stderr",
     "output_type": "stream",
     "text": [
      "Loading required package: ROCR\n",
      "Loading required package: gplots\n",
      "\n",
      "Attaching package: ‘gplots’\n",
      "\n",
      "The following object is masked from ‘package:stats’:\n",
      "\n",
      "    lowess\n",
      "\n",
      "Loading required package: data.table\n",
      "\n",
      "Attaching package: ‘data.table’\n",
      "\n",
      "The following objects are masked from ‘package:h2o’:\n",
      "\n",
      "    hour, month, week, year\n",
      "\n",
      " \n",
      "cvAUC version: 1.1.0\n",
      "Notice to cvAUC users: Major speed improvements in version 1.1.0\n",
      " \n"
     ]
    },
    {
     "data": {
      "text/html": [
       "0.908288759734547"
      ],
      "text/latex": [
       "0.908288759734547"
      ],
      "text/markdown": [
       "0.908288759734547"
      ],
      "text/plain": [
       "[1] 0.9082888"
      ]
     },
     "metadata": {},
     "output_type": "display_data"
    }
   ],
   "source": [
    "#install.packages(\"cvAUC\")\n",
    "library(cvAUC)\n",
    "\n",
    "cvAUC::AUC(predictions = preds, labels = test_y)"
   ]
  },
  {
   "cell_type": "code",
   "execution_count": 34,
   "metadata": {},
   "outputs": [
    {
     "data": {
      "image/png": "[encoded data removed]",
      "text/plain": [
       "plot without title"
      ]
     },
     "metadata": {},
     "output_type": "display_data"
    }
   ],
   "source": [
    "plot(cvfit)"
   ]
  },
  {
   "cell_type": "code",
   "execution_count": 35,
   "metadata": {},
   "outputs": [
    {
     "data": {
      "text/plain": [
       "116 x 1 sparse Matrix of class \"dgCMatrix\"\n",
       "                        1\n",
       "(Intercept) -8.499067e-01\n",
       "TwoFactor1  -1.496125e+00\n",
       "TwoFactor2   1.499321e+00\n",
       "Linear01     6.028101e-03\n",
       "Linear02    -9.881539e-01\n",
       "Linear03     8.945190e-01\n",
       "Linear04    -7.841655e-01\n",
       "Linear05     7.087525e-01\n",
       "Linear06    -5.750003e-01\n",
       "Linear07     5.090654e-01\n",
       "Linear08    -3.687028e-01\n",
       "Linear09     2.825630e-01\n",
       "Linear10    -1.949350e-01\n",
       "Nonlinear1   5.949233e-01\n",
       "Nonlinear2   5.011606e-01\n",
       "Nonlinear3   5.991373e-01\n",
       "Noise01      .           \n",
       "Noise02      1.043126e-02\n",
       "Noise03     -1.079100e-02\n",
       "Noise04     -4.079763e-03\n",
       "Noise05     -6.621020e-03\n",
       "Noise06      .           \n",
       "Noise07      .           \n",
       "Noise08      .           \n",
       "Noise09      .           \n",
       "Noise10     -5.318611e-03\n",
       "Noise11      .           \n",
       "Noise12     -1.448212e-03\n",
       "Noise13      .           \n",
       "Noise14      .           \n",
       "Noise15      3.953435e-03\n",
       "Noise16      1.496612e-03\n",
       "Noise17      .           \n",
       "Noise18     -2.786811e-02\n",
       "Noise19     -8.935897e-03\n",
       "Noise20      .           \n",
       "Noise21      .           \n",
       "Noise22     -4.122149e-04\n",
       "Noise23      .           \n",
       "Noise24      1.144595e-03\n",
       "Noise25      .           \n",
       "Noise26      1.545308e-05\n",
       "Noise27     -5.072743e-04\n",
       "Noise28      .           \n",
       "Noise29      1.547957e-02\n",
       "Noise30      2.389787e-03\n",
       "Noise31      .           \n",
       "Noise32      .           \n",
       "Noise33      1.847837e-02\n",
       "Noise34      .           \n",
       "Noise35     -4.539139e-03\n",
       "Noise36     -2.165010e-03\n",
       "Noise37      1.943341e-03\n",
       "Noise38      .           \n",
       "Noise39      .           \n",
       "Noise40     -1.884715e-03\n",
       "Noise41      1.078694e-03\n",
       "Noise42     -2.918962e-03\n",
       "Noise43     -2.241667e-02\n",
       "Noise44      .           \n",
       "Noise45     -1.786077e-02\n",
       "Noise46      1.567997e-02\n",
       "Noise47      .           \n",
       "Noise48      .           \n",
       "Noise49      .           \n",
       "Noise50     -2.527231e-03\n",
       "Corr01      -5.904499e-03\n",
       "Corr02       .           \n",
       "Corr03       1.619447e-02\n",
       "Corr04       .           \n",
       "Corr05       .           \n",
       "Corr06       .           \n",
       "Corr07      -1.296268e-03\n",
       "Corr08       2.929869e-03\n",
       "Corr09      -1.679474e-04\n",
       "Corr10      -9.952873e-03\n",
       "Corr11       9.102425e-03\n",
       "Corr12       3.331698e-03\n",
       "Corr13       1.112319e-02\n",
       "Corr14       2.380530e-03\n",
       "Corr15      -5.195192e-03\n",
       "Corr16       .           \n",
       "Corr17      -4.792742e-03\n",
       "Corr18       .           \n",
       "Corr19       8.788540e-03\n",
       "Corr20       .           \n",
       "Corr21       .           \n",
       "Corr22      -3.723667e-03\n",
       "Corr23       .           \n",
       "Corr24       .           \n",
       "Corr25       .           \n",
       "Corr26       2.424824e-03\n",
       "Corr27       5.182962e-03\n",
       "Corr28       1.605529e-02\n",
       "Corr29      -2.408643e-03\n",
       "Corr30      -7.077034e-03\n",
       "Corr31       1.334984e-03\n",
       "Corr32       4.814510e-03\n",
       "Corr33       1.501322e-03\n",
       "Corr34       .           \n",
       "Corr35       .           \n",
       "Corr36       .           \n",
       "Corr37       .           \n",
       "Corr38       .           \n",
       "Corr39      -1.158199e-02\n",
       "Corr40       2.029108e-03\n",
       "Corr41       .           \n",
       "Corr42       1.411356e-02\n",
       "Corr43      -5.467538e-03\n",
       "Corr44      -1.695730e-03\n",
       "Corr45       .           \n",
       "Corr46       .           \n",
       "Corr47       1.098306e-02\n",
       "Corr48       4.903808e-03\n",
       "Corr49       .           \n",
       "Corr50      -5.254090e-03"
      ]
     },
     "metadata": {},
     "output_type": "display_data"
    }
   ],
   "source": [
    "coef(cvfit, s = \"lambda.min\")"
   ]
  },
  {
   "cell_type": "markdown",
   "metadata": {},
   "source": [
    "### h2o\n",
    "\n",
    "Introduced in the previous section, the h2o package can perform unregularized or regularized regression.  By default, `h2o.glm` will perform an Elastic Net regression.  Similar to the `glmnet` function, you can adjust the Elastic Net penalty through the `alpha` parameter (`alpha = 1.0` is Lasso and `alpha = 0.0` is Ridge)."
   ]
  },
  {
   "cell_type": "code",
   "execution_count": 36,
   "metadata": {},
   "outputs": [
    {
     "data": {
      "text/html": [
       "<ol class=list-inline>\n",
       "\t<li>100000</li>\n",
       "\t<li>116</li>\n",
       "</ol>\n"
      ],
      "text/latex": [
       "\\begin{enumerate*}\n",
       "\\item 100000\n",
       "\\item 116\n",
       "\\end{enumerate*}\n"
      ],
      "text/markdown": [
       "1. 100000\n",
       "2. 116\n",
       "\n",
       "\n"
      ],
      "text/plain": [
       "[1] 100000    116"
      ]
     },
     "metadata": {},
     "output_type": "display_data"
    }
   ],
   "source": [
    "# Simulate a binary response dataset\n",
    "library(caret)\n",
    "set.seed(1)\n",
    "df <- caret::twoClassSim(n = 100000,\n",
    "                         linearVars = 10, \n",
    "                         noiseVars = 50, \n",
    "                         corrVars = 50)\n",
    "dim(df)"
   ]
  },
  {
   "cell_type": "code",
   "execution_count": 37,
   "metadata": {},
   "outputs": [
    {
     "name": "stdout",
     "output_type": "stream",
     "text": [
      " Connection successful!\n",
      "\n",
      "R is connected to the H2O cluster: \n",
      "    H2O cluster uptime:         23 minutes 53 seconds \n",
      "    H2O cluster version:        3.10.5.3 \n",
      "    H2O cluster version age:    1 month and 8 days  \n",
      "    H2O cluster name:           H2O_started_from_R_robertstevens_ppr077 \n",
      "    H2O cluster total nodes:    1 \n",
      "    H2O cluster total memory:   3.44 GB \n",
      "    H2O cluster total cores:    8 \n",
      "    H2O cluster allowed cores:  8 \n",
      "    H2O cluster healthy:        TRUE \n",
      "    H2O Connection ip:          localhost \n",
      "    H2O Connection port:        54321 \n",
      "    H2O Connection proxy:       NA \n",
      "    H2O Internal Security:      FALSE \n",
      "    R Version:                  R version 3.4.1 (2017-06-30) \n",
      "\n",
      "  |======================================================================| 100%\n"
     ]
    }
   ],
   "source": [
    "# Convert the data into an H2OFrame\n",
    "library(h2o)\n",
    "h2o.init(nthreads = -1)\n",
    "hf <- as.h2o(df)"
   ]
  },
  {
   "cell_type": "code",
   "execution_count": 38,
   "metadata": {
    "collapsed": true
   },
   "outputs": [],
   "source": [
    "# Identify the response & predictor columns\n",
    "ycol <- \"Class\"\n",
    "xcols <- setdiff(names(hf), ycol)\n",
    "\n",
    "# Convert the 0/1 binary response to a factor \n",
    "hf[ , ycol] <- as.factor(hf[ , ycol])"
   ]
  },
  {
   "cell_type": "code",
   "execution_count": 98,
   "metadata": {},
   "outputs": [
    {
     "data": {
      "text/html": [
       "<ol class=list-inline>\n",
       "\t<li>100000</li>\n",
       "\t<li>116</li>\n",
       "</ol>\n"
      ],
      "text/latex": [
       "\\begin{enumerate*}\n",
       "\\item 100000\n",
       "\\item 116\n",
       "\\end{enumerate*}\n"
      ],
      "text/markdown": [
       "1. 100000\n",
       "2. 116\n",
       "\n",
       "\n"
      ],
      "text/plain": [
       "[1] 100000    116"
      ]
     },
     "metadata": {},
     "output_type": "display_data"
    }
   ],
   "source": [
    "dim(df)"
   ]
  },
  {
   "cell_type": "code",
   "execution_count": 39,
   "metadata": {},
   "outputs": [
    {
     "data": {
      "text/html": [
       "<ol class=list-inline>\n",
       "\t<li>75001</li>\n",
       "\t<li>116</li>\n",
       "</ol>\n"
      ],
      "text/latex": [
       "\\begin{enumerate*}\n",
       "\\item 75001\n",
       "\\item 116\n",
       "\\end{enumerate*}\n"
      ],
      "text/markdown": [
       "1. 75001\n",
       "2. 116\n",
       "\n",
       "\n"
      ],
      "text/plain": [
       "[1] 75001   116"
      ]
     },
     "metadata": {},
     "output_type": "display_data"
    },
    {
     "data": {
      "text/html": [
       "<ol class=list-inline>\n",
       "\t<li>24999</li>\n",
       "\t<li>116</li>\n",
       "</ol>\n"
      ],
      "text/latex": [
       "\\begin{enumerate*}\n",
       "\\item 24999\n",
       "\\item 116\n",
       "\\end{enumerate*}\n"
      ],
      "text/markdown": [
       "1. 24999\n",
       "2. 116\n",
       "\n",
       "\n"
      ],
      "text/plain": [
       "[1] 24999   116"
      ]
     },
     "metadata": {},
     "output_type": "display_data"
    }
   ],
   "source": [
    "# Split the data into a 70/25% train/test sets\n",
    "set.seed(1)\n",
    "idxs <- caret::createDataPartition(y = df[,ycol], p = 0.75)[[1]]\n",
    "train <- hf[idxs,]\n",
    "test <- hf[-idxs,]\n",
    "\n",
    "# Dimensions\n",
    "dim(train)\n",
    "dim(test)"
   ]
  },
  {
   "cell_type": "code",
   "execution_count": null,
   "metadata": {},
   "outputs": [],
   "source": [
    "# Train a Lasso GLM\n",
    "system.time(fit <- h2o.glm(x = xcols,\n",
    "                           y = ycol,\n",
    "                           training_frame = train,\n",
    "                           family = \"binomial\",\n",
    "                           lambda_search = TRUE,  # compute lasso path\n",
    "                           alpha = 1))  # alpha = 1 means lasso, same as glmnet above"
   ]
  },
  {
   "cell_type": "code",
   "execution_count": null,
   "metadata": {},
   "outputs": [],
   "source": [
    "# Compute AUC on test dataset\n",
    "# H2O computes many model performance metrics automatically, including AUC\n",
    "\n",
    "perf <- h2o.performance(model = fit,\n",
    "                        newdata = test)\n",
    "h2o.auc(perf)"
   ]
  },
  {
   "cell_type": "markdown",
   "metadata": {},
   "source": [
    "# References\n",
    "\n",
    "[1] [https://en.wikipedia.org/wiki/Linear_regression#Generalized\\_linear\\_models](https://en.wikipedia.org/wiki/Linear_regression#Generalized_linear_models)\n",
    "\n",
    "[2] [https://en.wikipedia.org/wiki/Generalized\\_linear\\_model](https://en.wikipedia.org/wiki/Generalized_linear_model)\n",
    "\n",
    "[3] [Tibshirani, R. (1996). Regression shrinkage and selection via the lasso. J. Royal. Statist. Soc B., Vol. 58, No. 1, pages 267-288). ](http://www-stat.stanford.edu/%7Etibs/lasso/lasso.pdf)\n"
   ]
  }
 ],
 "metadata": {
  "kernelspec": {
   "display_name": "R",
   "language": "R",
   "name": "ir"
  },
  "language_info": {
   "codemirror_mode": "r",
   "file_extension": ".r",
   "mimetype": "text/x-r-source",
   "name": "R",
   "pygments_lexer": "r",
   "version": "3.4.1"
  }
 },
 "nbformat": 4,
 "nbformat_minor": 1
}
