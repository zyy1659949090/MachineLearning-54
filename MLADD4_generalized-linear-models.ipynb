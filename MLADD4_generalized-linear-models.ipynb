{
 "cells": [
  {
   "cell_type": "markdown",
   "metadata": {},
   "source": [
    "# Generalized Linear Models\n"
   ]
  },
  {
   "cell_type": "markdown",
   "metadata": {},
   "source": [
    "* * *\n",
    "![Alt text](./images/linear_regression.png \"Linear Regression Model\")\n",
    "* * *\n",
    "Image Source: Wikipedia"
   ]
  },
  {
   "cell_type": "markdown",
   "metadata": {},
   "source": [
    "## Introduction\n",
    "\n",
    "[Linear Models](https://en.wikipedia.org/wiki/Linear_regression) are one of the oldest and most well known statistical prediction algorithms which nowdays is often categorized as a \"machine learning algorithm.\" [Generalized Linear Models](https://en.wikipedia.org/wiki/Generalized_linear_model) (GLMs) are are a framework for modeling a response variable $y$ that is bounded or discrete. Generalized linear models allow for an arbitrary link function $g$ that relates the mean of the response variable to the predictors, i.e. $E(y) = g(β′x)$. The link function is often related to the distribution of the response, and in particular it typically has the effect of transforming between, $(-\\infty ,\\infty )$, the range of the linear predictor, and the range of the response variable (e.g. $[0,1]$). [1]\n",
    "\n",
    "Therefore, GLMs allow for response variables that have error distribution models other than a normal distribution. Some common examples of GLMs are:\n",
    "- [Poisson regression](https://en.wikipedia.org/wiki/Poisson_regression) for count data.\n",
    "- [Logistic regression](https://en.wikipedia.org/wiki/Logistic_regression) and [probit regression](https://en.wikipedia.org/wiki/Probit_regression) for binary data.\n",
    "- [Multinomial logistic regression](https://en.wikipedia.org/wiki/Multinomial_logistic_regression) and [multinomial probit](https://en.wikipedia.org/wiki/Multinomial_probit) regression for categorical data.\n",
    "- [Ordered probit](https://en.wikipedia.org/wiki/Ordered_probit) regression for ordinal data.\n",
    "\n",
    "\n",
    "\n",
    "## Linear Models\n",
    "\n",
    "In a linear model, given a vector of inputs, $X^T = (X_1, X_2, ..., X_p)$, we predict the output $Y$ via the model:\n",
    "\n",
    "$$\\hat{Y} = \\hat{\\beta}_0 + \\sum_{j=1}^p X_j \\hat{\\beta}_j$$\n",
    "\n",
    "The term $\\hat{\\beta}_0$ is the intercept, also known as the *bias* in machine learning.  Often it is convenient to include the constant variable $1$ in $X$, include $\\beta_0$ in the vector of coefficients $\\hat{\\beta}$, and then write the linear model in vector form as an inner product, \n",
    "\n",
    "$$\\hat{Y} = X^T\\hat{\\beta},$$\n",
    "\n",
    "where $X^T$ denotes the transpose of the design matrix.  We will review the case where $Y$ is a scalar, however, in general $Y$ can have more than one dimension.  Viewed as a function over the $p$-dimensional input space, $f(X) = X^T\\beta$ is linear, and the [gradient](https://en.wikipedia.org/wiki/Gradient), $f′(X) = \\beta$, is a vector in input space that points in the steepest uphill direction.\n",
    "\n",
    "### Ordinary Least Squares (OLS)\n",
    "\n",
    "There are many different methods to fitting a linear model, but the most simple and popular method is [Ordinary Least Squares](https://en.wikipedia.org/wiki/Ordinary_least_squares) (OLS).  The OLS method minimizes the [residual sum of squares](https://en.wikipedia.org/wiki/Residual_sum_of_squares) (RSS), and leads to a closed-form expression for the estimated value of the unknown parameter $\\beta$.\n",
    "\n",
    "$$RSS(\\beta) = \\sum_{i=1}^n (y_i - x_i^T\\beta)^2$$\n",
    "\n",
    "$RSS(\\beta)$ is a quadradic function of the parameters, and hence its minimum always exists, but may not be unique.  The solution is easiest to characterize in matrix notation:\n",
    "\n",
    "$$RSS(\\beta) = (\\boldsymbol{y} - \\boldsymbol{X}\\beta)^T(\\boldsymbol{y} - \\boldsymbol{X}\\beta)$$\n",
    "\n",
    "where $\\boldsymbol{X}$ is an $n \\times p$ matrix with each row an input vector, and $\\boldsymbol{y}$ is a vector of length $n$ representing the response in the training set.  Differentiating with respect to $\\beta$, we get the *normal equations*, \n",
    "\n",
    "$$\\boldsymbol{X}^T(\\boldsymbol{y} - \\boldsymbol{X}\\beta) = 0$$\n",
    "\n",
    "If $\\boldsymbol{X}^T\\boldsymbol{X}$ is [nonsingular](https://en.wikipedia.org/wiki/Invertible_matrix), then the unique solution is given by:\n",
    "\n",
    "$$\\hat{\\beta} = (\\boldsymbol{X}^T\\boldsymbol{X})^{-1}\\boldsymbol{X}^T\\boldsymbol{y}$$\n",
    "\n",
    "The fitted value at the $i^{th}$ input, $x_i$ is $\\hat{y}_i = \\hat{y}(x_i) = x_i^T\\hat{\\beta}$.  To solve this equation for $\\beta$, we must invert a matrix, $\\boldsymbol{X}^T\\boldsymbol{X}$, however it can be computationally expensive to invert this matrix directly.  There are computational shortcuts for solving the normal equations available via [QR](https://en.wikipedia.org/wiki/QR_decomposition) or [Cholesky](https://en.wikipedia.org/wiki/Cholesky_decomposition) decomposition.  When dealing with large training sets, it is useful to have an understanding of the underlying computational methods in the software that you are using.  Some GLM software implementations may not utilize all available computational shortcuts, costing you extra time to train your GLMs, or require you to upgrade the memory on your machine."
   ]
  },
  {
   "cell_type": "markdown",
   "metadata": {},
   "source": [
    "## Regularization\n",
    "\n",
    "http://web.stanford.edu/~hastie/Papers/glmpath.pdf\n",
    "\n",
    "\n",
    "### Ridge Regression\n",
    "\n",
    "\n",
    "Consider a sample consisting of $n$ cases, each of which consists of $p$ covariates and a single outcome. Let $y_i$ be the outcome and $X_i := ( x_1 , x_2 , … , x_p)^T$. \n",
    "\n",
    "Then the objective of Ridge is to solve:\n",
    "\n",
    "$${\\displaystyle \\min _{\\beta }\\left\\{{\\frac {1}{N}}\\sum _{i=1}^{N}\\left(y_{i}-\\beta_0 - \\sum_{j=1}^p x_{ij}\\beta_j \\right)^{2}\\right\\}{\\text{ subject to }}\\sum _{j=1}^{p}\\beta _{j}^2 \\leq t.}$$\n",
    "\n",
    "\n",
    "Here $t$ is a prespecified free parameter that determines the amount of regularization.  Ridge is also called $\\ell_2$ regularization.\n",
    "\n",
    "### Lasso Regression\n",
    "\n",
    "[Lasso](https://en.wikipedia.org/wiki/Lasso_(statistics) (least absolute shrinkage and selection operator) (also Lasso or LASSO) is a regression analysis method that performs both variable selection and regularization in order to enhance the prediction accuracy and interpretability of the statistical model it produces. \n",
    "\n",
    "- It was [introduced by Robert Tibshirani in 1996](http://www-stat.stanford.edu/%7Etibs/lasso/lasso.pdf) based on Leo Breiman’s Nonnegative Garrote.\n",
    "- Lasso conveniently performs coefficient shrinkage comparable to the ridge regression as well as variable selection by reducing coefficients to zero. \n",
    "- By sacrificing a small amount of bias in the predicted response variable in order to decrease variance, the lasso achieves improved predictive accuracy compared with ordinary least squares (OLS) models, particularly with data containing highly correlated predictor variables or in over determined data where $p>n$.\n",
    "\n",
    "Then the objective of Lasso is to solve:\n",
    "\n",
    "$${\\displaystyle \\min _{\\beta }\\left\\{{\\frac {1}{N}}\\sum _{i=1}^{N}\\left(y_{i}-\\beta_0 - \\sum_{j=1}^p x_{ij}\\beta_j \\right)^{2}\\right\\}{\\text{ subject to }}\\sum _{j=1}^{p}|\\beta _{j}| \\leq t.}$$\n",
    "\n",
    "Here $t$ is a prespecified free parameter that determines the amount of regularization.\n",
    "Lasso is also called $\\ell_1$ regularization.\n",
    "\n",
    "\n",
    "### Elastic Net\n",
    "\n",
    "[Elastic Net regularization](https://en.wikipedia.org/wiki/Elastic_net_regularization) is a simple blend of Lasso and Ridge regularization.  In software, this is typically controlled by an `alpha` parameter in between 0 and 1, where:\n",
    "- `alpha = 0.0` is Ridge regression\n",
    "- `alpha = 0.5` is a 50/50 blend of Ridge/Lasso regression\n",
    "- `alpha = 1.0` is Lasso regression"
   ]
  },
  {
   "cell_type": "markdown",
   "metadata": {},
   "source": [
    "## Other Solvers\n",
    "\n",
    "GLM models are trained by finding the set of parameters that maximizes the likelihood of the data.  For the Gaussian family, maximum likelihood consists of minimizing the mean squared error.  This has an analytical solution and can be\n",
    "solved with a standard method of least squares.  This is also applicable when the $\\ell_2$ penalty is added to the optimization.  For all other families and when the $\\ell_1$ penalty is included, the maximum likelihood\n",
    "problem has no analytical  solution.  Therefore an iterative method  such as IRLSM, L-BFGS, the Newton method, or gradient descent, must be used.\n",
    "\n",
    "\n",
    "### Iteratively Re-weighted Least Squares (IRLS)\n",
    "\n",
    "The [IRLS](https://en.wikipedia.org/wiki/Iteratively_reweighted_least_squares) method is used to solve certain optimization problems with objective functions of the form:\n",
    "\n",
    "$${\\underset  {{\\boldsymbol  \\beta }}{\\operatorname {arg\\,min}}}\\sum _{{i=1}}^{n}{\\big |}y_{i}-f_{i}({\\boldsymbol  \\beta }){\\big |}^{p},$$\n",
    "\n",
    "by an iterative method in which each step involves solving a weighted least squares problem of the form:\n",
    "\n",
    "$${\\boldsymbol  \\beta }^{{(t+1)}}={\\underset  {{\\boldsymbol  \\beta }}{\\operatorname {arg\\,min}}}\\sum _{{i=1}}^{n}w_{i}({\\boldsymbol  \\beta }^{{(t)}}){\\big |}y_{i}-f_{i}({\\boldsymbol  \\beta }){\\big |}^{2}.$$\n",
    "\n",
    "IRLS is used to find the [maximum likelihood](https://en.wikipedia.org/wiki/Maximum_likelihood) estimates of a generalized linear model as a way of mitigating the influence of outliers in an otherwise normally-distributed data set.  For example, by minimizing the least absolute error rather than the least square error.\n",
    "\n",
    "One of the advantages of IRLS over [linear programming](https://en.wikipedia.org/wiki/Linear_programming) and [convex programming](https://en.wikipedia.org/wiki/Convex_programming) is that it can be used with [Gauss-Newton](https://en.wikipedia.org/wiki/Gauss%E2%80%93Newton) and [Levenberg-Marquardt](https://en.wikipedia.org/wiki/Levenberg%E2%80%93Marquardt) numerical algorithms.\n",
    "\n",
    "The IRL1 algorithm solves a sequence of non-smooth weighted $\\ell_1$-minimization problems, and hence can be seen as the non-smooth counterpart to the IRLS algorithm. \n",
    "\n",
    "\n",
    "### Iteratively Re-weighted Least Squares with ADMM\n",
    "\n",
    "The IRLS method with [alternating direction method of multipliers](http://web.stanford.edu/~boyd/admm.html) (ADMM) inner solver as described in [Distributed Optimization and Statistical Learning via the Alternating Direction Method of Multipliers](http://web.stanford.edu/~boyd/papers/admm_distr_stats.html) by Boyd et. al to deal with the $\\ell_1$ penalty. ADMM is an algorithm that solves convex optimization problems by breaking them into smaller pieces, each of which are then easier to handle.  Every iteration of the algorithm consists of following steps:\n",
    "\n",
    "1. Generate weighted least squares problem based on previous solution, i.e. vector of weights w and response z.\n",
    "2. Compute the weighted [Gram matrix](https://en.wikipedia.org/wiki/Gramian_matrix) XT WX and XT z vector\n",
    "3. Decompose the Gram matrix ([Cholesky decomposition](https://en.wikipedia.org/wiki/Cholesky_decomposition)) and apply ADMM solver to solve the  $\\ell_1$ penalized least squares problem.\n",
    "\n",
    "In the [H2O GLM](http://docs.h2o.ai/h2o/latest-stable/h2o-docs/booklets/GLMBooklet.pdf) implementation, steps 1 and 2 are performed distributively, and Step 3 is computed in parallel on a single node.  The Gram matrix appraoch is very efficient for tall and narrow datasets when running lamnda search with a sparse solution. \n",
    "\n",
    "\n",
    "### Cyclical Coordinate Descent\n",
    "\n",
    "The IRLS method can also use cyclical coordinate descent in it's inner loop (as opposed to ADMM).  The [glmnet](http://web.stanford.edu/~hastie/glmnet/glmnet_beta.html) package uses [cyclical coordinate descent](http://web.stanford.edu/~hastie/Papers/glmnet.pdf) which successively optimizes the objective function over each parameter with others fixed, and cycles repeatedly until convergence.\n",
    "\n",
    "Cyclical  coordinate  descent  methods  are  a  natural  approach  for  solving\n",
    "convex  problems  with $\\ell_1$ or $\\ell_2$ constraints,  or  mixtures  of  the  two  (elastic net).  Each coordinate-descent step is fast, with an explicit formula for each coordinate-wise minimization.  The method also exploits the sparsity of the model, spending much of its time evaluating only inner products for variables with non-zero coefficients.\n",
    "\n",
    "\n",
    "### L-BFGS \n",
    "\n",
    "[Limited-memory BFGS](https://en.wikipedia.org/wiki/Limited-memory_BFGS) (L-BFGS) is an optimization algorithm in the family of [quasi-Newton methods](https://en.wikipedia.org/wiki/Quasi-Newton_method) that approximates the [Broyden–Fletcher–Goldfarb–Shanno](https://en.wikipedia.org/wiki/BFGS_method) (BFGS) algorithm using a limited amount of computer memory. Due to its resulting linear memory requirement, the L-BFGS method is particularly well suited for optimization problems with a large number of variables.  The method is popular among \"big data\" GLM implementations such as [h2o::h2o.glm()](http://www.rdocumentation.org/packages/h2o/functions/h2o.glm) (one of two available solvers) and [SparkR::glm()](https://spark.apache.org/docs/latest/api/R/index.html).  The [L-BFGS-B algorithm](http://sepwww.stanford.edu/data/media/public/docs/sep117/antoine1/paper_html/node12.html#lbfgsb) is an extension of the L-BFGS algorithm to handle simple bounds on the model. "
   ]
  },
  {
   "cell_type": "markdown",
   "metadata": {},
   "source": [
    "## Data Preprocessing\n",
    "\n",
    "In order for the coefficients to be easily interpretable, the features must be centered and scaled (aka \"normalized\").  Many software packages will allow the direct input of categorical/factor columns in the training frame, however internally any categorical columns will be expaded into binary indicator variables.  The caret package offers a handy utility function, [caret::dummyVars()](http://www.rdocumentation.org/packages/caret/functions/dummyVars), for dummy/indicator expansion if you need to do this manually.\n",
    "\n",
    "Missing data will need to be imputed, otherwise in many GLM packages, those rows will simply be omitted from the training set at train time.  For example, in the `stats::glm()` function there is an `na.action` argument which allows the user to do one of the three options:\n",
    "\n",
    "- na.omit and na.exclude: observations are removed if they contain any missing values; if na.exclude is used some functions will pad residuals and predictions to the correct length by inserting NAs for omitted cases.\n",
    "- na.pass: keep all data, including NAs\n",
    "- na.fail: returns the object only if it contains no missing values\n",
    "\n",
    "Other GLM implementations such as `h2o::glm()` will impute the mean automatically (in both training and test data), unless specified by the user."
   ]
  },
  {
   "cell_type": "markdown",
   "metadata": {},
   "source": [
    "***"
   ]
  },
  {
   "cell_type": "markdown",
   "metadata": {},
   "source": [
    "# GLM Software in R\n",
    "\n",
    "There is an implementation of the standard GLM (no regularization) in the built-in \"stats\" package in R called [glm](http://www.rdocumentation.org/packages/stats/functions/glm).\n",
    "\n",
    "## glm\n",
    "\n",
    "Authors: The original R implementation of glm was written by Simon Davies working for Ross Ihaka at the University of Auckland, but has since been extensively re-written by members of the R Core team.  The design was inspired by the S function of the same name described in Hastie & Pregibon (1992).\n",
    "\n",
    "Backend: Fortran\n",
    "\n",
    "### Example Linear Regression with glm()"
   ]
  },
  {
   "cell_type": "code",
   "execution_count": 1,
   "metadata": {
    "collapsed": false
   },
   "outputs": [
    {
     "name": "stderr",
     "output_type": "stream",
     "text": [
      "Loading required package: lattice\n",
      "Loading required package: ggplot2\n"
     ]
    }
   ],
   "source": [
    "#install.packages(\"caret\")\n",
    "library(caret)\n",
    "data(\"Sacramento\")\n",
    "\n",
    "# Split the data into a 70/25% train/test sets\n",
    "set.seed(1)\n",
    "idxs <- caret::createDataPartition(y = Sacramento$price, p = 0.75)[[1]]\n",
    "train <- Sacramento[idxs,]\n",
    "test <- Sacramento[-idxs,]"
   ]
  },
  {
   "cell_type": "code",
   "execution_count": 2,
   "metadata": {
    "collapsed": false
   },
   "outputs": [
    {
     "data": {
      "text/plain": [
       "\n",
       "Call:\n",
       "glm(formula = price ~ ., family = gaussian(), data = train)\n",
       "\n",
       "Deviance Residuals: \n",
       "    Min       1Q   Median       3Q      Max  \n",
       "-269404   -39233    -6677    27418   279476  \n",
       "\n",
       "Coefficients: (32 not defined because of singularities)\n",
       "                      Estimate Std. Error t value Pr(>|t|)    \n",
       "(Intercept)          7.434e+06  1.931e+07   0.385 0.700365    \n",
       "cityAUBURN           1.450e+05  7.163e+04   2.024 0.043348 *  \n",
       "cityCAMERON_PARK     3.497e+04  6.341e+04   0.551 0.581536    \n",
       "cityCARMICHAEL       8.019e+04  2.699e+04   2.971 0.003078 ** \n",
       "cityCITRUS_HEIGHTS  -8.352e+03  2.222e+04  -0.376 0.707161    \n",
       "cityCOOL             1.300e+05  1.015e+05   1.281 0.200691    \n",
       "cityEL_DORADO        3.534e+04  1.061e+05   0.333 0.739141    \n",
       "cityEL_DORADO_HILLS  1.243e+05  5.417e+04   2.295 0.022047 *  \n",
       "cityELK_GROVE       -6.302e+04  5.984e+04  -1.053 0.292688    \n",
       "cityELVERTA         -5.559e+04  5.066e+04  -1.097 0.272929    \n",
       "cityFAIR_OAKS        6.136e+04  3.307e+04   1.855 0.064008 .  \n",
       "cityFOLSOM           1.056e+05  4.168e+04   2.533 0.011540 *  \n",
       "cityFORESTHILL       7.605e+04  1.283e+05   0.593 0.553518    \n",
       "cityGALT            -9.711e+04  8.547e+04  -1.136 0.256354    \n",
       "cityGOLD_RIVER       3.459e+04  6.240e+04   0.554 0.579555    \n",
       "cityGRANITE_BAY      3.217e+05  7.939e+04   4.053 5.70e-05 ***\n",
       "cityGREENWOOD        7.445e+04  1.119e+05   0.665 0.506249    \n",
       "cityLINCOLN          3.605e+04  3.989e+04   0.904 0.366484    \n",
       "cityLOOMIS           3.754e+05  6.367e+04   5.896 6.08e-09 ***\n",
       "cityMATHER          -8.306e+04  7.679e+04  -1.082 0.279856    \n",
       "cityMEADOW_VISTA     1.221e+05  1.060e+05   1.153 0.249537    \n",
       "cityNORTH_HIGHLANDS -3.655e+04  2.425e+04  -1.507 0.132220    \n",
       "cityORANGEVALE       5.875e+04  3.518e+04   1.670 0.095465 .  \n",
       "cityPLACERVILLE      1.271e+05  9.188e+04   1.384 0.166998    \n",
       "cityPOLLOCK_PINES    3.648e+04  1.291e+05   0.283 0.777580    \n",
       "cityRANCHO_CORDOVA  -6.894e+04  4.502e+04  -1.531 0.126222    \n",
       "cityRANCHO_MURIETA  -1.675e+05  8.849e+04  -1.893 0.058780 .  \n",
       "cityRIO_LINDA       -2.221e+04  3.001e+04  -0.740 0.459428    \n",
       "cityROCKLIN          9.179e+04  3.562e+04   2.577 0.010205 *  \n",
       "cityROSEVILLE        9.536e+04  2.678e+04   3.560 0.000398 ***\n",
       "citySACRAMENTO       1.203e+05  4.113e+04   2.926 0.003561 ** \n",
       "cityWALNUT_GROVE     4.904e+04  1.173e+05   0.418 0.676124    \n",
       "cityWEST_SACRAMENTO -7.501e+04  6.405e+04  -1.171 0.242019    \n",
       "cityWILTON           1.265e+05  7.234e+04   1.749 0.080744 .  \n",
       "zipz95608                   NA         NA      NA       NA    \n",
       "zipz95610            7.732e+03  3.056e+04   0.253 0.800363    \n",
       "zipz95614                   NA         NA      NA       NA    \n",
       "zipz95621                   NA         NA      NA       NA    \n",
       "zipz95623                   NA         NA      NA       NA    \n",
       "zipz95624           -1.452e+03  2.038e+04  -0.071 0.943237    \n",
       "zipz95626                   NA         NA      NA       NA    \n",
       "zipz95628                   NA         NA      NA       NA    \n",
       "zipz95630                   NA         NA      NA       NA    \n",
       "zipz95631                   NA         NA      NA       NA    \n",
       "zipz95632                   NA         NA      NA       NA    \n",
       "zipz95635                   NA         NA      NA       NA    \n",
       "zipz95648                   NA         NA      NA       NA    \n",
       "zipz95650                   NA         NA      NA       NA    \n",
       "zipz95655                   NA         NA      NA       NA    \n",
       "zipz95660                   NA         NA      NA       NA    \n",
       "zipz95661            2.926e+04  3.994e+04   0.733 0.464062    \n",
       "zipz95662                   NA         NA      NA       NA    \n",
       "zipz95667                   NA         NA      NA       NA    \n",
       "zipz95670            5.343e+04  3.267e+04   1.635 0.102495    \n",
       "zipz95673                   NA         NA      NA       NA    \n",
       "zipz95677            1.607e+04  4.510e+04   0.356 0.721739    \n",
       "zipz95678           -4.077e+04  2.838e+04  -1.437 0.151329    \n",
       "zipz95682                   NA         NA      NA       NA    \n",
       "zipz95683                   NA         NA      NA       NA    \n",
       "zipz95690                   NA         NA      NA       NA    \n",
       "zipz95691                   NA         NA      NA       NA    \n",
       "zipz95693                   NA         NA      NA       NA    \n",
       "zipz95722                   NA         NA      NA       NA    \n",
       "zipz95726                   NA         NA      NA       NA    \n",
       "zipz95742                   NA         NA      NA       NA    \n",
       "zipz95746                   NA         NA      NA       NA    \n",
       "zipz95747                   NA         NA      NA       NA    \n",
       "zipz95757            1.339e+04  1.874e+04   0.715 0.475149    \n",
       "zipz95758                   NA         NA      NA       NA    \n",
       "zipz95762                   NA         NA      NA       NA    \n",
       "zipz95765                   NA         NA      NA       NA    \n",
       "zipz95811            1.067e+05  7.624e+04   1.400 0.162053    \n",
       "zipz95814           -7.275e+04  6.049e+04  -1.203 0.229549    \n",
       "zipz95815           -1.940e+05  3.691e+04  -5.256 2.02e-07 ***\n",
       "zipz95816           -2.631e+03  4.872e+04  -0.054 0.956956    \n",
       "zipz95817           -1.662e+05  4.612e+04  -3.605 0.000337 ***\n",
       "zipz95818           -5.284e+04  4.452e+04  -1.187 0.235783    \n",
       "zipz95819            1.074e+05  5.104e+04   2.104 0.035800 *  \n",
       "zipz95820           -1.712e+05  3.770e+04  -4.540 6.73e-06 ***\n",
       "zipz95821           -9.943e+04  4.344e+04  -2.289 0.022420 *  \n",
       "zipz95822           -1.762e+05  4.333e+04  -4.066 5.39e-05 ***\n",
       "zipz95823           -2.001e+05  4.157e+04  -4.813 1.86e-06 ***\n",
       "zipz95824           -2.056e+05  4.097e+04  -5.019 6.77e-07 ***\n",
       "zipz95825           -1.386e+05  3.719e+04  -3.727 0.000212 ***\n",
       "zipz95826           -1.435e+05  3.811e+04  -3.765 0.000182 ***\n",
       "zipz95827           -1.880e+05  4.005e+04  -4.694 3.30e-06 ***\n",
       "zipz95828           -2.005e+05  3.935e+04  -5.096 4.60e-07 ***\n",
       "zipz95829           -1.802e+05  4.471e+04  -4.030 6.25e-05 ***\n",
       "zipz95831           -1.137e+05  5.317e+04  -2.138 0.032914 *  \n",
       "zipz95832           -2.242e+05  4.891e+04  -4.584 5.52e-06 ***\n",
       "zipz95833           -1.549e+05  4.048e+04  -3.827 0.000143 ***\n",
       "zipz95834           -1.510e+05  4.150e+04  -3.639 0.000297 ***\n",
       "zipz95835           -1.202e+05  4.195e+04  -2.865 0.004309 ** \n",
       "zipz95838           -1.729e+05  3.648e+04  -4.741 2.64e-06 ***\n",
       "zipz95841           -7.757e+04  5.190e+04  -1.495 0.135538    \n",
       "zipz95842           -1.651e+05  3.921e+04  -4.210 2.93e-05 ***\n",
       "zipz95843                   NA         NA      NA       NA    \n",
       "zipz95864                   NA         NA      NA       NA    \n",
       "beds                -1.336e+04  5.016e+03  -2.664 0.007926 ** \n",
       "baths                1.314e+04  6.323e+03   2.078 0.038099 *  \n",
       "sqft                 1.148e+02  7.457e+00  15.388  < 2e-16 ***\n",
       "typeMulti_Family     3.034e+04  2.731e+04   1.111 0.266933    \n",
       "typeResidential      4.665e+04  1.298e+04   3.594 0.000351 ***\n",
       "latitude            -2.121e+05  1.895e+05  -1.120 0.263319    \n",
       "longitude           -6.519e+03  1.547e+05  -0.042 0.966399    \n",
       "---\n",
       "Signif. codes:  0 ‘***’ 0.001 ‘**’ 0.01 ‘*’ 0.05 ‘.’ 0.1 ‘ ’ 1\n",
       "\n",
       "(Dispersion parameter for gaussian family taken to be 4622177625)\n",
       "\n",
       "    Null deviance: 1.2350e+13  on 699  degrees of freedom\n",
       "Residual deviance: 2.8981e+12  on 627  degrees of freedom\n",
       "AIC: 17635\n",
       "\n",
       "Number of Fisher Scoring iterations: 2\n"
      ]
     },
     "metadata": {},
     "output_type": "display_data"
    }
   ],
   "source": [
    "# Fit the GLM\n",
    "fit <- glm(price ~ ., \n",
    "           data = train, \n",
    "           family = gaussian())\n",
    "summary(fit)"
   ]
  },
  {
   "cell_type": "code",
   "execution_count": 3,
   "metadata": {
    "collapsed": false
   },
   "outputs": [
    {
     "ename": "ERROR",
     "evalue": "Error in model.frame.default(Terms, newdata, na.action = na.action, xlev = object$xlevels): factor city has new levels DIAMOND_SPRINGS, GARDEN_VALLEY, PENRYN\n",
     "output_type": "error",
     "traceback": [
      "Error in model.frame.default(Terms, newdata, na.action = na.action, xlev = object$xlevels): factor city has new levels DIAMOND_SPRINGS, GARDEN_VALLEY, PENRYN\nTraceback:\n",
      "1. predict(fit, newdata = test)",
      "2. predict.glm(fit, newdata = test)",
      "3. predict.lm(object, newdata, se.fit, scale = 1, type = ifelse(type == \n .     \"link\", \"response\", type), terms = terms, na.action = na.action)",
      "4. model.frame(Terms, newdata, na.action = na.action, xlev = object$xlevels)",
      "5. model.frame.default(Terms, newdata, na.action = na.action, xlev = object$xlevels)",
      "6. stop(sprintf(ngettext(length(m), \"factor %s has new level %s\", \n .     \"factor %s has new levels %s\"), nm, paste(nxl[m], collapse = \", \")), \n .     domain = NA)"
     ]
    }
   ],
   "source": [
    "# Predict on the test set\n",
    "pred <- predict(fit, newdata = test)"
   ]
  },
  {
   "cell_type": "markdown",
   "metadata": {},
   "source": [
    "Above we have a slight issue.  The `city` column has new factor levels in the test set that were not present in the training set.  Even though the `train` and `test` data frames originated from a single data frame, `Sacramento`, and therefore have identical factor levels, we still run into this problem.  Let's take a closer look at the factor levels to see what's going on:"
   ]
  },
  {
   "cell_type": "code",
   "execution_count": 4,
   "metadata": {
    "collapsed": false
   },
   "outputs": [
    {
     "name": "stdout",
     "output_type": "stream",
     "text": [
      "'data.frame':\t700 obs. of  9 variables:\n",
      " $ city     : Factor w/ 37 levels \"ANTELOPE\",\"AUBURN\",..: 34 34 34 34 34 29 31 34 34 34 ...\n",
      " $ zip      : Factor w/ 68 levels \"z95603\",\"z95608\",..: 52 44 44 53 65 24 25 44 51 66 ...\n",
      " $ beds     : int  3 2 2 2 3 2 3 1 3 2 ...\n",
      " $ baths    : num  1 1 1 1 1 2 2 1 1 2 ...\n",
      " $ sqft     : int  1167 796 852 797 1122 941 1146 871 1020 1022 ...\n",
      " $ type     : Factor w/ 3 levels \"Condo\",\"Multi_Family\",..: 3 3 3 3 1 1 3 3 3 3 ...\n",
      " $ price    : int  68212 68880 69307 81900 89921 94905 98937 106852 107502 108750 ...\n",
      " $ latitude : num  38.5 38.6 38.6 38.5 38.7 ...\n",
      " $ longitude: num  -121 -121 -121 -121 -121 ...\n"
     ]
    }
   ],
   "source": [
    "str(train)"
   ]
  },
  {
   "cell_type": "code",
   "execution_count": 5,
   "metadata": {
    "collapsed": false
   },
   "outputs": [
    {
     "name": "stdout",
     "output_type": "stream",
     "text": [
      "'data.frame':\t232 obs. of  9 variables:\n",
      " $ city     : Factor w/ 37 levels \"ANTELOPE\",\"AUBURN\",..: 34 34 34 34 34 1 34 24 11 10 ...\n",
      " $ zip      : Factor w/ 68 levels \"z95603\",\"z95608\",..: 64 66 49 64 52 67 57 19 9 8 ...\n",
      " $ beds     : int  2 3 3 3 3 3 3 3 3 3 ...\n",
      " $ baths    : num  1 2 1 2 2 2 2 2 2 2 ...\n",
      " $ sqft     : int  836 1104 1177 909 1289 1088 1248 1152 1116 1056 ...\n",
      " $ type     : Factor w/ 3 levels \"Condo\",\"Multi_Family\",..: 3 3 3 3 3 3 3 3 3 3 ...\n",
      " $ price    : int  59222 90895 91002 100309 106250 126640 132000 134555 138750 156896 ...\n",
      " $ latitude : num  38.6 38.7 38.5 38.6 38.5 ...\n",
      " $ longitude: num  -121 -121 -121 -121 -121 ...\n"
     ]
    }
   ],
   "source": [
    "str(test)"
   ]
  },
  {
   "cell_type": "markdown",
   "metadata": {},
   "source": [
    "Although `train` and `test` have identical structure, not all the levels are represented in the training data.  To validate this, let's take a look at the actual unique levels that were used in the model:"
   ]
  },
  {
   "cell_type": "code",
   "execution_count": 6,
   "metadata": {
    "collapsed": false
   },
   "outputs": [
    {
     "name": "stdout",
     "output_type": "stream",
     "text": [
      "[1] 34\n",
      "[1] 65\n",
      "[1] 3\n"
     ]
    },
    {
     "data": {
      "text/html": [
       "<dl class=dl-horizontal>\n",
       "\t<dt>city</dt>\n",
       "\t\t<dd>34</dd>\n",
       "\t<dt>zip</dt>\n",
       "\t\t<dd>65</dd>\n",
       "\t<dt>type</dt>\n",
       "\t\t<dd>3</dd>\n",
       "</dl>\n"
      ],
      "text/latex": [
       "\\begin{description*}\n",
       "\\item[city] 34\n",
       "\\item[zip] 65\n",
       "\\item[type] 3\n",
       "\\end{description*}\n"
      ],
      "text/markdown": [
       "city\n",
       ":   34zip\n",
       ":   65type\n",
       ":   3\n",
       "\n"
      ],
      "text/plain": [
       "city  zip type \n",
       "  34   65    3 "
      ]
     },
     "metadata": {},
     "output_type": "display_data"
    }
   ],
   "source": [
    "# Check the number of levels in the model features\n",
    "sapply(fit$xlevels, function(x) print(length(x)))"
   ]
  },
  {
   "cell_type": "markdown",
   "metadata": {},
   "source": [
    "We can manually fix this by updating the `xlevels` element of the model.  We have the same issue with `zip`, so we should go ahead and manually update that as well."
   ]
  },
  {
   "cell_type": "code",
   "execution_count": 7,
   "metadata": {
    "collapsed": true
   },
   "outputs": [],
   "source": [
    "# Update factor levels so that prediction works\n",
    "fit$xlevels[[\"city\"]] <- union(fit$xlevels[[\"city\"]], levels(test$city))\n",
    "fit$xlevels[[\"zip\"]] <- union(fit$xlevels[[\"zip\"]], levels(test$zip))"
   ]
  },
  {
   "cell_type": "code",
   "execution_count": 8,
   "metadata": {
    "collapsed": false
   },
   "outputs": [
    {
     "name": "stderr",
     "output_type": "stream",
     "text": [
      "Warning message:\n",
      "In predict.lm(object, newdata, se.fit, scale = 1, type = ifelse(type == : prediction from a rank-deficient fit may be misleading"
     ]
    },
    {
     "data": {
      "text/plain": [
       "\n",
       "Call:\n",
       "glm(formula = price ~ ., family = gaussian(), data = train)\n",
       "\n",
       "Deviance Residuals: \n",
       "    Min       1Q   Median       3Q      Max  \n",
       "-269404   -39233    -6677    27418   279476  \n",
       "\n",
       "Coefficients: (32 not defined because of singularities)\n",
       "                      Estimate Std. Error t value Pr(>|t|)    \n",
       "(Intercept)          7.434e+06  1.931e+07   0.385 0.700365    \n",
       "cityAUBURN           1.450e+05  7.163e+04   2.024 0.043348 *  \n",
       "cityCAMERON_PARK     3.497e+04  6.341e+04   0.551 0.581536    \n",
       "cityCARMICHAEL       8.019e+04  2.699e+04   2.971 0.003078 ** \n",
       "cityCITRUS_HEIGHTS  -8.352e+03  2.222e+04  -0.376 0.707161    \n",
       "cityCOOL             1.300e+05  1.015e+05   1.281 0.200691    \n",
       "cityEL_DORADO        3.534e+04  1.061e+05   0.333 0.739141    \n",
       "cityEL_DORADO_HILLS  1.243e+05  5.417e+04   2.295 0.022047 *  \n",
       "cityELK_GROVE       -6.302e+04  5.984e+04  -1.053 0.292688    \n",
       "cityELVERTA         -5.559e+04  5.066e+04  -1.097 0.272929    \n",
       "cityFAIR_OAKS        6.136e+04  3.307e+04   1.855 0.064008 .  \n",
       "cityFOLSOM           1.056e+05  4.168e+04   2.533 0.011540 *  \n",
       "cityFORESTHILL       7.605e+04  1.283e+05   0.593 0.553518    \n",
       "cityGALT            -9.711e+04  8.547e+04  -1.136 0.256354    \n",
       "cityGOLD_RIVER       3.459e+04  6.240e+04   0.554 0.579555    \n",
       "cityGRANITE_BAY      3.217e+05  7.939e+04   4.053 5.70e-05 ***\n",
       "cityGREENWOOD        7.445e+04  1.119e+05   0.665 0.506249    \n",
       "cityLINCOLN          3.605e+04  3.989e+04   0.904 0.366484    \n",
       "cityLOOMIS           3.754e+05  6.367e+04   5.896 6.08e-09 ***\n",
       "cityMATHER          -8.306e+04  7.679e+04  -1.082 0.279856    \n",
       "cityMEADOW_VISTA     1.221e+05  1.060e+05   1.153 0.249537    \n",
       "cityNORTH_HIGHLANDS -3.655e+04  2.425e+04  -1.507 0.132220    \n",
       "cityORANGEVALE       5.875e+04  3.518e+04   1.670 0.095465 .  \n",
       "cityPLACERVILLE      1.271e+05  9.188e+04   1.384 0.166998    \n",
       "cityPOLLOCK_PINES    3.648e+04  1.291e+05   0.283 0.777580    \n",
       "cityRANCHO_CORDOVA  -6.894e+04  4.502e+04  -1.531 0.126222    \n",
       "cityRANCHO_MURIETA  -1.675e+05  8.849e+04  -1.893 0.058780 .  \n",
       "cityRIO_LINDA       -2.221e+04  3.001e+04  -0.740 0.459428    \n",
       "cityROCKLIN          9.179e+04  3.562e+04   2.577 0.010205 *  \n",
       "cityROSEVILLE        9.536e+04  2.678e+04   3.560 0.000398 ***\n",
       "citySACRAMENTO       1.203e+05  4.113e+04   2.926 0.003561 ** \n",
       "cityWALNUT_GROVE     4.904e+04  1.173e+05   0.418 0.676124    \n",
       "cityWEST_SACRAMENTO -7.501e+04  6.405e+04  -1.171 0.242019    \n",
       "cityWILTON           1.265e+05  7.234e+04   1.749 0.080744 .  \n",
       "zipz95608                   NA         NA      NA       NA    \n",
       "zipz95610            7.732e+03  3.056e+04   0.253 0.800363    \n",
       "zipz95614                   NA         NA      NA       NA    \n",
       "zipz95621                   NA         NA      NA       NA    \n",
       "zipz95623                   NA         NA      NA       NA    \n",
       "zipz95624           -1.452e+03  2.038e+04  -0.071 0.943237    \n",
       "zipz95626                   NA         NA      NA       NA    \n",
       "zipz95628                   NA         NA      NA       NA    \n",
       "zipz95630                   NA         NA      NA       NA    \n",
       "zipz95631                   NA         NA      NA       NA    \n",
       "zipz95632                   NA         NA      NA       NA    \n",
       "zipz95635                   NA         NA      NA       NA    \n",
       "zipz95648                   NA         NA      NA       NA    \n",
       "zipz95650                   NA         NA      NA       NA    \n",
       "zipz95655                   NA         NA      NA       NA    \n",
       "zipz95660                   NA         NA      NA       NA    \n",
       "zipz95661            2.926e+04  3.994e+04   0.733 0.464062    \n",
       "zipz95662                   NA         NA      NA       NA    \n",
       "zipz95667                   NA         NA      NA       NA    \n",
       "zipz95670            5.343e+04  3.267e+04   1.635 0.102495    \n",
       "zipz95673                   NA         NA      NA       NA    \n",
       "zipz95677            1.607e+04  4.510e+04   0.356 0.721739    \n",
       "zipz95678           -4.077e+04  2.838e+04  -1.437 0.151329    \n",
       "zipz95682                   NA         NA      NA       NA    \n",
       "zipz95683                   NA         NA      NA       NA    \n",
       "zipz95690                   NA         NA      NA       NA    \n",
       "zipz95691                   NA         NA      NA       NA    \n",
       "zipz95693                   NA         NA      NA       NA    \n",
       "zipz95722                   NA         NA      NA       NA    \n",
       "zipz95726                   NA         NA      NA       NA    \n",
       "zipz95742                   NA         NA      NA       NA    \n",
       "zipz95746                   NA         NA      NA       NA    \n",
       "zipz95747                   NA         NA      NA       NA    \n",
       "zipz95757            1.339e+04  1.874e+04   0.715 0.475149    \n",
       "zipz95758                   NA         NA      NA       NA    \n",
       "zipz95762                   NA         NA      NA       NA    \n",
       "zipz95765                   NA         NA      NA       NA    \n",
       "zipz95811            1.067e+05  7.624e+04   1.400 0.162053    \n",
       "zipz95814           -7.275e+04  6.049e+04  -1.203 0.229549    \n",
       "zipz95815           -1.940e+05  3.691e+04  -5.256 2.02e-07 ***\n",
       "zipz95816           -2.631e+03  4.872e+04  -0.054 0.956956    \n",
       "zipz95817           -1.662e+05  4.612e+04  -3.605 0.000337 ***\n",
       "zipz95818           -5.284e+04  4.452e+04  -1.187 0.235783    \n",
       "zipz95819            1.074e+05  5.104e+04   2.104 0.035800 *  \n",
       "zipz95820           -1.712e+05  3.770e+04  -4.540 6.73e-06 ***\n",
       "zipz95821           -9.943e+04  4.344e+04  -2.289 0.022420 *  \n",
       "zipz95822           -1.762e+05  4.333e+04  -4.066 5.39e-05 ***\n",
       "zipz95823           -2.001e+05  4.157e+04  -4.813 1.86e-06 ***\n",
       "zipz95824           -2.056e+05  4.097e+04  -5.019 6.77e-07 ***\n",
       "zipz95825           -1.386e+05  3.719e+04  -3.727 0.000212 ***\n",
       "zipz95826           -1.435e+05  3.811e+04  -3.765 0.000182 ***\n",
       "zipz95827           -1.880e+05  4.005e+04  -4.694 3.30e-06 ***\n",
       "zipz95828           -2.005e+05  3.935e+04  -5.096 4.60e-07 ***\n",
       "zipz95829           -1.802e+05  4.471e+04  -4.030 6.25e-05 ***\n",
       "zipz95831           -1.137e+05  5.317e+04  -2.138 0.032914 *  \n",
       "zipz95832           -2.242e+05  4.891e+04  -4.584 5.52e-06 ***\n",
       "zipz95833           -1.549e+05  4.048e+04  -3.827 0.000143 ***\n",
       "zipz95834           -1.510e+05  4.150e+04  -3.639 0.000297 ***\n",
       "zipz95835           -1.202e+05  4.195e+04  -2.865 0.004309 ** \n",
       "zipz95838           -1.729e+05  3.648e+04  -4.741 2.64e-06 ***\n",
       "zipz95841           -7.757e+04  5.190e+04  -1.495 0.135538    \n",
       "zipz95842           -1.651e+05  3.921e+04  -4.210 2.93e-05 ***\n",
       "zipz95843                   NA         NA      NA       NA    \n",
       "zipz95864                   NA         NA      NA       NA    \n",
       "beds                -1.336e+04  5.016e+03  -2.664 0.007926 ** \n",
       "baths                1.314e+04  6.323e+03   2.078 0.038099 *  \n",
       "sqft                 1.148e+02  7.457e+00  15.388  < 2e-16 ***\n",
       "typeMulti_Family     3.034e+04  2.731e+04   1.111 0.266933    \n",
       "typeResidential      4.665e+04  1.298e+04   3.594 0.000351 ***\n",
       "latitude            -2.121e+05  1.895e+05  -1.120 0.263319    \n",
       "longitude           -6.519e+03  1.547e+05  -0.042 0.966399    \n",
       "---\n",
       "Signif. codes:  0 ‘***’ 0.001 ‘**’ 0.01 ‘*’ 0.05 ‘.’ 0.1 ‘ ’ 1\n",
       "\n",
       "(Dispersion parameter for gaussian family taken to be 4622177625)\n",
       "\n",
       "    Null deviance: 1.2350e+13  on 699  degrees of freedom\n",
       "Residual deviance: 2.8981e+12  on 627  degrees of freedom\n",
       "AIC: 17635\n",
       "\n",
       "Number of Fisher Scoring iterations: 2\n"
      ]
     },
     "metadata": {},
     "output_type": "display_data"
    }
   ],
   "source": [
    "# Predict on the test set\n",
    "pred <- predict(fit, newdata = test)\n",
    "summary(fit)"
   ]
  },
  {
   "cell_type": "code",
   "execution_count": 9,
   "metadata": {
    "collapsed": false
   },
   "outputs": [
    {
     "data": {
      "text/html": [
       "0.0371512375879591"
      ],
      "text/latex": [
       "0.0371512375879591"
      ],
      "text/markdown": [
       "0.0371512375879591"
      ],
      "text/plain": [
       "[1] 0.03715124"
      ]
     },
     "metadata": {},
     "output_type": "display_data"
    },
    {
     "data": {
      "text/html": [
       "7173981.7581349"
      ],
      "text/latex": [
       "7173981.7581349"
      ],
      "text/markdown": [
       "7173981.7581349"
      ],
      "text/plain": [
       "[1] 7173982"
      ]
     },
     "metadata": {},
     "output_type": "display_data"
    }
   ],
   "source": [
    "# Compute model performance on the test set\n",
    "\n",
    "caret::R2(pred = pred, obs = test$price)\n",
    "caret::RMSE(pred = pred, obs = test$price)"
   ]
  },
  {
   "cell_type": "markdown",
   "metadata": {},
   "source": [
    "### GLM in caret\n",
    "\n",
    "Now let's run the same model using caret's glm method to get a sense of how much easier it is to use."
   ]
  },
  {
   "cell_type": "code",
   "execution_count": 10,
   "metadata": {
    "collapsed": false
   },
   "outputs": [
    {
     "data": {
      "text/plain": [
       "\n",
       "Call:\n",
       "NULL\n",
       "\n",
       "Deviance Residuals: \n",
       "    Min       1Q   Median       3Q      Max  \n",
       "-269404   -39233    -6677    27418   279476  \n",
       "\n",
       "Coefficients: (38 not defined because of singularities)\n",
       "                      Estimate Std. Error t value Pr(>|t|)    \n",
       "(Intercept)          7.434e+06  1.931e+07   0.385 0.700365    \n",
       "cityAUBURN           1.450e+05  7.163e+04   2.024 0.043348 *  \n",
       "cityCAMERON_PARK     3.497e+04  6.341e+04   0.551 0.581536    \n",
       "cityCARMICHAEL       8.019e+04  2.699e+04   2.971 0.003078 ** \n",
       "cityCITRUS_HEIGHTS  -8.352e+03  2.222e+04  -0.376 0.707161    \n",
       "cityCOOL             1.300e+05  1.015e+05   1.281 0.200691    \n",
       "cityDIAMOND_SPRINGS         NA         NA      NA       NA    \n",
       "cityEL_DORADO        3.534e+04  1.061e+05   0.333 0.739141    \n",
       "cityEL_DORADO_HILLS  1.243e+05  5.417e+04   2.295 0.022047 *  \n",
       "cityELK_GROVE       -6.302e+04  5.984e+04  -1.053 0.292688    \n",
       "cityELVERTA         -5.559e+04  5.066e+04  -1.097 0.272929    \n",
       "cityFAIR_OAKS        6.136e+04  3.307e+04   1.855 0.064008 .  \n",
       "cityFOLSOM           1.056e+05  4.168e+04   2.533 0.011540 *  \n",
       "cityFORESTHILL       7.605e+04  1.283e+05   0.593 0.553518    \n",
       "cityGALT            -9.711e+04  8.547e+04  -1.136 0.256354    \n",
       "cityGARDEN_VALLEY           NA         NA      NA       NA    \n",
       "cityGOLD_RIVER       3.459e+04  6.240e+04   0.554 0.579555    \n",
       "cityGRANITE_BAY      3.217e+05  7.939e+04   4.053 5.70e-05 ***\n",
       "cityGREENWOOD        7.445e+04  1.119e+05   0.665 0.506249    \n",
       "cityLINCOLN          3.605e+04  3.989e+04   0.904 0.366484    \n",
       "cityLOOMIS           3.754e+05  6.367e+04   5.896 6.08e-09 ***\n",
       "cityMATHER          -8.306e+04  7.679e+04  -1.082 0.279856    \n",
       "cityMEADOW_VISTA     1.221e+05  1.060e+05   1.153 0.249537    \n",
       "cityNORTH_HIGHLANDS -3.655e+04  2.425e+04  -1.507 0.132220    \n",
       "cityORANGEVALE       5.875e+04  3.518e+04   1.670 0.095465 .  \n",
       "cityPENRYN                  NA         NA      NA       NA    \n",
       "cityPLACERVILLE      1.271e+05  9.188e+04   1.384 0.166998    \n",
       "cityPOLLOCK_PINES    3.648e+04  1.291e+05   0.283 0.777580    \n",
       "cityRANCHO_CORDOVA  -6.894e+04  4.502e+04  -1.531 0.126222    \n",
       "cityRANCHO_MURIETA  -1.675e+05  8.849e+04  -1.893 0.058780 .  \n",
       "cityRIO_LINDA       -2.221e+04  3.001e+04  -0.740 0.459428    \n",
       "cityROCKLIN          9.179e+04  3.562e+04   2.577 0.010205 *  \n",
       "cityROSEVILLE        9.536e+04  2.678e+04   3.560 0.000398 ***\n",
       "citySACRAMENTO       1.203e+05  4.113e+04   2.926 0.003561 ** \n",
       "cityWALNUT_GROVE     4.904e+04  1.173e+05   0.418 0.676124    \n",
       "cityWEST_SACRAMENTO -7.501e+04  6.405e+04  -1.171 0.242019    \n",
       "cityWILTON           1.265e+05  7.234e+04   1.749 0.080744 .  \n",
       "zipz95608                   NA         NA      NA       NA    \n",
       "zipz95610            7.732e+03  3.056e+04   0.253 0.800363    \n",
       "zipz95614                   NA         NA      NA       NA    \n",
       "zipz95619                   NA         NA      NA       NA    \n",
       "zipz95621                   NA         NA      NA       NA    \n",
       "zipz95623                   NA         NA      NA       NA    \n",
       "zipz95624           -1.452e+03  2.038e+04  -0.071 0.943237    \n",
       "zipz95626                   NA         NA      NA       NA    \n",
       "zipz95628                   NA         NA      NA       NA    \n",
       "zipz95630                   NA         NA      NA       NA    \n",
       "zipz95631                   NA         NA      NA       NA    \n",
       "zipz95632                   NA         NA      NA       NA    \n",
       "zipz95633                   NA         NA      NA       NA    \n",
       "zipz95635                   NA         NA      NA       NA    \n",
       "zipz95648                   NA         NA      NA       NA    \n",
       "zipz95650                   NA         NA      NA       NA    \n",
       "zipz95655                   NA         NA      NA       NA    \n",
       "zipz95660                   NA         NA      NA       NA    \n",
       "zipz95661            2.926e+04  3.994e+04   0.733 0.464062    \n",
       "zipz95662                   NA         NA      NA       NA    \n",
       "zipz95663                   NA         NA      NA       NA    \n",
       "zipz95667                   NA         NA      NA       NA    \n",
       "zipz95670            5.343e+04  3.267e+04   1.635 0.102495    \n",
       "zipz95673                   NA         NA      NA       NA    \n",
       "zipz95677            1.607e+04  4.510e+04   0.356 0.721739    \n",
       "zipz95678           -4.077e+04  2.838e+04  -1.437 0.151329    \n",
       "zipz95682                   NA         NA      NA       NA    \n",
       "zipz95683                   NA         NA      NA       NA    \n",
       "zipz95690                   NA         NA      NA       NA    \n",
       "zipz95691                   NA         NA      NA       NA    \n",
       "zipz95693                   NA         NA      NA       NA    \n",
       "zipz95722                   NA         NA      NA       NA    \n",
       "zipz95726                   NA         NA      NA       NA    \n",
       "zipz95742                   NA         NA      NA       NA    \n",
       "zipz95746                   NA         NA      NA       NA    \n",
       "zipz95747                   NA         NA      NA       NA    \n",
       "zipz95757            1.339e+04  1.874e+04   0.715 0.475149    \n",
       "zipz95758                   NA         NA      NA       NA    \n",
       "zipz95762                   NA         NA      NA       NA    \n",
       "zipz95765                   NA         NA      NA       NA    \n",
       "zipz95811            1.067e+05  7.624e+04   1.400 0.162053    \n",
       "zipz95814           -7.275e+04  6.049e+04  -1.203 0.229549    \n",
       "zipz95815           -1.940e+05  3.691e+04  -5.256 2.02e-07 ***\n",
       "zipz95816           -2.631e+03  4.872e+04  -0.054 0.956956    \n",
       "zipz95817           -1.662e+05  4.612e+04  -3.605 0.000337 ***\n",
       "zipz95818           -5.284e+04  4.452e+04  -1.187 0.235783    \n",
       "zipz95819            1.074e+05  5.104e+04   2.104 0.035800 *  \n",
       "zipz95820           -1.712e+05  3.770e+04  -4.540 6.73e-06 ***\n",
       "zipz95821           -9.943e+04  4.344e+04  -2.289 0.022420 *  \n",
       "zipz95822           -1.762e+05  4.333e+04  -4.066 5.39e-05 ***\n",
       "zipz95823           -2.001e+05  4.157e+04  -4.813 1.86e-06 ***\n",
       "zipz95824           -2.056e+05  4.097e+04  -5.019 6.77e-07 ***\n",
       "zipz95825           -1.386e+05  3.719e+04  -3.727 0.000212 ***\n",
       "zipz95826           -1.435e+05  3.811e+04  -3.765 0.000182 ***\n",
       "zipz95827           -1.880e+05  4.005e+04  -4.694 3.30e-06 ***\n",
       "zipz95828           -2.005e+05  3.935e+04  -5.096 4.60e-07 ***\n",
       "zipz95829           -1.802e+05  4.471e+04  -4.030 6.25e-05 ***\n",
       "zipz95831           -1.137e+05  5.317e+04  -2.138 0.032914 *  \n",
       "zipz95832           -2.242e+05  4.891e+04  -4.584 5.52e-06 ***\n",
       "zipz95833           -1.549e+05  4.048e+04  -3.827 0.000143 ***\n",
       "zipz95834           -1.510e+05  4.150e+04  -3.639 0.000297 ***\n",
       "zipz95835           -1.202e+05  4.195e+04  -2.865 0.004309 ** \n",
       "zipz95838           -1.729e+05  3.648e+04  -4.741 2.64e-06 ***\n",
       "zipz95841           -7.757e+04  5.190e+04  -1.495 0.135538    \n",
       "zipz95842           -1.651e+05  3.921e+04  -4.210 2.93e-05 ***\n",
       "zipz95843                   NA         NA      NA       NA    \n",
       "zipz95864                   NA         NA      NA       NA    \n",
       "beds                -1.336e+04  5.016e+03  -2.664 0.007926 ** \n",
       "baths                1.314e+04  6.323e+03   2.078 0.038099 *  \n",
       "sqft                 1.148e+02  7.457e+00  15.388  < 2e-16 ***\n",
       "typeMulti_Family     3.034e+04  2.731e+04   1.111 0.266933    \n",
       "typeResidential      4.665e+04  1.298e+04   3.594 0.000351 ***\n",
       "latitude            -2.121e+05  1.895e+05  -1.120 0.263319    \n",
       "longitude           -6.519e+03  1.547e+05  -0.042 0.966399    \n",
       "---\n",
       "Signif. codes:  0 ‘***’ 0.001 ‘**’ 0.01 ‘*’ 0.05 ‘.’ 0.1 ‘ ’ 1\n",
       "\n",
       "(Dispersion parameter for gaussian family taken to be 4622177625)\n",
       "\n",
       "    Null deviance: 1.2350e+13  on 699  degrees of freedom\n",
       "Residual deviance: 2.8981e+12  on 627  degrees of freedom\n",
       "AIC: 17635\n",
       "\n",
       "Number of Fisher Scoring iterations: 2\n"
      ]
     },
     "metadata": {},
     "output_type": "display_data"
    }
   ],
   "source": [
    "# Train a caret glm model\n",
    "fit <- caret::train(form = price ~ ., \n",
    "                    data = train, \n",
    "                    trControl = trainControl(method = \"none\"),   \n",
    "                    method = \"glm\",  \n",
    "                    family = gaussian())\n",
    "summary(fit$finalModel)"
   ]
  },
  {
   "cell_type": "code",
   "execution_count": 11,
   "metadata": {
    "collapsed": false
   },
   "outputs": [
    {
     "name": "stderr",
     "output_type": "stream",
     "text": [
      "Warning message:\n",
      "In predict.lm(object, newdata, se.fit, scale = 1, type = ifelse(type == : prediction from a rank-deficient fit may be misleading"
     ]
    }
   ],
   "source": [
    "# Predict on the test set\n",
    "pred <- predict(fit, newdata = test)"
   ]
  },
  {
   "cell_type": "code",
   "execution_count": 12,
   "metadata": {
    "collapsed": false
   },
   "outputs": [
    {
     "data": {
      "text/html": [
       "0.733889319847418"
      ],
      "text/latex": [
       "0.733889319847418"
      ],
      "text/markdown": [
       "0.733889319847418"
      ],
      "text/plain": [
       "[1] 0.7338893"
      ]
     },
     "metadata": {},
     "output_type": "display_data"
    },
    {
     "data": {
      "text/html": [
       "66030.8440670652"
      ],
      "text/latex": [
       "66030.8440670652"
      ],
      "text/markdown": [
       "66030.8440670652"
      ],
      "text/plain": [
       "[1] 66030.84"
      ]
     },
     "metadata": {},
     "output_type": "display_data"
    }
   ],
   "source": [
    "# Compute model performance on the test set\n",
    "\n",
    "caret::R2(pred = pred, obs = test$price)\n",
    "caret::RMSE(pred = pred, obs = test$price)"
   ]
  },
  {
   "cell_type": "markdown",
   "metadata": {},
   "source": [
    "Ok, this looks much better.  And we didn't have to deal with the missing factor levels! :-)"
   ]
  },
  {
   "cell_type": "markdown",
   "metadata": {},
   "source": [
    "### h2o\n",
    "\n",
    "Authors: Tomas Nykodym, H2O.ai contributors\n",
    "\n",
    "Backend: Java\n",
    "\n",
    "The [h2o](https://cran.r-project.org/web/packages/h2o/index.html) package offers a data-distributed implementation of Generalized Linear Models.  A \"data-distribtued\" version uses distributed data frames, so that the whole design matrix does not need to fit into memory at once.  The h2o package fits both regularized and non-regularized GLMs.  The implementation details are documented [here](http://docs.h2o.ai/h2o/latest-stable/h2o-docs/booklets/GLMBooklet.pdf)."
   ]
  },
  {
   "cell_type": "code",
   "execution_count": 13,
   "metadata": {
    "collapsed": false
   },
   "outputs": [
    {
     "ename": "ERROR",
     "evalue": "Error in eval(expr, envir, enclos): could not find function \"h2o.shutdown\"\n",
     "output_type": "error",
     "traceback": [
      "Error in eval(expr, envir, enclos): could not find function \"h2o.shutdown\"\nTraceback:\n"
     ]
    }
   ],
   "source": [
    "h2o.shutdown(prompt = FALSE)"
   ]
  },
  {
   "cell_type": "code",
   "execution_count": 14,
   "metadata": {
    "collapsed": false
   },
   "outputs": [
    {
     "name": "stderr",
     "output_type": "stream",
     "text": [
      "Loading required package: statmod\n",
      "\n",
      "----------------------------------------------------------------------\n",
      "\n",
      "Your next step is to start H2O:\n",
      "    > h2o.init()\n",
      "\n",
      "For H2O package documentation, ask for help:\n",
      "    > ??h2o\n",
      "\n",
      "After starting H2O, you can use the Web UI at http://localhost:54321\n",
      "For more information visit http://docs.h2o.ai\n",
      "\n",
      "----------------------------------------------------------------------\n",
      "\n",
      "\n",
      "Attaching package: ‘h2o’\n",
      "\n",
      "The following objects are masked from ‘package:stats’:\n",
      "\n",
      "    sd, var\n",
      "\n",
      "The following objects are masked from ‘package:base’:\n",
      "\n",
      "    &&, %*%, %in%, ||, apply, as.factor, as.numeric, colnames,\n",
      "    colnames<-, ifelse, is.character, is.factor, is.numeric, log,\n",
      "    log10, log1p, log2, round, signif, trunc\n",
      "\n"
     ]
    },
    {
     "name": "stdout",
     "output_type": "stream",
     "text": [
      "\n",
      "H2O is not running yet, starting it now...\n",
      "\n",
      "Note:  In case of errors look at the following log files:\n",
      "    /var/folders/2j/jg4sl53d5q53tc2_nzm9fz5h0000gn/T//RtmpN5WlEN/h2o_me_started_from_r.out\n",
      "    /var/folders/2j/jg4sl53d5q53tc2_nzm9fz5h0000gn/T//RtmpN5WlEN/h2o_me_started_from_r.err\n",
      "\n",
      "\n",
      "Starting H2O JVM and connecting: . Connection successful!\n",
      "\n",
      "R is connected to the H2O cluster: \n",
      "    H2O cluster uptime:         1 seconds 202 milliseconds \n",
      "    H2O cluster version:        3.8.2.6 \n",
      "    H2O cluster name:           H2O_started_from_R_me_sot072 \n",
      "    H2O cluster total nodes:    1 \n",
      "    H2O cluster total memory:   3.56 GB \n",
      "    H2O cluster total cores:    8 \n",
      "    H2O cluster allowed cores:  8 \n",
      "    H2O cluster healthy:        TRUE \n",
      "    H2O Connection ip:          localhost \n",
      "    H2O Connection port:        54321 \n",
      "    H2O Connection proxy:       NA \n",
      "    R Version:                  R version 3.3.0 (2016-05-03) \n",
      "\n"
     ]
    }
   ],
   "source": [
    "# h2o.glm example\n",
    "#install.packages(\"h2o\")\n",
    "library(h2o)\n",
    "h2o.init(nthreads = -1)  #Start a local H2O cluster using nthreads = num available cores"
   ]
  },
  {
   "cell_type": "markdown",
   "metadata": {},
   "source": [
    "Typically one would load a dataset in parallel from disk using the `h2o.importFile()` function, however for the purposes of this tutorial, we are going to use a tiny built-in R dataset, so we can send that data to the H2O cluster (from R memory) using the `as.h2o()` function.  We would also use the `h2o.splitFrame()` function to split the data instead of the `caret::createDataPartition()`, but for an apples-to-apples comparison with the methods above, it's good to use the same exact train and test split, generated the same way as above."
   ]
  },
  {
   "cell_type": "code",
   "execution_count": 15,
   "metadata": {
    "collapsed": false
   },
   "outputs": [
    {
     "name": "stdout",
     "output_type": "stream",
     "text": [
      "\r",
      "  |                                                                            \r",
      "  |                                                                      |   0%\r",
      "  |                                                                            \r",
      "  |======================================================================| 100%\n"
     ]
    },
    {
     "data": {
      "text/html": [
       "<ol class=list-inline>\n",
       "\t<li>700</li>\n",
       "\t<li>9</li>\n",
       "</ol>\n"
      ],
      "text/latex": [
       "\\begin{enumerate*}\n",
       "\\item 700\n",
       "\\item 9\n",
       "\\end{enumerate*}\n"
      ],
      "text/markdown": [
       "1. 700\n",
       "2. 9\n",
       "\n",
       "\n"
      ],
      "text/plain": [
       "[1] 700   9"
      ]
     },
     "metadata": {},
     "output_type": "display_data"
    },
    {
     "data": {
      "text/html": [
       "<ol class=list-inline>\n",
       "\t<li>232</li>\n",
       "\t<li>9</li>\n",
       "</ol>\n"
      ],
      "text/latex": [
       "\\begin{enumerate*}\n",
       "\\item 232\n",
       "\\item 9\n",
       "\\end{enumerate*}\n"
      ],
      "text/markdown": [
       "1. 232\n",
       "2. 9\n",
       "\n",
       "\n"
      ],
      "text/plain": [
       "[1] 232   9"
      ]
     },
     "metadata": {},
     "output_type": "display_data"
    },
    {
     "data": {
      "text/html": [
       "<ol class=list-inline>\n",
       "\t<li>'city'</li>\n",
       "\t<li>'zip'</li>\n",
       "\t<li>'beds'</li>\n",
       "\t<li>'baths'</li>\n",
       "\t<li>'sqft'</li>\n",
       "\t<li>'type'</li>\n",
       "\t<li>'price'</li>\n",
       "\t<li>'latitude'</li>\n",
       "\t<li>'longitude'</li>\n",
       "</ol>\n"
      ],
      "text/latex": [
       "\\begin{enumerate*}\n",
       "\\item 'city'\n",
       "\\item 'zip'\n",
       "\\item 'beds'\n",
       "\\item 'baths'\n",
       "\\item 'sqft'\n",
       "\\item 'type'\n",
       "\\item 'price'\n",
       "\\item 'latitude'\n",
       "\\item 'longitude'\n",
       "\\end{enumerate*}\n"
      ],
      "text/markdown": [
       "1. 'city'\n",
       "2. 'zip'\n",
       "3. 'beds'\n",
       "4. 'baths'\n",
       "5. 'sqft'\n",
       "6. 'type'\n",
       "7. 'price'\n",
       "8. 'latitude'\n",
       "9. 'longitude'\n",
       "\n",
       "\n"
      ],
      "text/plain": [
       "[1] \"city\"      \"zip\"       \"beds\"      \"baths\"     \"sqft\"      \"type\"     \n",
       "[7] \"price\"     \"latitude\"  \"longitude\""
      ]
     },
     "metadata": {},
     "output_type": "display_data"
    }
   ],
   "source": [
    "# Load Sacramento dataset\n",
    "library(caret)\n",
    "data(\"Sacramento\")\n",
    "\n",
    "# Convert the data into an H2OFrame\n",
    "sac <- as.h2o(Sacramento)\n",
    "\n",
    "# Split the data into a 70/25% train/test sets\n",
    "set.seed(1)\n",
    "idxs <- caret::createDataPartition(y = Sacramento$price, p = 0.75)[[1]]\n",
    "train <- sac[idxs,]\n",
    "test <- sac[-idxs,]\n",
    "\n",
    "# Dimensions\n",
    "dim(train)\n",
    "dim(test)\n",
    "\n",
    "# Columns\n",
    "names(train)"
   ]
  },
  {
   "cell_type": "code",
   "execution_count": 16,
   "metadata": {
    "collapsed": false
   },
   "outputs": [
    {
     "name": "stdout",
     "output_type": "stream",
     "text": [
      "\r",
      "  |                                                                            \r",
      "  |                                                                      |   0%\r",
      "  |                                                                            \r",
      "  |======================================================================| 100%\n"
     ]
    },
    {
     "data": {
      "text/plain": [
       "   user  system elapsed \n",
       "  0.152   0.005   1.298 "
      ]
     },
     "metadata": {},
     "output_type": "display_data"
    }
   ],
   "source": [
    "# Identify the predictor columns\n",
    "xcols <- setdiff(names(train), \"price\")\n",
    "\n",
    "# Train a default GLM model with no regularization\n",
    "system.time(fit <- h2o.glm(x = xcols,\n",
    "                           y = \"price\",\n",
    "                           training_frame = train,\n",
    "                           family = \"gaussian\",\n",
    "                           lambda = 0))  #lambda = 0 means no regularization"
   ]
  },
  {
   "cell_type": "code",
   "execution_count": 17,
   "metadata": {
    "collapsed": false
   },
   "outputs": [
    {
     "name": "stdout",
     "output_type": "stream",
     "text": [
      "Model Details:\n",
      "==============\n",
      "\n",
      "H2ORegressionModel: glm\n",
      "Model Key:  GLM_model_R_1467015677812_1 \n",
      "GLM Model: summary\n",
      "    family     link regularization number_of_predictors_total\n",
      "1 gaussian identity           None                        113\n",
      "  number_of_active_predictors number_of_iterations  training_frame\n",
      "1                         104                    0 RTMP_sid_8211_2\n",
      "\n",
      "H2ORegressionMetrics: glm\n",
      "** Reported on training data. **\n",
      "\n",
      "MSE:  4140201839\n",
      "R2 :  0.765328\n",
      "Mean Residual Deviance :  4140201839\n",
      "Null Deviance :1.234975e+13\n",
      "Null D.o.F. :699\n",
      "Residual Deviance :2.898141e+12\n",
      "Residual D.o.F. :595\n",
      "AIC :17699.32\n",
      "\n",
      "\n",
      "\n",
      "\n",
      "\n",
      "Scoring History: \n",
      "data frame with 0 columns and 0 rows\n",
      "\n",
      "Variable Importances: (Extract with `h2o.varimp`) \n",
      "=================================================\n",
      "\n",
      "Standardized Coefficient Magnitudes: standardized coefficient magnitudes\n",
      "        names  coefficients sign\n",
      "1  zip.z95819 227041.126260  POS\n",
      "2  zip.z95811 225456.089371  POS\n",
      "3  zip.z95650 168023.485796  POS\n",
      "4 city.LOOMIS 168023.485796  POS\n",
      "5  zip.z95746 141127.252069  POS\n",
      "\n",
      "---\n",
      "                   names coefficients sign\n",
      "108      zip.missing(NA)     0.000000  POS\n",
      "109 city.DIAMOND_SPRINGS     0.000000  POS\n",
      "110   city.GARDEN_VALLEY     0.000000  POS\n",
      "111          city.PENRYN     0.000000  POS\n",
      "112     city.missing(NA)     0.000000  POS\n",
      "113     type.missing(NA)     0.000000  POS\n"
     ]
    }
   ],
   "source": [
    "summary(fit)"
   ]
  },
  {
   "cell_type": "code",
   "execution_count": 18,
   "metadata": {
    "collapsed": false
   },
   "outputs": [
    {
     "data": {
      "text/html": [
       "0.734942627890473"
      ],
      "text/latex": [
       "0.734942627890473"
      ],
      "text/markdown": [
       "0.734942627890473"
      ],
      "text/plain": [
       "[1] 0.7349426"
      ]
     },
     "metadata": {},
     "output_type": "display_data"
    },
    {
     "data": {
      "text/html": [
       "64639.0844892456"
      ],
      "text/latex": [
       "64639.0844892456"
      ],
      "text/markdown": [
       "64639.0844892456"
      ],
      "text/plain": [
       "[1] 64639.08"
      ]
     },
     "metadata": {},
     "output_type": "display_data"
    }
   ],
   "source": [
    "# H2O computes many model performance metrics automatically, accessible by utility functions\n",
    "\n",
    "perf <- h2o.performance(model = fit, newdata = test)\n",
    "h2o.r2(perf)\n",
    "sqrt(h2o.mse(perf))"
   ]
  },
  {
   "cell_type": "markdown",
   "metadata": {},
   "source": [
    "### speedglm\n",
    "\n",
    "Also worth metioning is the [speedglm](https://cran.r-project.org/web/packages/speedglm/index.html) package, which fits Linear and Generalized Linear Models to large data sets. This is particularly useful if R is linked against an optimized [BLAS](https://en.wikipedia.org/wiki/Basic_Linear_Algebra_Subprograms). For data sets of size greater of R memory, the fitting is performed by an iterative algorithm."
   ]
  },
  {
   "cell_type": "markdown",
   "metadata": {},
   "source": [
    "## Regularized GLM in R\n",
    "\n",
    "Ok, so let's assume that we have wide, sparse, collinear or big data.  If your training set falls into any of those categories, it might be a good idea to use a regularlized GLM.\n",
    "\n",
    "### glmnet\n",
    "\n",
    "Authors: [Jerome Friedman](https://statweb.stanford.edu/~jhf/), [Trevor Hastie](http://web.stanford.edu/~hastie/), [Noah Simon](http://faculty.washington.edu/nrsimon/), [Rob Tibshirani](http://statweb.stanford.edu/~tibs/)\n",
    "\n",
    "Backend: [Mortran](https://en.wikipedia.org/wiki/Mortran) (extension of Fortran used for scientific computation)\n",
    "\n",
    "[glmnet](http://web.stanford.edu/~hastie/glmnet/glmnet_beta.html) is a package that fits a generalized linear model via penalized maximum likelihood. The regularization path is computed for the lasso or elastic-net penalty at a grid of values for the regularization parameter lambda. The algorithm is extremely fast, and can exploit sparsity in the input matrix $\\boldsymbol{X}$.\n",
    "\n",
    "Features:\n",
    "\n",
    "- The code can handle sparse input-matrix formats, as well as range constraints on coefficients. \n",
    "- Glmnet also makes use of the strong rules for efficient restriction of the active set.  \n",
    "- The core of Glmnet is a set of fortran subroutines, which make for very fast execution. \n",
    "- The algorithms use coordinate descent with warm starts and active set iterations. \n",
    "- Supports the following distributions: `\"gaussian\",\"binomial\",\"poisson\",\"multinomial\",\"cox\",\"mgaussian\"`\n",
    "- Supports standardization and offsets.\n",
    "\n",
    "The Glmnet package is a fast implementation, but it requires some extra processing up-front to your data if it's not already represented as a numeric matrix.  For example, if you have categorical data or missing data, you need to deal with that yourself."
   ]
  },
  {
   "cell_type": "code",
   "execution_count": 19,
   "metadata": {
    "collapsed": false
   },
   "outputs": [
    {
     "name": "stderr",
     "output_type": "stream",
     "text": [
      "Loading required package: Matrix\n",
      "Loading required package: foreach\n",
      "Loaded glmnet 2.0-5\n",
      "\n"
     ]
    }
   ],
   "source": [
    "#install.packages(\"glmnet\")\n",
    "#install.packages(\"Cairo\")  #for plotting lasso coefficients in Jupyter notebook\n",
    "library(glmnet)"
   ]
  },
  {
   "cell_type": "code",
   "execution_count": 20,
   "metadata": {
    "collapsed": false
   },
   "outputs": [
    {
     "name": "stdout",
     "output_type": "stream",
     "text": [
      " num [1:100, 1:20] 0.274 2.245 -0.125 -0.544 -1.459 ...\n"
     ]
    },
    {
     "data": {
      "text/html": [
       "'matrix'"
      ],
      "text/latex": [
       "'matrix'"
      ],
      "text/markdown": [
       "'matrix'"
      ],
      "text/plain": [
       "[1] \"matrix\""
      ]
     },
     "metadata": {},
     "output_type": "display_data"
    }
   ],
   "source": [
    "data(\"QuickStartExample\")  #loads 'x' and 'y'\n",
    "str(x)\n",
    "class(x)"
   ]
  },
  {
   "cell_type": "code",
   "execution_count": 21,
   "metadata": {
    "collapsed": true
   },
   "outputs": [],
   "source": [
    "fit <- glmnet(x, y)"
   ]
  },
  {
   "cell_type": "markdown",
   "metadata": {},
   "source": [
    "We can visualize the coefficients by executing the `plot` function.  Each curve corresponds to a variable. It shows the path of its coefficient against the $\\ell_1$-norm of the whole coefficient vector at as $\\lambda$ varies. The axis above indicates the number of nonzero coefficients at the current $\\lambda$, which is the effective degrees of freedom for the lasso."
   ]
  },
  {
   "cell_type": "code",
   "execution_count": 22,
   "metadata": {
    "collapsed": false
   },
   "outputs": [
    {
     "data": {
      "image/png": "[encoded data removed]",
      "image/svg+xml": [
       "<?xml version=\"1.0\" encoding=\"UTF-8\"?>\n",
       "<svg xmlns=\"http://www.w3.org/2000/svg\" xmlns:xlink=\"http://www.w3.org/1999/xlink\" width=\"504pt\" height=\"504pt\" viewBox=\"0 0 504 504\" version=\"1.1\">\n",
       "<defs>\n",
       "<g>\n",
       "<symbol overflow=\"visible\" id=\"glyph0-0\">\n",
       "<path style=\"stroke:none;\" d=\"M 0.40625 0 L 0.40625 -8.96875 L 7.515625 -8.96875 L 7.515625 0 Z M 6.390625 -1.125 L 6.390625 -7.84375 L 1.53125 -7.84375 L 1.53125 -1.125 Z \"/>\n",
       "</symbol>\n",
       "<symbol overflow=\"visible\" id=\"glyph0-1\">\n",
       "<path style=\"stroke:none;\" d=\"M 3.375 -8.734375 C 4.507812 -8.734375 5.328125 -8.269531 5.828125 -7.34375 C 6.222656 -6.625 6.421875 -5.632812 6.421875 -4.375 C 6.421875 -3.1875 6.242188 -2.207031 5.890625 -1.4375 C 5.378906 -0.320312 4.539062 0.234375 3.375 0.234375 C 2.320312 0.234375 1.539062 -0.21875 1.03125 -1.125 C 0.601562 -1.882812 0.390625 -2.90625 0.390625 -4.1875 C 0.390625 -5.1875 0.519531 -6.039062 0.78125 -6.75 C 1.257812 -8.070312 2.125 -8.734375 3.375 -8.734375 Z M 3.375 -0.765625 C 3.9375 -0.765625 4.382812 -1.015625 4.71875 -1.515625 C 5.0625 -2.023438 5.234375 -2.96875 5.234375 -4.34375 C 5.234375 -5.332031 5.109375 -6.144531 4.859375 -6.78125 C 4.617188 -7.425781 4.148438 -7.75 3.453125 -7.75 C 2.804688 -7.75 2.332031 -7.441406 2.03125 -6.828125 C 1.726562 -6.222656 1.578125 -5.332031 1.578125 -4.15625 C 1.578125 -3.257812 1.675781 -2.539062 1.875 -2 C 2.164062 -1.175781 2.664062 -0.765625 3.375 -0.765625 Z \"/>\n",
       "</symbol>\n",
       "<symbol overflow=\"visible\" id=\"glyph0-2\">\n",
       "<path style=\"stroke:none;\" d=\"M 0.390625 0 C 0.429688 -0.75 0.585938 -1.398438 0.859375 -1.953125 C 1.128906 -2.515625 1.65625 -3.023438 2.4375 -3.484375 L 3.609375 -4.15625 C 4.140625 -4.46875 4.507812 -4.726562 4.71875 -4.9375 C 5.050781 -5.28125 5.21875 -5.671875 5.21875 -6.109375 C 5.21875 -6.609375 5.0625 -7.007812 4.75 -7.3125 C 4.445312 -7.613281 4.046875 -7.765625 3.546875 -7.765625 C 2.785156 -7.765625 2.265625 -7.476562 1.984375 -6.90625 C 1.828125 -6.601562 1.738281 -6.179688 1.71875 -5.640625 L 0.609375 -5.640625 C 0.617188 -6.398438 0.757812 -7.019531 1.03125 -7.5 C 1.5 -8.34375 2.335938 -8.765625 3.546875 -8.765625 C 4.546875 -8.765625 5.273438 -8.492188 5.734375 -7.953125 C 6.203125 -7.410156 6.4375 -6.8125 6.4375 -6.15625 C 6.4375 -5.457031 6.1875 -4.859375 5.6875 -4.359375 C 5.40625 -4.066406 4.894531 -3.71875 4.15625 -3.3125 L 3.328125 -2.84375 C 2.929688 -2.625 2.617188 -2.414062 2.390625 -2.21875 C 1.984375 -1.863281 1.726562 -1.46875 1.625 -1.03125 L 6.390625 -1.03125 L 6.390625 0 Z \"/>\n",
       "</symbol>\n",
       "<symbol overflow=\"visible\" id=\"glyph0-3\">\n",
       "<path style=\"stroke:none;\" d=\"M 4.125 -3.09375 L 4.125 -7.0625 L 1.328125 -3.09375 Z M 4.15625 0 L 4.15625 -2.140625 L 0.3125 -2.140625 L 0.3125 -3.203125 L 4.328125 -8.765625 L 5.25 -8.765625 L 5.25 -3.09375 L 6.53125 -3.09375 L 6.53125 -2.140625 L 5.25 -2.140625 L 5.25 0 Z \"/>\n",
       "</symbol>\n",
       "<symbol overflow=\"visible\" id=\"glyph0-4\">\n",
       "<path style=\"stroke:none;\" d=\"M 3.65625 -8.78125 C 4.632812 -8.78125 5.316406 -8.523438 5.703125 -8.015625 C 6.085938 -7.503906 6.28125 -6.984375 6.28125 -6.453125 L 5.1875 -6.453125 C 5.125 -6.796875 5.019531 -7.066406 4.875 -7.265625 C 4.613281 -7.628906 4.210938 -7.8125 3.671875 -7.8125 C 3.054688 -7.8125 2.566406 -7.523438 2.203125 -6.953125 C 1.847656 -6.390625 1.648438 -5.578125 1.609375 -4.515625 C 1.859375 -4.890625 2.175781 -5.171875 2.5625 -5.359375 C 2.90625 -5.515625 3.296875 -5.59375 3.734375 -5.59375 C 4.460938 -5.59375 5.097656 -5.359375 5.640625 -4.890625 C 6.191406 -4.421875 6.46875 -3.722656 6.46875 -2.796875 C 6.46875 -2.003906 6.207031 -1.300781 5.6875 -0.6875 C 5.164062 -0.0820312 4.429688 0.21875 3.484375 0.21875 C 2.660156 0.21875 1.953125 -0.0859375 1.359375 -0.703125 C 0.765625 -1.328125 0.46875 -2.375 0.46875 -3.84375 C 0.46875 -4.925781 0.597656 -5.847656 0.859375 -6.609375 C 1.367188 -8.054688 2.300781 -8.78125 3.65625 -8.78125 Z M 3.578125 -0.75 C 4.148438 -0.75 4.578125 -0.941406 4.859375 -1.328125 C 5.148438 -1.722656 5.296875 -2.179688 5.296875 -2.703125 C 5.296875 -3.148438 5.164062 -3.578125 4.90625 -3.984375 C 4.65625 -4.390625 4.191406 -4.59375 3.515625 -4.59375 C 3.046875 -4.59375 2.632812 -4.4375 2.28125 -4.125 C 1.925781 -3.8125 1.75 -3.335938 1.75 -2.703125 C 1.75 -2.148438 1.910156 -1.6875 2.234375 -1.3125 C 2.554688 -0.9375 3.003906 -0.75 3.578125 -0.75 Z \"/>\n",
       "</symbol>\n",
       "<symbol overflow=\"visible\" id=\"glyph0-5\">\n",
       "<path style=\"stroke:none;\" d=\"M 0.953125 -8.96875 L 2.171875 -8.96875 L 2.171875 -1.0625 L 6.703125 -1.0625 L 6.703125 0 L 0.953125 0 Z \"/>\n",
       "</symbol>\n",
       "<symbol overflow=\"visible\" id=\"glyph0-6\">\n",
       "<path style=\"stroke:none;\" d=\"M 1.203125 -6.1875 L 1.203125 -7.03125 C 1.992188 -7.101562 2.546875 -7.226562 2.859375 -7.40625 C 3.171875 -7.59375 3.40625 -8.023438 3.5625 -8.703125 L 4.421875 -8.703125 L 4.421875 0 L 3.25 0 L 3.25 -6.1875 Z \"/>\n",
       "</symbol>\n",
       "<symbol overflow=\"visible\" id=\"glyph0-7\">\n",
       "<path style=\"stroke:none;\" d=\"\"/>\n",
       "</symbol>\n",
       "<symbol overflow=\"visible\" id=\"glyph0-8\">\n",
       "<path style=\"stroke:none;\" d=\"M 0.953125 -8.96875 L 2.390625 -8.96875 L 6.921875 -1.703125 L 6.921875 -8.96875 L 8.0625 -8.96875 L 8.0625 0 L 6.703125 0 L 2.109375 -7.25 L 2.109375 0 L 0.953125 0 Z M 4.4375 -8.96875 Z \"/>\n",
       "</symbol>\n",
       "<symbol overflow=\"visible\" id=\"glyph0-9\">\n",
       "<path style=\"stroke:none;\" d=\"M 3.40625 -0.703125 C 4.132812 -0.703125 4.628906 -0.976562 4.890625 -1.53125 C 5.160156 -2.082031 5.296875 -2.695312 5.296875 -3.375 C 5.296875 -3.988281 5.203125 -4.484375 5.015625 -4.859375 C 4.703125 -5.460938 4.164062 -5.765625 3.40625 -5.765625 C 2.738281 -5.765625 2.25 -5.507812 1.9375 -5 C 1.632812 -4.488281 1.484375 -3.867188 1.484375 -3.140625 C 1.484375 -2.441406 1.632812 -1.859375 1.9375 -1.390625 C 2.25 -0.929688 2.738281 -0.703125 3.40625 -0.703125 Z M 3.4375 -6.71875 C 4.28125 -6.71875 4.992188 -6.4375 5.578125 -5.875 C 6.160156 -5.320312 6.453125 -4.5 6.453125 -3.40625 C 6.453125 -2.351562 6.191406 -1.484375 5.671875 -0.796875 C 5.160156 -0.109375 4.367188 0.234375 3.296875 0.234375 C 2.398438 0.234375 1.6875 -0.0664062 1.15625 -0.671875 C 0.625 -1.285156 0.359375 -2.101562 0.359375 -3.125 C 0.359375 -4.21875 0.632812 -5.085938 1.1875 -5.734375 C 1.75 -6.390625 2.5 -6.71875 3.4375 -6.71875 Z M 3.40625 -6.703125 Z \"/>\n",
       "</symbol>\n",
       "<symbol overflow=\"visible\" id=\"glyph0-10\">\n",
       "<path style=\"stroke:none;\" d=\"M 0.84375 -6.53125 L 1.875 -6.53125 L 1.875 -5.40625 C 1.96875 -5.625 2.179688 -5.890625 2.515625 -6.203125 C 2.847656 -6.523438 3.226562 -6.6875 3.65625 -6.6875 C 3.675781 -6.6875 3.710938 -6.679688 3.765625 -6.671875 C 3.816406 -6.671875 3.898438 -6.664062 4.015625 -6.65625 L 4.015625 -5.5 C 3.953125 -5.507812 3.890625 -5.515625 3.828125 -5.515625 C 3.773438 -5.523438 3.71875 -5.53125 3.65625 -5.53125 C 3.101562 -5.53125 2.675781 -5.347656 2.375 -4.984375 C 2.082031 -4.628906 1.9375 -4.222656 1.9375 -3.765625 L 1.9375 0 L 0.84375 0 Z \"/>\n",
       "</symbol>\n",
       "<symbol overflow=\"visible\" id=\"glyph0-11\">\n",
       "<path style=\"stroke:none;\" d=\"M 0.8125 -6.53125 L 1.890625 -6.53125 L 1.890625 -5.609375 C 2.148438 -5.929688 2.382812 -6.164062 2.59375 -6.3125 C 2.957031 -6.5625 3.367188 -6.6875 3.828125 -6.6875 C 4.347656 -6.6875 4.769531 -6.554688 5.09375 -6.296875 C 5.269531 -6.148438 5.429688 -5.9375 5.578125 -5.65625 C 5.816406 -6 6.101562 -6.253906 6.4375 -6.421875 C 6.769531 -6.597656 7.140625 -6.6875 7.546875 -6.6875 C 8.429688 -6.6875 9.03125 -6.367188 9.34375 -5.734375 C 9.507812 -5.390625 9.59375 -4.929688 9.59375 -4.359375 L 9.59375 0 L 8.453125 0 L 8.453125 -4.546875 C 8.453125 -4.972656 8.34375 -5.269531 8.125 -5.4375 C 7.914062 -5.601562 7.65625 -5.6875 7.34375 -5.6875 C 6.90625 -5.6875 6.53125 -5.539062 6.21875 -5.25 C 5.90625 -4.957031 5.75 -4.472656 5.75 -3.796875 L 5.75 0 L 4.640625 0 L 4.640625 -4.265625 C 4.640625 -4.710938 4.585938 -5.035156 4.484375 -5.234375 C 4.316406 -5.535156 4.003906 -5.6875 3.546875 -5.6875 C 3.128906 -5.6875 2.75 -5.523438 2.40625 -5.203125 C 2.070312 -4.890625 1.90625 -4.3125 1.90625 -3.46875 L 1.90625 0 L 0.8125 0 Z \"/>\n",
       "</symbol>\n",
       "<symbol overflow=\"visible\" id=\"glyph0-12\">\n",
       "<path style=\"stroke:none;\" d=\"M 6.53125 -8.59375 L 6.53125 -7.640625 C 6.25 -7.367188 5.875 -6.894531 5.40625 -6.21875 C 4.945312 -5.539062 4.539062 -4.8125 4.1875 -4.03125 C 3.832031 -3.269531 3.5625 -2.578125 3.375 -1.953125 C 3.257812 -1.546875 3.109375 -0.894531 2.921875 0 L 1.703125 0 C 1.984375 -1.664062 2.59375 -3.328125 3.53125 -4.984375 C 4.09375 -5.953125 4.679688 -6.785156 5.296875 -7.484375 L 0.453125 -7.484375 L 0.453125 -8.59375 Z \"/>\n",
       "</symbol>\n",
       "<symbol overflow=\"visible\" id=\"glyph0-13\">\n",
       "<path style=\"stroke:none;\" d=\"M 1.65625 -2.109375 C 1.6875 -1.503906 1.921875 -1.085938 2.359375 -0.859375 C 2.585938 -0.734375 2.84375 -0.671875 3.125 -0.671875 C 3.644531 -0.671875 4.085938 -0.890625 4.453125 -1.328125 C 4.828125 -1.765625 5.09375 -2.648438 5.25 -3.984375 C 5.007812 -3.597656 4.707031 -3.328125 4.34375 -3.171875 C 3.976562 -3.015625 3.59375 -2.9375 3.1875 -2.9375 C 2.34375 -2.9375 1.675781 -3.195312 1.1875 -3.71875 C 0.695312 -4.25 0.453125 -4.925781 0.453125 -5.75 C 0.453125 -6.550781 0.691406 -7.25 1.171875 -7.84375 C 1.648438 -8.445312 2.363281 -8.75 3.3125 -8.75 C 4.582031 -8.75 5.460938 -8.175781 5.953125 -7.03125 C 6.222656 -6.394531 6.359375 -5.601562 6.359375 -4.65625 C 6.359375 -3.59375 6.195312 -2.644531 5.875 -1.8125 C 5.34375 -0.4375 4.4375 0.25 3.15625 0.25 C 2.300781 0.25 1.648438 0.0234375 1.203125 -0.421875 C 0.765625 -0.867188 0.546875 -1.429688 0.546875 -2.109375 Z M 3.328125 -3.90625 C 3.765625 -3.90625 4.160156 -4.046875 4.515625 -4.328125 C 4.878906 -4.617188 5.0625 -5.125 5.0625 -5.84375 C 5.0625 -6.488281 4.898438 -6.96875 4.578125 -7.28125 C 4.253906 -7.59375 3.84375 -7.75 3.34375 -7.75 C 2.800781 -7.75 2.375 -7.566406 2.0625 -7.203125 C 1.75 -6.847656 1.59375 -6.367188 1.59375 -5.765625 C 1.59375 -5.191406 1.726562 -4.738281 2 -4.40625 C 2.28125 -4.070312 2.722656 -3.90625 3.328125 -3.90625 Z \"/>\n",
       "</symbol>\n",
       "<symbol overflow=\"visible\" id=\"glyph1-0\">\n",
       "<path style=\"stroke:none;\" d=\"M 0 -0.40625 L -8.96875 -0.40625 L -8.96875 -7.515625 L 0 -7.515625 Z M -1.125 -6.390625 L -7.84375 -6.390625 L -7.84375 -1.53125 L -1.125 -1.53125 Z \"/>\n",
       "</symbol>\n",
       "<symbol overflow=\"visible\" id=\"glyph1-1\">\n",
       "<path style=\"stroke:none;\" d=\"M -4.046875 -0.515625 L -4.046875 -3.578125 L -2.921875 -3.578125 L -2.921875 -0.515625 Z \"/>\n",
       "</symbol>\n",
       "<symbol overflow=\"visible\" id=\"glyph1-2\">\n",
       "<path style=\"stroke:none;\" d=\"M -6.1875 -1.203125 L -7.03125 -1.203125 C -7.101562 -1.992188 -7.226562 -2.546875 -7.40625 -2.859375 C -7.59375 -3.171875 -8.023438 -3.40625 -8.703125 -3.5625 L -8.703125 -4.421875 L 0 -4.421875 L 0 -3.25 L -6.1875 -3.25 Z \"/>\n",
       "</symbol>\n",
       "<symbol overflow=\"visible\" id=\"glyph1-3\">\n",
       "<path style=\"stroke:none;\" d=\"M -1.328125 -1.0625 L -1.328125 -2.34375 L 0 -2.34375 L 0 -1.0625 Z \"/>\n",
       "</symbol>\n",
       "<symbol overflow=\"visible\" id=\"glyph1-4\">\n",
       "<path style=\"stroke:none;\" d=\"M -8.734375 -3.375 C -8.734375 -4.507812 -8.269531 -5.328125 -7.34375 -5.828125 C -6.625 -6.222656 -5.632812 -6.421875 -4.375 -6.421875 C -3.1875 -6.421875 -2.207031 -6.242188 -1.4375 -5.890625 C -0.320312 -5.378906 0.234375 -4.539062 0.234375 -3.375 C 0.234375 -2.320312 -0.21875 -1.539062 -1.125 -1.03125 C -1.882812 -0.601562 -2.90625 -0.390625 -4.1875 -0.390625 C -5.1875 -0.390625 -6.039062 -0.519531 -6.75 -0.78125 C -8.070312 -1.257812 -8.734375 -2.125 -8.734375 -3.375 Z M -0.765625 -3.375 C -0.765625 -3.9375 -1.015625 -4.382812 -1.515625 -4.71875 C -2.023438 -5.0625 -2.96875 -5.234375 -4.34375 -5.234375 C -5.332031 -5.234375 -6.144531 -5.109375 -6.78125 -4.859375 C -7.425781 -4.617188 -7.75 -4.148438 -7.75 -3.453125 C -7.75 -2.804688 -7.441406 -2.332031 -6.828125 -2.03125 C -6.222656 -1.726562 -5.332031 -1.578125 -4.15625 -1.578125 C -3.257812 -1.578125 -2.539062 -1.675781 -2 -1.875 C -1.175781 -2.164062 -0.765625 -2.664062 -0.765625 -3.375 Z \"/>\n",
       "</symbol>\n",
       "<symbol overflow=\"visible\" id=\"glyph1-5\">\n",
       "<path style=\"stroke:none;\" d=\"M -2.234375 -1.546875 C -1.597656 -1.617188 -1.160156 -1.910156 -0.921875 -2.421875 C -0.804688 -2.679688 -0.75 -2.984375 -0.75 -3.328125 C -0.75 -3.972656 -0.953125 -4.453125 -1.359375 -4.765625 C -1.773438 -5.078125 -2.238281 -5.234375 -2.75 -5.234375 C -3.351562 -5.234375 -3.820312 -5.046875 -4.15625 -4.671875 C -4.488281 -4.304688 -4.65625 -3.863281 -4.65625 -3.34375 C -4.65625 -2.957031 -4.582031 -2.628906 -4.4375 -2.359375 C -4.289062 -2.085938 -4.085938 -1.859375 -3.828125 -1.671875 L -3.890625 -0.71875 L -8.59375 -1.390625 L -8.59375 -5.921875 L -7.53125 -5.921875 L -7.53125 -2.203125 L -5.109375 -1.84375 C -5.253906 -2.039062 -5.367188 -2.234375 -5.453125 -2.421875 C -5.585938 -2.742188 -5.65625 -3.117188 -5.65625 -3.546875 C -5.65625 -4.347656 -5.394531 -5.023438 -4.875 -5.578125 C -4.363281 -6.140625 -3.707031 -6.421875 -2.90625 -6.421875 C -2.082031 -6.421875 -1.351562 -6.164062 -0.71875 -5.65625 C -0.09375 -5.144531 0.21875 -4.328125 0.21875 -3.203125 C 0.21875 -2.492188 0.0195312 -1.863281 -0.375 -1.3125 C -0.78125 -0.769531 -1.398438 -0.46875 -2.234375 -0.40625 Z \"/>\n",
       "</symbol>\n",
       "<symbol overflow=\"visible\" id=\"glyph1-6\">\n",
       "<path style=\"stroke:none;\" d=\"M -9.203125 -4.734375 C -9.203125 -5.867188 -8.90625 -6.75 -8.3125 -7.375 C -7.71875 -8 -7.039062 -8.347656 -6.28125 -8.421875 L -6.28125 -7.234375 C -6.851562 -7.097656 -7.304688 -6.828125 -7.640625 -6.421875 C -7.984375 -6.023438 -8.15625 -5.46875 -8.15625 -4.75 C -8.15625 -3.863281 -7.84375 -3.144531 -7.21875 -2.59375 C -6.601562 -2.050781 -5.65625 -1.78125 -4.375 -1.78125 C -3.320312 -1.78125 -2.46875 -2.023438 -1.8125 -2.515625 C -1.164062 -3.015625 -0.84375 -3.75 -0.84375 -4.71875 C -0.84375 -5.613281 -1.1875 -6.296875 -1.875 -6.765625 C -2.226562 -7.015625 -2.703125 -7.195312 -3.296875 -7.3125 L -3.296875 -8.5 C -2.347656 -8.394531 -1.554688 -8.046875 -0.921875 -7.453125 C -0.148438 -6.742188 0.234375 -5.785156 0.234375 -4.578125 C 0.234375 -3.535156 -0.0820312 -2.660156 -0.71875 -1.953125 C -1.550781 -1.015625 -2.835938 -0.546875 -4.578125 -0.546875 C -5.898438 -0.546875 -6.984375 -0.894531 -7.828125 -1.59375 C -8.742188 -2.351562 -9.203125 -3.398438 -9.203125 -4.734375 Z M -9.203125 -4.484375 Z \"/>\n",
       "</symbol>\n",
       "<symbol overflow=\"visible\" id=\"glyph1-7\">\n",
       "<path style=\"stroke:none;\" d=\"M -0.703125 -3.40625 C -0.703125 -4.132812 -0.976562 -4.628906 -1.53125 -4.890625 C -2.082031 -5.160156 -2.695312 -5.296875 -3.375 -5.296875 C -3.988281 -5.296875 -4.484375 -5.203125 -4.859375 -5.015625 C -5.460938 -4.703125 -5.765625 -4.164062 -5.765625 -3.40625 C -5.765625 -2.738281 -5.507812 -2.25 -5 -1.9375 C -4.488281 -1.632812 -3.867188 -1.484375 -3.140625 -1.484375 C -2.441406 -1.484375 -1.859375 -1.632812 -1.390625 -1.9375 C -0.929688 -2.25 -0.703125 -2.738281 -0.703125 -3.40625 Z M -6.71875 -3.4375 C -6.71875 -4.28125 -6.4375 -4.992188 -5.875 -5.578125 C -5.320312 -6.160156 -4.5 -6.453125 -3.40625 -6.453125 C -2.351562 -6.453125 -1.484375 -6.191406 -0.796875 -5.671875 C -0.109375 -5.160156 0.234375 -4.367188 0.234375 -3.296875 C 0.234375 -2.398438 -0.0664062 -1.6875 -0.671875 -1.15625 C -1.285156 -0.625 -2.101562 -0.359375 -3.125 -0.359375 C -4.21875 -0.359375 -5.085938 -0.632812 -5.734375 -1.1875 C -6.390625 -1.75 -6.71875 -2.5 -6.71875 -3.4375 Z M -6.703125 -3.40625 Z \"/>\n",
       "</symbol>\n",
       "<symbol overflow=\"visible\" id=\"glyph1-8\">\n",
       "<path style=\"stroke:none;\" d=\"M -6.6875 -3.53125 C -6.6875 -3.988281 -6.578125 -4.4375 -6.359375 -4.875 C -6.140625 -5.3125 -5.859375 -5.644531 -5.515625 -5.875 C -5.179688 -6.09375 -4.796875 -6.238281 -4.359375 -6.3125 C -4.054688 -6.375 -3.578125 -6.40625 -2.921875 -6.40625 L -2.921875 -1.625 C -2.253906 -1.632812 -1.71875 -1.785156 -1.3125 -2.078125 C -0.914062 -2.378906 -0.71875 -2.835938 -0.71875 -3.453125 C -0.71875 -4.023438 -0.90625 -4.484375 -1.28125 -4.828125 C -1.507812 -5.015625 -1.765625 -5.148438 -2.046875 -5.234375 L -2.046875 -6.3125 C -1.804688 -6.289062 -1.539062 -6.195312 -1.25 -6.03125 C -0.957031 -5.875 -0.71875 -5.695312 -0.53125 -5.5 C -0.195312 -5.164062 0.0234375 -4.75 0.140625 -4.25 C 0.203125 -3.988281 0.234375 -3.691406 0.234375 -3.359375 C 0.234375 -2.546875 -0.0625 -1.851562 -0.65625 -1.28125 C -1.25 -0.71875 -2.078125 -0.4375 -3.140625 -0.4375 C -4.191406 -0.4375 -5.046875 -0.722656 -5.703125 -1.296875 C -6.359375 -1.867188 -6.6875 -2.613281 -6.6875 -3.53125 Z M -3.796875 -5.28125 C -4.265625 -5.238281 -4.644531 -5.132812 -4.9375 -4.96875 C -5.457031 -4.664062 -5.71875 -4.160156 -5.71875 -3.453125 C -5.71875 -2.953125 -5.535156 -2.53125 -5.171875 -2.1875 C -4.804688 -1.84375 -4.347656 -1.660156 -3.796875 -1.640625 Z M -6.703125 -3.421875 Z \"/>\n",
       "</symbol>\n",
       "<symbol overflow=\"visible\" id=\"glyph1-9\">\n",
       "<path style=\"stroke:none;\" d=\"M -7.53125 -1.078125 C -7.988281 -1.097656 -8.320312 -1.175781 -8.53125 -1.3125 C -8.90625 -1.570312 -9.09375 -2.066406 -9.09375 -2.796875 C -9.09375 -2.867188 -9.085938 -2.941406 -9.078125 -3.015625 C -9.078125 -3.085938 -9.070312 -3.171875 -9.0625 -3.265625 L -8.0625 -3.265625 C -8.070312 -3.148438 -8.078125 -3.066406 -8.078125 -3.015625 C -8.085938 -2.960938 -8.09375 -2.914062 -8.09375 -2.875 C -8.09375 -2.539062 -8.003906 -2.335938 -7.828125 -2.265625 C -7.648438 -2.203125 -7.207031 -2.171875 -6.5 -2.171875 L -6.5 -3.265625 L -5.640625 -3.265625 L -5.640625 -2.171875 L 0 -2.171875 L 0 -1.078125 L -5.640625 -1.078125 L -5.640625 -0.171875 L -6.5 -0.171875 L -6.5 -1.078125 Z \"/>\n",
       "</symbol>\n",
       "<symbol overflow=\"visible\" id=\"glyph1-10\">\n",
       "<path style=\"stroke:none;\" d=\"M -6.5 -0.8125 L -6.5 -1.921875 L 0 -1.921875 L 0 -0.8125 Z M -8.96875 -0.8125 L -8.96875 -1.921875 L -7.71875 -1.921875 L -7.71875 -0.8125 Z \"/>\n",
       "</symbol>\n",
       "<symbol overflow=\"visible\" id=\"glyph1-11\">\n",
       "<path style=\"stroke:none;\" d=\"M -6.71875 -3.328125 C -6.71875 -4.066406 -6.539062 -4.664062 -6.1875 -5.125 C -5.832031 -5.582031 -5.21875 -5.859375 -4.34375 -5.953125 L -4.34375 -4.890625 C -4.738281 -4.828125 -5.070312 -4.675781 -5.34375 -4.4375 C -5.613281 -4.207031 -5.75 -3.835938 -5.75 -3.328125 C -5.75 -2.628906 -5.40625 -2.128906 -4.71875 -1.828125 C -4.269531 -1.628906 -3.722656 -1.53125 -3.078125 -1.53125 C -2.421875 -1.53125 -1.867188 -1.664062 -1.421875 -1.9375 C -0.972656 -2.21875 -0.75 -2.65625 -0.75 -3.25 C -0.75 -3.707031 -0.890625 -4.066406 -1.171875 -4.328125 C -1.453125 -4.597656 -1.832031 -4.785156 -2.3125 -4.890625 L -2.3125 -5.953125 C -1.445312 -5.835938 -0.8125 -5.535156 -0.40625 -5.046875 C -0.0078125 -4.554688 0.1875 -3.929688 0.1875 -3.171875 C 0.1875 -2.316406 -0.125 -1.632812 -0.75 -1.125 C -1.375 -0.613281 -2.15625 -0.359375 -3.09375 -0.359375 C -4.238281 -0.359375 -5.128906 -0.632812 -5.765625 -1.1875 C -6.398438 -1.75 -6.71875 -2.460938 -6.71875 -3.328125 Z M -6.703125 -3.15625 Z \"/>\n",
       "</symbol>\n",
       "<symbol overflow=\"visible\" id=\"glyph1-12\">\n",
       "<path style=\"stroke:none;\" d=\"M -6.53125 -0.8125 L -6.53125 -1.84375 L -5.609375 -1.84375 C -5.992188 -2.15625 -6.269531 -2.484375 -6.4375 -2.828125 C -6.601562 -3.171875 -6.6875 -3.554688 -6.6875 -3.984375 C -6.6875 -4.910156 -6.363281 -5.535156 -5.71875 -5.859375 C -5.363281 -6.046875 -4.851562 -6.140625 -4.1875 -6.140625 L 0 -6.140625 L 0 -5.015625 L -4.125 -5.015625 C -4.519531 -5.015625 -4.835938 -4.957031 -5.078125 -4.84375 C -5.484375 -4.644531 -5.6875 -4.289062 -5.6875 -3.78125 C -5.6875 -3.519531 -5.660156 -3.304688 -5.609375 -3.140625 C -5.523438 -2.835938 -5.347656 -2.570312 -5.078125 -2.34375 C -4.859375 -2.15625 -4.632812 -2.035156 -4.40625 -1.984375 C -4.175781 -1.929688 -3.847656 -1.90625 -3.421875 -1.90625 L 0 -1.90625 L 0 -0.8125 Z M -6.703125 -3.390625 Z \"/>\n",
       "</symbol>\n",
       "<symbol overflow=\"visible\" id=\"glyph1-13\">\n",
       "<path style=\"stroke:none;\" d=\"M -8.359375 -1.03125 L -8.359375 -2.140625 L -6.53125 -2.140625 L -6.53125 -3.1875 L -5.640625 -3.1875 L -5.640625 -2.140625 L -1.375 -2.140625 C -1.144531 -2.140625 -0.992188 -2.21875 -0.921875 -2.375 C -0.867188 -2.457031 -0.84375 -2.597656 -0.84375 -2.796875 C -0.84375 -2.847656 -0.84375 -2.90625 -0.84375 -2.96875 C -0.851562 -3.03125 -0.859375 -3.101562 -0.859375 -3.1875 L 0 -3.1875 C 0.0390625 -3.050781 0.0664062 -2.914062 0.078125 -2.78125 C 0.0976562 -2.644531 0.109375 -2.5 0.109375 -2.34375 C 0.109375 -1.832031 -0.0195312 -1.484375 -0.28125 -1.296875 C -0.550781 -1.117188 -0.894531 -1.03125 -1.3125 -1.03125 L -5.640625 -1.03125 L -5.640625 -0.140625 L -6.53125 -0.140625 L -6.53125 -1.03125 Z \"/>\n",
       "</symbol>\n",
       "<symbol overflow=\"visible\" id=\"glyph1-14\">\n",
       "<path style=\"stroke:none;\" d=\"M -2.046875 -1.453125 C -1.679688 -1.484375 -1.398438 -1.578125 -1.203125 -1.734375 C -0.847656 -2.015625 -0.671875 -2.492188 -0.671875 -3.171875 C -0.671875 -3.578125 -0.757812 -3.9375 -0.9375 -4.25 C -1.113281 -4.5625 -1.390625 -4.71875 -1.765625 -4.71875 C -2.046875 -4.71875 -2.257812 -4.59375 -2.40625 -4.34375 C -2.5 -4.1875 -2.601562 -3.875 -2.71875 -3.40625 L -2.9375 -2.53125 C -3.070312 -1.96875 -3.226562 -1.554688 -3.40625 -1.296875 C -3.695312 -0.828125 -4.101562 -0.59375 -4.625 -0.59375 C -5.25 -0.59375 -5.75 -0.8125 -6.125 -1.25 C -6.507812 -1.695312 -6.703125 -2.296875 -6.703125 -3.046875 C -6.703125 -4.035156 -6.414062 -4.75 -5.84375 -5.1875 C -5.476562 -5.457031 -5.082031 -5.585938 -4.65625 -5.578125 L -4.65625 -4.546875 C -4.90625 -4.523438 -5.128906 -4.4375 -5.328125 -4.28125 C -5.617188 -4.03125 -5.765625 -3.59375 -5.765625 -2.96875 C -5.765625 -2.550781 -5.6875 -2.234375 -5.53125 -2.015625 C -5.375 -1.804688 -5.164062 -1.703125 -4.90625 -1.703125 C -4.613281 -1.703125 -4.382812 -1.84375 -4.21875 -2.125 C -4.113281 -2.289062 -4.023438 -2.53125 -3.953125 -2.84375 L -3.765625 -3.578125 C -3.578125 -4.359375 -3.394531 -4.882812 -3.21875 -5.15625 C -2.9375 -5.582031 -2.492188 -5.796875 -1.890625 -5.796875 C -1.304688 -5.796875 -0.800781 -5.570312 -0.375 -5.125 C 0.0390625 -4.6875 0.25 -4.019531 0.25 -3.125 C 0.25 -2.144531 0.03125 -1.453125 -0.40625 -1.046875 C -0.851562 -0.648438 -1.398438 -0.4375 -2.046875 -0.40625 Z M -6.703125 -3.078125 Z \"/>\n",
       "</symbol>\n",
       "</g>\n",
       "</defs>\n",
       "<g id=\"surface44\">\n",
       "<rect x=\"0\" y=\"0\" width=\"504\" height=\"504\" style=\"fill:rgb(100%,100%,100%);fill-opacity:1;stroke:none;\"/>\n",
       "<path style=\"fill:none;stroke-width:1;stroke-linecap:round;stroke-linejoin:round;stroke:rgb(0%,0%,0%);stroke-opacity:1;stroke-miterlimit:10;\" d=\"M 74.398438 259.648438 L 81.960938 240.773438 L 95.222656 223.074219 L 107.304688 206.953125 L 118.3125 192.261719 L 128.34375 178.875 L 140.648438 167.535156 L 157.332031 158.855469 L 173.734375 151.664062 L 191.398438 144.714844 L 208.707031 138.210938 L 224.476562 132.285156 L 238.84375 126.886719 L 251.9375 121.964844 L 265.230469 116.871094 L 277.605469 112.113281 L 288.878906 107.777344 L 299.152344 103.824219 L 308.511719 100.226562 L 317.039062 96.945312 L 324.808594 93.957031 L 331.890625 91.234375 L 339.269531 89.390625 L 346.265625 87.914062 L 352.636719 86.5625 L 358.445312 85.328125 L 363.738281 84.207031 L 368.558594 83.183594 L 372.953125 82.253906 L 376.953125 81.40625 L 380.8125 80.664062 L 384.476562 80.011719 L 387.820312 79.417969 L 390.867188 78.871094 L 393.71875 78.382812 L 397.066406 77.894531 L 400.632812 77.441406 L 403.988281 77.027344 L 407.4375 76.667969 L 411.257812 76.425781 L 414.992188 76.101562 L 418.390625 75.8125 L 421.621094 75.542969 L 424.652344 75.308594 L 427.589844 75.070312 L 430.503906 74.839844 L 433.335938 74.636719 L 435.957031 74.445312 L 438.347656 74.269531 L 440.527344 74.109375 L 442.496094 73.964844 L 444.304688 73.832031 L 445.953125 73.710938 L 447.457031 73.601562 L 448.824219 73.5 L 450.074219 73.40625 L 451.207031 73.324219 L 452.246094 73.246094 L 453.1875 73.175781 L 454.046875 73.113281 L 454.832031 73.054688 L 455.558594 73.003906 L 456.222656 72.953125 L 456.84375 72.910156 L 457.410156 72.867188 L 457.929688 72.832031 L 458.398438 72.800781 \"/>\n",
       "<path style=\"fill:none;stroke-width:1;stroke-linecap:round;stroke-linejoin:round;stroke:rgb(0%,0%,0%);stroke-opacity:1;stroke-miterlimit:10;\" d=\"M 74.398438 430.558594 L 386.921875 430.558594 \"/>\n",
       "<path style=\"fill:none;stroke-width:1;stroke-linecap:round;stroke-linejoin:round;stroke:rgb(0%,0%,0%);stroke-opacity:1;stroke-miterlimit:10;\" d=\"M 74.398438 430.558594 L 74.398438 437.761719 \"/>\n",
       "<path style=\"fill:none;stroke-width:1;stroke-linecap:round;stroke-linejoin:round;stroke:rgb(0%,0%,0%);stroke-opacity:1;stroke-miterlimit:10;\" d=\"M 178.574219 430.558594 L 178.574219 437.761719 \"/>\n",
       "<path style=\"fill:none;stroke-width:1;stroke-linecap:round;stroke-linejoin:round;stroke:rgb(0%,0%,0%);stroke-opacity:1;stroke-miterlimit:10;\" d=\"M 282.75 430.558594 L 282.75 437.761719 \"/>\n",
       "<path style=\"fill:none;stroke-width:1;stroke-linecap:round;stroke-linejoin:round;stroke:rgb(0%,0%,0%);stroke-opacity:1;stroke-miterlimit:10;\" d=\"M 386.921875 430.558594 L 386.921875 437.761719 \"/>\n",
       "<g style=\"fill:rgb(0%,0%,0%);fill-opacity:1;\">\n",
       "  <use xlink:href=\"#glyph0-1\" x=\"70.921875\" y=\"457.921875\"/>\n",
       "</g>\n",
       "<g style=\"fill:rgb(0%,0%,0%);fill-opacity:1;\">\n",
       "  <use xlink:href=\"#glyph0-2\" x=\"175.097656\" y=\"457.921875\"/>\n",
       "</g>\n",
       "<g style=\"fill:rgb(0%,0%,0%);fill-opacity:1;\">\n",
       "  <use xlink:href=\"#glyph0-3\" x=\"279.273438\" y=\"457.921875\"/>\n",
       "</g>\n",
       "<g style=\"fill:rgb(0%,0%,0%);fill-opacity:1;\">\n",
       "  <use xlink:href=\"#glyph0-4\" x=\"383.445312\" y=\"457.921875\"/>\n",
       "</g>\n",
       "<path style=\"fill:none;stroke-width:1;stroke-linecap:round;stroke-linejoin:round;stroke:rgb(0%,0%,0%);stroke-opacity:1;stroke-miterlimit:10;\" d=\"M 59.039062 395.183594 L 59.039062 124.109375 \"/>\n",
       "<path style=\"fill:none;stroke-width:1;stroke-linecap:round;stroke-linejoin:round;stroke:rgb(0%,0%,0%);stroke-opacity:1;stroke-miterlimit:10;\" d=\"M 59.039062 395.183594 L 51.839844 395.183594 \"/>\n",
       "<path style=\"fill:none;stroke-width:1;stroke-linecap:round;stroke-linejoin:round;stroke:rgb(0%,0%,0%);stroke-opacity:1;stroke-miterlimit:10;\" d=\"M 59.039062 327.417969 L 51.839844 327.417969 \"/>\n",
       "<path style=\"fill:none;stroke-width:1;stroke-linecap:round;stroke-linejoin:round;stroke:rgb(0%,0%,0%);stroke-opacity:1;stroke-miterlimit:10;\" d=\"M 59.039062 259.648438 L 51.839844 259.648438 \"/>\n",
       "<path style=\"fill:none;stroke-width:1;stroke-linecap:round;stroke-linejoin:round;stroke:rgb(0%,0%,0%);stroke-opacity:1;stroke-miterlimit:10;\" d=\"M 59.039062 191.878906 L 51.839844 191.878906 \"/>\n",
       "<path style=\"fill:none;stroke-width:1;stroke-linecap:round;stroke-linejoin:round;stroke:rgb(0%,0%,0%);stroke-opacity:1;stroke-miterlimit:10;\" d=\"M 59.039062 124.109375 L 51.839844 124.109375 \"/>\n",
       "<g style=\"fill:rgb(0%,0%,0%);fill-opacity:1;\">\n",
       "  <use xlink:href=\"#glyph1-1\" x=\"43.199219\" y=\"405.953125\"/>\n",
       "  <use xlink:href=\"#glyph1-2\" x=\"43.199219\" y=\"401.790527\"/>\n",
       "  <use xlink:href=\"#glyph1-3\" x=\"43.199219\" y=\"394.838623\"/>\n",
       "  <use xlink:href=\"#glyph1-4\" x=\"43.199219\" y=\"391.365723\"/>\n",
       "</g>\n",
       "<g style=\"fill:rgb(0%,0%,0%);fill-opacity:1;\">\n",
       "  <use xlink:href=\"#glyph1-1\" x=\"43.199219\" y=\"338.1875\"/>\n",
       "  <use xlink:href=\"#glyph1-4\" x=\"43.199219\" y=\"334.024902\"/>\n",
       "  <use xlink:href=\"#glyph1-3\" x=\"43.199219\" y=\"327.072998\"/>\n",
       "  <use xlink:href=\"#glyph1-5\" x=\"43.199219\" y=\"323.600098\"/>\n",
       "</g>\n",
       "<g style=\"fill:rgb(0%,0%,0%);fill-opacity:1;\">\n",
       "  <use xlink:href=\"#glyph1-4\" x=\"43.199219\" y=\"268.335938\"/>\n",
       "  <use xlink:href=\"#glyph1-3\" x=\"43.199219\" y=\"261.384033\"/>\n",
       "  <use xlink:href=\"#glyph1-4\" x=\"43.199219\" y=\"257.911133\"/>\n",
       "</g>\n",
       "<g style=\"fill:rgb(0%,0%,0%);fill-opacity:1;\">\n",
       "  <use xlink:href=\"#glyph1-4\" x=\"43.199219\" y=\"200.566406\"/>\n",
       "  <use xlink:href=\"#glyph1-3\" x=\"43.199219\" y=\"193.614502\"/>\n",
       "  <use xlink:href=\"#glyph1-5\" x=\"43.199219\" y=\"190.141602\"/>\n",
       "</g>\n",
       "<g style=\"fill:rgb(0%,0%,0%);fill-opacity:1;\">\n",
       "  <use xlink:href=\"#glyph1-2\" x=\"43.199219\" y=\"132.796875\"/>\n",
       "  <use xlink:href=\"#glyph1-3\" x=\"43.199219\" y=\"125.844971\"/>\n",
       "  <use xlink:href=\"#glyph1-4\" x=\"43.199219\" y=\"122.37207\"/>\n",
       "</g>\n",
       "<path style=\"fill:none;stroke-width:1;stroke-linecap:round;stroke-linejoin:round;stroke:rgb(0%,0%,0%);stroke-opacity:1;stroke-miterlimit:10;\" d=\"M 59.039062 430.558594 L 473.761719 430.558594 L 473.761719 59.039062 L 59.039062 59.039062 L 59.039062 430.558594 \"/>\n",
       "<g style=\"fill:rgb(0%,0%,0%);fill-opacity:1;\">\n",
       "  <use xlink:href=\"#glyph0-5\" x=\"242.433594\" y=\"486.71875\"/>\n",
       "  <use xlink:href=\"#glyph0-6\" x=\"249.385498\" y=\"486.71875\"/>\n",
       "  <use xlink:href=\"#glyph0-7\" x=\"256.337402\" y=\"486.71875\"/>\n",
       "  <use xlink:href=\"#glyph0-8\" x=\"259.810303\" y=\"486.71875\"/>\n",
       "  <use xlink:href=\"#glyph0-9\" x=\"268.837402\" y=\"486.71875\"/>\n",
       "  <use xlink:href=\"#glyph0-10\" x=\"275.789307\" y=\"486.71875\"/>\n",
       "  <use xlink:href=\"#glyph0-11\" x=\"279.951904\" y=\"486.71875\"/>\n",
       "</g>\n",
       "<g style=\"fill:rgb(0%,0%,0%);fill-opacity:1;\">\n",
       "  <use xlink:href=\"#glyph1-6\" x=\"14.398438\" y=\"277.453125\"/>\n",
       "  <use xlink:href=\"#glyph1-7\" x=\"14.398438\" y=\"268.426025\"/>\n",
       "  <use xlink:href=\"#glyph1-8\" x=\"14.398438\" y=\"261.474121\"/>\n",
       "  <use xlink:href=\"#glyph1-9\" x=\"14.398438\" y=\"254.522217\"/>\n",
       "  <use xlink:href=\"#glyph1-9\" x=\"14.398438\" y=\"251.049316\"/>\n",
       "  <use xlink:href=\"#glyph1-10\" x=\"14.398438\" y=\"247.576416\"/>\n",
       "  <use xlink:href=\"#glyph1-11\" x=\"14.398438\" y=\"244.799316\"/>\n",
       "  <use xlink:href=\"#glyph1-10\" x=\"14.398438\" y=\"238.549316\"/>\n",
       "  <use xlink:href=\"#glyph1-8\" x=\"14.398438\" y=\"235.772217\"/>\n",
       "  <use xlink:href=\"#glyph1-12\" x=\"14.398438\" y=\"228.820312\"/>\n",
       "  <use xlink:href=\"#glyph1-13\" x=\"14.398438\" y=\"221.868408\"/>\n",
       "  <use xlink:href=\"#glyph1-14\" x=\"14.398438\" y=\"218.395508\"/>\n",
       "</g>\n",
       "<path style=\"fill:none;stroke-width:1;stroke-linecap:round;stroke-linejoin:round;stroke:rgb(100%,0%,0%);stroke-opacity:1;stroke-miterlimit:10;\" d=\"M 74.398438 259.648438 L 403.988281 259.648438 L 407.4375 259.601562 L 411.257812 259.328125 L 414.992188 259.03125 L 418.390625 258.765625 L 421.621094 258.539062 L 424.652344 258.378906 L 427.589844 258.203125 L 430.503906 258.003906 L 433.335938 257.832031 L 435.957031 257.695312 L 438.347656 257.5625 L 440.527344 257.445312 L 442.496094 257.332031 L 444.304688 257.234375 L 445.953125 257.140625 L 447.457031 257.058594 L 448.824219 256.984375 L 450.074219 256.914062 L 451.207031 256.851562 L 452.246094 256.796875 L 453.1875 256.742188 L 454.046875 256.695312 L 454.832031 256.652344 L 455.558594 256.613281 L 456.222656 256.578125 L 456.84375 256.546875 L 457.410156 256.519531 L 457.929688 256.496094 L 458.398438 256.476562 \"/>\n",
       "<path style=\"fill:none;stroke-width:1;stroke-linecap:round;stroke-linejoin:round;stroke:rgb(0%,80.392157%,0%);stroke-opacity:1;stroke-miterlimit:10;\" d=\"M 74.398438 259.648438 L 173.734375 259.648438 L 191.398438 253.003906 L 208.707031 243.976562 L 224.476562 235.75 L 238.84375 228.257812 L 251.9375 221.429688 L 265.230469 215.460938 L 277.605469 210.074219 L 288.878906 205.167969 L 299.152344 200.695312 L 308.511719 196.621094 L 317.039062 192.90625 L 324.808594 189.523438 L 331.890625 186.441406 L 339.269531 183.582031 L 346.265625 180.957031 L 352.636719 178.570312 L 358.445312 176.390625 L 363.738281 174.40625 L 368.558594 172.601562 L 372.953125 170.953125 L 376.953125 169.453125 L 380.8125 168.152344 L 384.476562 167.027344 L 387.820312 165.996094 L 390.867188 165.058594 L 393.71875 164.21875 L 397.066406 163.640625 L 400.632812 163.351562 L 403.988281 163.070312 L 407.4375 162.742188 L 411.257812 162.285156 L 414.992188 161.71875 L 418.390625 161.226562 L 421.621094 160.789062 L 424.652344 160.332031 L 427.589844 159.933594 L 430.503906 159.554688 L 433.335938 159.21875 L 435.957031 158.882812 L 438.347656 158.585938 L 440.527344 158.320312 L 442.496094 158.066406 L 444.304688 157.84375 L 445.953125 157.644531 L 447.457031 157.457031 L 448.824219 157.292969 L 450.074219 157.136719 L 451.207031 157 L 452.246094 156.871094 L 453.1875 156.757812 L 454.046875 156.652344 L 454.832031 156.554688 L 455.558594 156.46875 L 456.222656 156.394531 L 456.84375 156.324219 L 457.410156 156.261719 L 457.929688 156.203125 L 458.398438 156.152344 \"/>\n",
       "<path style=\"fill:none;stroke-width:1;stroke-linecap:round;stroke-linejoin:round;stroke:rgb(0%,0%,100%);stroke-opacity:1;stroke-miterlimit:10;\" d=\"M 74.398438 259.648438 L 407.4375 259.648438 L 411.257812 259.566406 L 414.992188 258.871094 L 418.390625 258.253906 L 421.621094 257.6875 L 424.652344 257.1875 L 427.589844 256.691406 L 430.503906 256.199219 L 433.335938 255.710938 L 435.957031 255.261719 L 438.347656 254.847656 L 440.527344 254.46875 L 442.496094 254.132812 L 444.304688 253.820312 L 445.953125 253.535156 L 447.457031 253.277344 L 448.824219 253.039062 L 450.074219 252.824219 L 451.207031 252.625 L 452.246094 252.445312 L 453.1875 252.285156 L 454.046875 252.132812 L 454.832031 252 L 455.558594 251.875 L 456.222656 251.765625 L 456.84375 251.660156 L 457.410156 251.566406 L 457.929688 251.480469 L 458.398438 251.402344 \"/>\n",
       "<path style=\"fill:none;stroke-width:1;stroke-linecap:round;stroke-linejoin:round;stroke:rgb(0%,100%,100%);stroke-opacity:1;stroke-miterlimit:10;\" d=\"M 74.398438 259.648438 L 128.34375 259.648438 L 140.648438 264.074219 L 157.332031 274.839844 L 173.734375 284.203125 L 191.398438 293.109375 L 208.707031 301.398438 L 224.476562 308.949219 L 238.84375 315.828125 L 251.9375 322.097656 L 265.230469 327.652344 L 277.605469 332.679688 L 288.878906 337.261719 L 299.152344 341.4375 L 308.511719 345.242188 L 317.039062 348.710938 L 324.808594 351.871094 L 331.890625 354.746094 L 339.269531 357.246094 L 346.265625 359.484375 L 352.636719 361.523438 L 358.445312 363.382812 L 363.738281 365.074219 L 368.558594 366.617188 L 372.953125 368.023438 L 376.953125 369.304688 L 380.8125 370.429688 L 384.476562 371.410156 L 387.820312 372.308594 L 390.867188 373.128906 L 393.71875 373.886719 L 397.066406 374.59375 L 400.632812 375.101562 L 403.988281 375.59375 L 407.4375 376.089844 L 411.257812 376.585938 L 414.992188 376.972656 L 418.390625 377.324219 L 421.621094 377.664062 L 424.652344 378.03125 L 427.589844 378.371094 L 430.503906 378.714844 L 433.335938 379.03125 L 435.957031 379.347656 L 438.347656 379.625 L 440.527344 379.878906 L 442.496094 380.113281 L 444.304688 380.324219 L 445.953125 380.515625 L 447.457031 380.691406 L 448.824219 380.847656 L 450.074219 380.992188 L 451.207031 381.125 L 452.246094 381.246094 L 453.1875 381.355469 L 454.046875 381.453125 L 454.832031 381.542969 L 455.558594 381.628906 L 456.222656 381.703125 L 456.84375 381.769531 L 457.410156 381.828125 L 457.929688 381.882812 L 458.398438 381.933594 \"/>\n",
       "<path style=\"fill:none;stroke-width:1;stroke-linecap:round;stroke-linejoin:round;stroke:rgb(100%,0%,100%);stroke-opacity:1;stroke-miterlimit:10;\" d=\"M 74.398438 259.648438 L 140.648438 259.648438 L 157.332031 257.820312 L 173.734375 251.269531 L 191.398438 245.292969 L 208.707031 239.84375 L 224.476562 234.878906 L 238.84375 230.355469 L 251.9375 226.230469 L 265.230469 222.402344 L 277.605469 218.898438 L 288.878906 215.707031 L 299.152344 212.800781 L 308.511719 210.148438 L 317.039062 207.734375 L 324.808594 205.535156 L 331.890625 203.53125 L 339.269531 201.355469 L 346.265625 199.269531 L 352.636719 197.371094 L 358.445312 195.640625 L 363.738281 194.066406 L 368.558594 192.628906 L 372.953125 191.320312 L 376.953125 190.125 L 380.8125 188.980469 L 384.476562 187.894531 L 387.820312 186.90625 L 390.867188 186.003906 L 393.71875 185.183594 L 397.066406 184.449219 L 400.632812 183.800781 L 403.988281 183.183594 L 407.4375 182.550781 L 411.257812 181.929688 L 414.992188 181.480469 L 418.390625 181.066406 L 421.621094 180.695312 L 424.652344 180.351562 L 427.589844 180.03125 L 430.503906 179.710938 L 433.335938 179.375 L 435.957031 179.054688 L 438.347656 178.761719 L 440.527344 178.496094 L 442.496094 178.257812 L 444.304688 178.039062 L 445.953125 177.835938 L 447.457031 177.652344 L 448.824219 177.488281 L 450.074219 177.335938 L 451.207031 177.199219 L 452.246094 177.070312 L 453.1875 176.957031 L 454.046875 176.851562 L 454.832031 176.757812 L 455.558594 176.671875 L 456.222656 176.605469 L 456.84375 176.535156 L 457.410156 176.472656 L 457.929688 176.417969 L 458.398438 176.367188 \"/>\n",
       "<path style=\"fill:none;stroke-width:1;stroke-linecap:round;stroke-linejoin:round;stroke:rgb(0%,0%,0%);stroke-opacity:1;stroke-miterlimit:10;\" d=\"M 74.398438 259.648438 L 376.953125 259.648438 L 380.8125 259 L 384.476562 257.917969 L 387.820312 256.929688 L 390.867188 256.03125 L 393.71875 255.214844 L 397.066406 254.425781 L 400.632812 253.582031 L 403.988281 252.816406 L 407.4375 252.085938 L 411.257812 251.285156 L 414.992188 250.558594 L 418.390625 249.890625 L 421.621094 249.316406 L 424.652344 248.855469 L 427.589844 248.390625 L 430.503906 247.917969 L 433.335938 247.472656 L 435.957031 247.070312 L 438.347656 246.703125 L 440.527344 246.367188 L 442.496094 246.066406 L 444.304688 245.785156 L 445.953125 245.53125 L 447.457031 245.300781 L 448.824219 245.089844 L 450.074219 244.898438 L 451.207031 244.722656 L 452.246094 244.5625 L 453.1875 244.417969 L 454.046875 244.285156 L 454.832031 244.164062 L 455.558594 244.054688 L 456.222656 243.945312 L 456.84375 243.839844 L 457.410156 243.746094 L 457.929688 243.660156 L 458.398438 243.582031 \"/>\n",
       "<path style=\"fill:none;stroke-width:1;stroke-linecap:round;stroke-linejoin:round;stroke:rgb(100%,0%,0%);stroke-opacity:1;stroke-miterlimit:10;\" d=\"M 74.398438 259.648438 L 251.9375 259.648438 L 265.230469 255.425781 L 277.605469 250.769531 L 288.878906 246.527344 L 299.152344 242.660156 L 308.511719 239.140625 L 317.039062 235.929688 L 324.808594 233.003906 L 331.890625 230.339844 L 339.269531 228.09375 L 346.265625 226.101562 L 352.636719 224.289062 L 358.445312 222.636719 L 363.738281 221.128906 L 368.558594 219.757812 L 372.953125 218.507812 L 376.953125 217.367188 L 380.8125 216.363281 L 384.476562 215.46875 L 387.820312 214.65625 L 390.867188 213.917969 L 393.71875 213.234375 L 397.066406 212.585938 L 400.632812 212.050781 L 403.988281 211.554688 L 407.4375 211.105469 L 411.257812 210.765625 L 414.992188 210.414062 L 418.390625 210.09375 L 421.621094 209.773438 L 424.652344 209.441406 L 427.589844 209.136719 L 430.503906 208.84375 L 433.335938 208.542969 L 435.957031 208.242188 L 438.347656 207.96875 L 440.527344 207.722656 L 442.496094 207.503906 L 444.304688 207.300781 L 445.953125 207.113281 L 447.457031 206.945312 L 448.824219 206.789062 L 450.074219 206.648438 L 451.207031 206.519531 L 452.246094 206.402344 L 453.1875 206.296875 L 454.046875 206.199219 L 454.832031 206.109375 L 455.558594 206.03125 L 456.222656 205.96875 L 456.84375 205.910156 L 457.410156 205.855469 L 457.929688 205.804688 L 458.398438 205.757812 \"/>\n",
       "<path style=\"fill:none;stroke-width:1;stroke-linecap:round;stroke-linejoin:round;stroke:rgb(0%,80.392157%,0%);stroke-opacity:1;stroke-miterlimit:10;\" d=\"M 74.398438 259.648438 L 430.503906 259.648438 L 433.335938 260.003906 L 435.957031 260.425781 L 438.347656 260.808594 L 440.527344 261.152344 L 442.496094 261.457031 L 444.304688 261.746094 L 445.953125 262.011719 L 447.457031 262.25 L 448.824219 262.46875 L 450.074219 262.667969 L 451.207031 262.847656 L 452.246094 263.015625 L 453.1875 263.164062 L 454.046875 263.300781 L 454.832031 263.425781 L 455.558594 263.542969 L 456.222656 263.621094 L 456.84375 263.707031 L 457.410156 263.785156 L 457.929688 263.859375 L 458.398438 263.925781 \"/>\n",
       "<path style=\"fill:none;stroke-width:1;stroke-linecap:round;stroke-linejoin:round;stroke:rgb(0%,0%,100%);stroke-opacity:1;stroke-miterlimit:10;\" d=\"M 74.398438 259.648438 L 390.867188 259.648438 L 393.71875 259.484375 L 397.066406 258.289062 L 400.632812 256.957031 L 403.988281 255.738281 L 407.4375 254.582031 L 411.257812 253.441406 L 414.992188 252.355469 L 418.390625 251.363281 L 421.621094 250.425781 L 424.652344 249.585938 L 427.589844 248.84375 L 430.503906 248.234375 L 433.335938 247.613281 L 435.957031 247.046875 L 438.347656 246.523438 L 440.527344 246.046875 L 442.496094 245.621094 L 444.304688 245.222656 L 445.953125 244.863281 L 447.457031 244.535156 L 448.824219 244.234375 L 450.074219 243.960938 L 451.207031 243.710938 L 452.246094 243.484375 L 453.1875 243.28125 L 454.046875 243.089844 L 454.832031 242.921875 L 455.558594 242.765625 L 456.222656 242.628906 L 456.84375 242.5 L 457.410156 242.378906 L 457.929688 242.269531 L 458.398438 242.167969 \"/>\n",
       "<path style=\"fill:none;stroke-width:1;stroke-linecap:round;stroke-linejoin:round;stroke:rgb(0%,100%,100%);stroke-opacity:1;stroke-miterlimit:10;\" d=\"M 74.398438 259.648438 L 331.890625 259.648438 L 339.269531 257.277344 L 346.265625 254.414062 L 352.636719 251.808594 L 358.445312 249.4375 L 363.738281 247.273438 L 368.558594 245.300781 L 372.953125 243.507812 L 376.953125 241.871094 L 380.8125 240.34375 L 384.476562 238.929688 L 387.820312 237.636719 L 390.867188 236.464844 L 393.71875 235.386719 L 397.066406 234.386719 L 400.632812 233.441406 L 403.988281 232.605469 L 407.4375 231.929688 L 411.257812 231.445312 L 414.992188 231.074219 L 418.390625 230.742188 L 421.621094 230.398438 L 424.652344 230.050781 L 427.589844 229.695312 L 430.503906 229.292969 L 433.335938 228.949219 L 435.957031 228.652344 L 438.347656 228.378906 L 440.527344 228.128906 L 442.496094 227.898438 L 444.304688 227.691406 L 445.953125 227.5 L 448.824219 227.171875 L 450.074219 227.03125 L 451.207031 226.898438 L 452.246094 226.78125 L 453.1875 226.671875 L 454.046875 226.574219 L 454.832031 226.484375 L 455.558594 226.402344 L 456.222656 226.332031 L 456.84375 226.261719 L 457.410156 226.195312 L 457.929688 226.140625 L 458.398438 226.085938 \"/>\n",
       "<path style=\"fill:none;stroke-width:1;stroke-linecap:round;stroke-linejoin:round;stroke:rgb(100%,0%,100%);stroke-opacity:1;stroke-miterlimit:10;\" d=\"M 74.398438 259.648438 L 403.988281 259.648438 L 407.4375 259.816406 L 411.257812 260.660156 L 414.992188 261.492188 L 418.390625 262.246094 L 421.621094 262.933594 L 424.652344 263.53125 L 427.589844 264.066406 L 430.503906 264.511719 L 433.335938 264.910156 L 435.957031 265.289062 L 438.347656 265.628906 L 440.527344 265.9375 L 442.496094 266.210938 L 444.304688 266.464844 L 445.953125 266.699219 L 448.824219 267.109375 L 450.074219 267.285156 L 451.207031 267.449219 L 452.246094 267.597656 L 453.1875 267.730469 L 454.046875 267.851562 L 454.832031 267.964844 L 455.558594 268.066406 L 456.222656 268.152344 L 456.84375 268.234375 L 457.410156 268.3125 L 457.929688 268.386719 L 458.398438 268.453125 \"/>\n",
       "<path style=\"fill:none;stroke-width:1;stroke-linecap:round;stroke-linejoin:round;stroke:rgb(0%,0%,0%);stroke-opacity:1;stroke-miterlimit:10;\" d=\"M 74.398438 259.648438 L 400.632812 259.648438 L 403.988281 259.917969 L 407.4375 260.636719 L 411.257812 261.15625 L 414.992188 261.542969 L 418.390625 261.898438 L 421.621094 262.261719 L 424.652344 262.65625 L 427.589844 263.003906 L 430.503906 263.332031 L 433.335938 263.609375 L 435.957031 263.859375 L 438.347656 264.085938 L 440.527344 264.292969 L 442.496094 264.484375 L 444.304688 264.65625 L 445.953125 264.8125 L 447.457031 264.953125 L 448.824219 265.082031 L 450.074219 265.203125 L 451.207031 265.308594 L 452.246094 265.40625 L 453.1875 265.496094 L 454.046875 265.578125 L 454.832031 265.652344 L 455.558594 265.71875 L 456.222656 265.777344 L 456.84375 265.828125 L 457.410156 265.875 L 457.929688 265.914062 L 458.398438 265.953125 \"/>\n",
       "<path style=\"fill:none;stroke-width:1;stroke-linecap:round;stroke-linejoin:round;stroke:rgb(100%,0%,0%);stroke-opacity:1;stroke-miterlimit:10;\" d=\"M 74.398438 259.648438 L 81.960938 260.445312 L 95.222656 277.253906 L 107.304688 292.570312 L 118.3125 306.527344 L 128.34375 319.246094 L 140.648438 330.292969 L 157.332031 339.355469 L 173.734375 347.128906 L 191.398438 353.441406 L 208.707031 358.851562 L 224.476562 363.78125 L 238.84375 368.273438 L 251.9375 372.367188 L 265.230469 375.824219 L 277.605469 378.925781 L 288.878906 381.75 L 299.152344 384.324219 L 308.511719 386.671875 L 317.039062 388.808594 L 324.808594 390.753906 L 331.890625 392.527344 L 339.269531 394.199219 L 346.265625 395.734375 L 352.636719 397.136719 L 358.445312 398.414062 L 363.738281 399.578125 L 368.558594 400.636719 L 372.953125 401.601562 L 376.953125 402.484375 L 380.8125 403.308594 L 384.476562 404.078125 L 387.820312 404.78125 L 390.867188 405.421875 L 393.71875 406.027344 L 397.066406 406.839844 L 400.632812 407.859375 L 403.988281 408.765625 L 407.4375 409.539062 L 411.257812 410.164062 L 414.992188 410.832031 L 418.390625 411.4375 L 421.621094 412.011719 L 424.652344 412.503906 L 427.589844 412.96875 L 430.503906 413.378906 L 433.335938 413.746094 L 435.957031 414.054688 L 438.347656 414.347656 L 440.527344 414.613281 L 442.496094 414.847656 L 444.304688 415.066406 L 445.953125 415.269531 L 447.457031 415.453125 L 448.824219 415.621094 L 450.074219 415.773438 L 451.207031 415.914062 L 452.246094 416.039062 L 453.1875 416.152344 L 454.046875 416.257812 L 454.832031 416.355469 L 455.558594 416.441406 L 456.222656 416.523438 L 456.84375 416.601562 L 457.410156 416.675781 L 457.929688 416.738281 L 458.398438 416.800781 \"/>\n",
       "<path style=\"fill:none;stroke-width:1;stroke-linecap:round;stroke-linejoin:round;stroke:rgb(0%,80.392157%,0%);stroke-opacity:1;stroke-miterlimit:10;\" d=\"M 74.398438 259.648438 L 393.71875 259.648438 L 397.066406 260.25 L 400.632812 261.769531 L 403.988281 263.121094 L 407.4375 264.367188 L 411.257812 265.769531 L 414.992188 267.019531 L 418.390625 268.160156 L 421.621094 269.15625 L 424.652344 269.972656 L 427.589844 270.765625 L 430.503906 271.523438 L 433.335938 272.25 L 435.957031 272.898438 L 438.347656 273.496094 L 440.527344 274.042969 L 442.496094 274.53125 L 444.304688 274.984375 L 445.953125 275.398438 L 447.457031 275.773438 L 448.824219 276.117188 L 450.074219 276.429688 L 451.207031 276.714844 L 452.246094 276.972656 L 453.1875 277.210938 L 454.046875 277.425781 L 454.832031 277.621094 L 455.558594 277.800781 L 456.222656 277.949219 L 456.84375 278.09375 L 457.410156 278.230469 L 457.929688 278.355469 L 458.398438 278.464844 \"/>\n",
       "<path style=\"fill:none;stroke-width:1;stroke-linecap:round;stroke-linejoin:round;stroke:rgb(0%,0%,100%);stroke-opacity:1;stroke-miterlimit:10;\" d=\"M 74.398438 259.648438 L 418.390625 259.648438 L 421.621094 259.941406 L 424.652344 260.480469 L 427.589844 260.980469 L 430.503906 261.464844 L 433.335938 261.917969 L 435.957031 262.339844 L 438.347656 262.722656 L 440.527344 263.074219 L 442.496094 263.390625 L 444.304688 263.679688 L 445.953125 263.941406 L 447.457031 264.183594 L 448.824219 264.402344 L 450.074219 264.601562 L 451.207031 264.785156 L 452.246094 264.949219 L 453.1875 265.101562 L 454.046875 265.238281 L 454.832031 265.363281 L 455.558594 265.476562 L 456.222656 265.578125 L 456.84375 265.671875 L 457.410156 265.757812 L 457.929688 265.835938 L 458.398438 265.90625 \"/>\n",
       "<path style=\"fill:none;stroke-width:1;stroke-linecap:round;stroke-linejoin:round;stroke:rgb(0%,100%,100%);stroke-opacity:1;stroke-miterlimit:10;\" d=\"M 74.398438 259.648438 L 424.652344 259.648438 L 427.589844 259.910156 L 430.503906 260.535156 L 433.335938 261.121094 L 435.957031 261.660156 L 438.347656 262.148438 L 440.527344 262.597656 L 442.496094 263 L 444.304688 263.371094 L 445.953125 263.710938 L 447.457031 264.019531 L 448.824219 264.300781 L 450.074219 264.554688 L 451.207031 264.789062 L 452.246094 265 L 453.1875 265.195312 L 454.046875 265.371094 L 454.832031 265.53125 L 455.558594 265.675781 L 456.222656 265.816406 L 456.84375 265.941406 L 457.410156 266.054688 L 457.929688 266.160156 L 458.398438 266.253906 \"/>\n",
       "<path style=\"fill:none;stroke-width:1;stroke-linecap:round;stroke-linejoin:round;stroke:rgb(100%,0%,100%);stroke-opacity:1;stroke-miterlimit:10;\" d=\"M 74.398438 259.648438 L 403.988281 259.648438 L 407.4375 259.429688 L 411.257812 258.640625 L 414.992188 258.03125 L 418.390625 257.472656 L 421.621094 256.96875 L 424.652344 256.511719 L 427.589844 256.097656 L 430.503906 255.726562 L 433.335938 255.394531 L 435.957031 255.097656 L 438.347656 254.828125 L 440.527344 254.578125 L 442.496094 254.351562 L 444.304688 254.148438 L 445.953125 253.960938 L 447.457031 253.792969 L 448.824219 253.636719 L 450.074219 253.496094 L 451.207031 253.367188 L 452.246094 253.25 L 453.1875 253.144531 L 454.046875 253.046875 L 454.832031 252.960938 L 455.558594 252.878906 L 456.222656 252.789062 L 456.84375 252.710938 L 457.410156 252.640625 L 457.929688 252.574219 L 458.398438 252.515625 \"/>\n",
       "<path style=\"fill:none;stroke-width:1;stroke-linecap:round;stroke-linejoin:round;stroke:rgb(0%,0%,0%);stroke-opacity:1;stroke-miterlimit:10;\" d=\"M 74.398438 259.648438 L 454.832031 259.648438 L 455.558594 259.6875 L 456.222656 259.761719 L 456.84375 259.828125 L 457.410156 259.890625 L 457.929688 259.945312 L 458.398438 259.996094 \"/>\n",
       "<path style=\"fill:none;stroke-width:1;stroke-linecap:round;stroke-linejoin:round;stroke:rgb(100%,0%,0%);stroke-opacity:1;stroke-miterlimit:10;\" d=\"M 74.398438 259.648438 L 128.34375 259.648438 L 140.648438 264.847656 L 157.332031 277.925781 L 173.734375 289.730469 L 191.398438 300.898438 L 208.707031 311.261719 L 224.476562 320.703125 L 238.84375 329.304688 L 251.9375 337.140625 L 265.230469 343.605469 L 277.605469 349.367188 L 288.878906 354.613281 L 299.152344 359.394531 L 308.511719 363.753906 L 317.039062 367.722656 L 324.808594 371.34375 L 331.890625 374.636719 L 339.269531 378.175781 L 346.265625 381.566406 L 352.636719 384.648438 L 358.445312 387.460938 L 363.738281 390.019531 L 368.558594 392.355469 L 372.953125 394.480469 L 376.953125 396.417969 L 380.8125 398.136719 L 384.476562 399.671875 L 387.820312 401.066406 L 390.867188 402.339844 L 393.71875 403.503906 L 397.066406 404.664062 L 400.632812 405.855469 L 403.988281 406.941406 L 407.4375 407.910156 L 411.257812 408.722656 L 414.992188 409.460938 L 418.390625 410.132812 L 421.621094 410.738281 L 424.652344 411.285156 L 427.589844 411.769531 L 430.503906 412.199219 L 433.335938 412.5 L 435.957031 412.734375 L 438.347656 412.957031 L 440.527344 413.15625 L 442.496094 413.34375 L 444.304688 413.511719 L 445.953125 413.664062 L 447.457031 413.800781 L 448.824219 413.925781 L 450.074219 414.039062 L 451.207031 414.144531 L 452.246094 414.242188 L 453.1875 414.328125 L 454.046875 414.40625 L 454.832031 414.476562 L 455.558594 414.546875 L 456.222656 414.617188 L 456.84375 414.679688 L 457.410156 414.738281 L 457.929688 414.789062 L 458.398438 414.835938 \"/>\n",
       "<path style=\"fill:none;stroke-width:1;stroke-linecap:round;stroke-linejoin:round;stroke:rgb(0%,0%,0%);stroke-opacity:1;stroke-miterlimit:10;\" d=\"M 74.398438 59.039062 L 473.761719 59.039062 \"/>\n",
       "<path style=\"fill:none;stroke-width:1;stroke-linecap:round;stroke-linejoin:round;stroke:rgb(0%,0%,0%);stroke-opacity:1;stroke-miterlimit:10;\" d=\"M 74.398438 59.039062 L 74.398438 55.324219 \"/>\n",
       "<path style=\"fill:none;stroke-width:1;stroke-linecap:round;stroke-linejoin:round;stroke:rgb(0%,0%,0%);stroke-opacity:1;stroke-miterlimit:10;\" d=\"M 178.574219 59.039062 L 178.574219 55.324219 \"/>\n",
       "<path style=\"fill:none;stroke-width:1;stroke-linecap:round;stroke-linejoin:round;stroke:rgb(0%,0%,0%);stroke-opacity:1;stroke-miterlimit:10;\" d=\"M 282.75 59.039062 L 282.75 55.324219 \"/>\n",
       "<path style=\"fill:none;stroke-width:1;stroke-linecap:round;stroke-linejoin:round;stroke:rgb(0%,0%,0%);stroke-opacity:1;stroke-miterlimit:10;\" d=\"M 386.921875 59.039062 L 386.921875 55.324219 \"/>\n",
       "<g style=\"fill:rgb(0%,0%,0%);fill-opacity:1;\">\n",
       "  <use xlink:href=\"#glyph0-1\" x=\"70.921875\" y=\"43.199219\"/>\n",
       "</g>\n",
       "<g style=\"fill:rgb(0%,0%,0%);fill-opacity:1;\">\n",
       "  <use xlink:href=\"#glyph0-4\" x=\"175.097656\" y=\"43.199219\"/>\n",
       "</g>\n",
       "<g style=\"fill:rgb(0%,0%,0%);fill-opacity:1;\">\n",
       "  <use xlink:href=\"#glyph0-12\" x=\"279.273438\" y=\"43.199219\"/>\n",
       "</g>\n",
       "<g style=\"fill:rgb(0%,0%,0%);fill-opacity:1;\">\n",
       "  <use xlink:href=\"#glyph0-13\" x=\"383.445312\" y=\"43.199219\"/>\n",
       "</g>\n",
       "</g>\n",
       "</svg>\n"
      ],
      "text/plain": [
       "plot without title"
      ]
     },
     "metadata": {
      "image/svg+xml": {
       "isolated": true
      }
     },
     "output_type": "display_data"
    }
   ],
   "source": [
    "plot(fit)"
   ]
  },
  {
   "cell_type": "code",
   "execution_count": null,
   "metadata": {
    "collapsed": true
   },
   "outputs": [],
   "source": [
    "# TO DO: Add caret::twoClassSim example for comparison instead of \"QuickStartExample\""
   ]
  },
  {
   "cell_type": "code",
   "execution_count": 55,
   "metadata": {
    "collapsed": false
   },
   "outputs": [
    {
     "data": {
      "text/html": [
       "<ol class=list-inline>\n",
       "\t<li>100000</li>\n",
       "\t<li>116</li>\n",
       "</ol>\n"
      ],
      "text/latex": [
       "\\begin{enumerate*}\n",
       "\\item 100000\n",
       "\\item 116\n",
       "\\end{enumerate*}\n"
      ],
      "text/markdown": [
       "1. 100000\n",
       "2. 116\n",
       "\n",
       "\n"
      ],
      "text/plain": [
       "[1] 100000    116"
      ]
     },
     "metadata": {},
     "output_type": "display_data"
    }
   ],
   "source": [
    "# Simulate a binary response dataset\n",
    "library(caret)\n",
    "set.seed(1)\n",
    "df <- caret::twoClassSim(n = 100000,\n",
    "                         linearVars = 10, \n",
    "                         noiseVars = 50, \n",
    "                         corrVars = 50)\n",
    "dim(df)"
   ]
  },
  {
   "cell_type": "code",
   "execution_count": 75,
   "metadata": {
    "collapsed": false
   },
   "outputs": [
    {
     "data": {
      "text/html": [
       "<ol class=list-inline>\n",
       "\t<li>75000</li>\n",
       "\t<li>115</li>\n",
       "</ol>\n"
      ],
      "text/latex": [
       "\\begin{enumerate*}\n",
       "\\item 75000\n",
       "\\item 115\n",
       "\\end{enumerate*}\n"
      ],
      "text/markdown": [
       "1. 75000\n",
       "2. 115\n",
       "\n",
       "\n"
      ],
      "text/plain": [
       "[1] 75000   115"
      ]
     },
     "metadata": {},
     "output_type": "display_data"
    },
    {
     "data": {
      "text/html": [
       "75000"
      ],
      "text/latex": [
       "75000"
      ],
      "text/markdown": [
       "75000"
      ],
      "text/plain": [
       "[1] 75000"
      ]
     },
     "metadata": {},
     "output_type": "display_data"
    },
    {
     "data": {
      "text/html": [
       "<ol class=list-inline>\n",
       "\t<li>25000</li>\n",
       "\t<li>115</li>\n",
       "</ol>\n"
      ],
      "text/latex": [
       "\\begin{enumerate*}\n",
       "\\item 25000\n",
       "\\item 115\n",
       "\\end{enumerate*}\n"
      ],
      "text/markdown": [
       "1. 25000\n",
       "2. 115\n",
       "\n",
       "\n"
      ],
      "text/plain": [
       "[1] 25000   115"
      ]
     },
     "metadata": {},
     "output_type": "display_data"
    },
    {
     "data": {
      "text/html": [
       "25000"
      ],
      "text/latex": [
       "25000"
      ],
      "text/markdown": [
       "25000"
      ],
      "text/plain": [
       "[1] 25000"
      ]
     },
     "metadata": {},
     "output_type": "display_data"
    }
   ],
   "source": [
    "# Identify the response & predictor columns\n",
    "ycol <- \"Class\"\n",
    "xcols <- setdiff(names(df), ycol)\n",
    "df[,ycol] <- ifelse(df[,ycol]==\"Class1\", 0, 1)\n",
    "\n",
    "# Split the data into a 70/25% train/test sets\n",
    "set.seed(1)\n",
    "idxs <- caret::createDataPartition(y = df[,ycol], p = 0.75)[[1]]\n",
    "train <- df[idxs,]\n",
    "test <- df[-idxs,]\n",
    "train_y <- df[idxs, ycol]\n",
    "test_y <- df[-idxs, ycol]\n",
    "train_x <- model.matrix(~-1 + ., train[, xcols])\n",
    "test_x <- model.matrix(~-1 + ., test[, xcols])\n",
    "\n",
    "\n",
    "# Dimensions\n",
    "dim(train_x)\n",
    "length(train_y)\n",
    "dim(test_x)\n",
    "length(test_y)"
   ]
  },
  {
   "cell_type": "code",
   "execution_count": 76,
   "metadata": {
    "collapsed": false
   },
   "outputs": [
    {
     "data": {
      "text/html": [
       "<ol class=list-inline>\n",
       "\t<li>0</li>\n",
       "\t<li>1</li>\n",
       "\t<li>1</li>\n",
       "\t<li>0</li>\n",
       "\t<li>0</li>\n",
       "\t<li>0</li>\n",
       "</ol>\n"
      ],
      "text/latex": [
       "\\begin{enumerate*}\n",
       "\\item 0\n",
       "\\item 1\n",
       "\\item 1\n",
       "\\item 0\n",
       "\\item 0\n",
       "\\item 0\n",
       "\\end{enumerate*}\n"
      ],
      "text/markdown": [
       "1. 0\n",
       "2. 1\n",
       "3. 1\n",
       "4. 0\n",
       "5. 0\n",
       "6. 0\n",
       "\n",
       "\n"
      ],
      "text/plain": [
       "[1] 0 1 1 0 0 0"
      ]
     },
     "metadata": {},
     "output_type": "display_data"
    }
   ],
   "source": [
    "head(test_y)"
   ]
  },
  {
   "cell_type": "code",
   "execution_count": 88,
   "metadata": {
    "collapsed": false
   },
   "outputs": [
    {
     "data": {
      "text/plain": [
       "   user  system elapsed \n",
       " 38.178   0.998  39.187 "
      ]
     },
     "metadata": {},
     "output_type": "display_data"
    }
   ],
   "source": [
    "# Train a Lasso GLM\n",
    "system.time(cvfit <- cv.glmnet(x = train_x,\n",
    "                               y = train_y,\n",
    "                               family = \"binomial\",\n",
    "                               alpha = 1.0))  # alpha = 1 means lasso by default"
   ]
  },
  {
   "cell_type": "code",
   "execution_count": 92,
   "metadata": {
    "collapsed": false
   },
   "outputs": [
    {
     "data": {
      "text/html": [
       "<table>\n",
       "<thead><tr><th></th><th scope=col>1</th></tr></thead>\n",
       "<tbody>\n",
       "\t<tr><th scope=row>2</th><td>0.3136236</td></tr>\n",
       "\t<tr><th scope=row>14</th><td>0.6544411</td></tr>\n",
       "\t<tr><th scope=row>15</th><td>0.9269314</td></tr>\n",
       "\t<tr><th scope=row>21</th><td>0.1027764</td></tr>\n",
       "\t<tr><th scope=row>29</th><td>0.6640567</td></tr>\n",
       "\t<tr><th scope=row>30</th><td>0.5079524</td></tr>\n",
       "</tbody>\n",
       "</table>\n"
      ],
      "text/latex": [
       "\\begin{tabular}{r|l}\n",
       "  & 1\\\\\n",
       "\\hline\n",
       "\t2 & 0.3136236\\\\\n",
       "\t14 & 0.6544411\\\\\n",
       "\t15 & 0.9269314\\\\\n",
       "\t21 & 0.1027764\\\\\n",
       "\t29 & 0.6640567\\\\\n",
       "\t30 & 0.5079524\\\\\n",
       "\\end{tabular}\n"
      ],
      "text/markdown": [
       "1. 0.313623573108128\n",
       "2. 0.654441085969551\n",
       "3. 0.92693141202768\n",
       "4. 0.102776418399302\n",
       "5. 0.664056691877269\n",
       "6. 0.50795243094522\n",
       "\n",
       "\n"
      ],
      "text/plain": [
       "           1\n",
       "2  0.3136236\n",
       "14 0.6544411\n",
       "15 0.9269314\n",
       "21 0.1027764\n",
       "29 0.6640567\n",
       "30 0.5079524"
      ]
     },
     "metadata": {},
     "output_type": "display_data"
    }
   ],
   "source": [
    "preds <- predict(cvfit$glmnet.fit, \n",
    "                newx = test_x, \n",
    "                s = cvfit$lambda.min, \n",
    "                type = \"response\")\n",
    "head(preds)"
   ]
  },
  {
   "cell_type": "code",
   "execution_count": 93,
   "metadata": {
    "collapsed": false
   },
   "outputs": [
    {
     "data": {
      "text/html": [
       "0.908288759734547"
      ],
      "text/latex": [
       "0.908288759734547"
      ],
      "text/markdown": [
       "0.908288759734547"
      ],
      "text/plain": [
       "[1] 0.9082888"
      ]
     },
     "metadata": {},
     "output_type": "display_data"
    }
   ],
   "source": [
    "#install.packages(\"cvAUC\")\n",
    "library(cvAUC)\n",
    "\n",
    "cvAUC::AUC(predictions = preds, labels = test_y)"
   ]
  },
  {
   "cell_type": "code",
   "execution_count": null,
   "metadata": {
    "collapsed": true
   },
   "outputs": [],
   "source": [
    "plot(cvfit)"
   ]
  },
  {
   "cell_type": "code",
   "execution_count": null,
   "metadata": {
    "collapsed": true
   },
   "outputs": [],
   "source": [
    "coef(cvfit, s = \"lambda.min\")"
   ]
  },
  {
   "cell_type": "markdown",
   "metadata": {},
   "source": [
    "### h2o\n",
    "\n",
    "Introduced in the previous section, the h2o package can perform unregularized or regularized regression.  By default, `h2o.glm` will perform an Elastic Net regression.  Similar to the `glmnet` function, you can adjust the Elastic Net penalty through the `alpha` parameter (`alpha = 1.0` is Lasso and `alpha = 0.0` is Ridge)."
   ]
  },
  {
   "cell_type": "code",
   "execution_count": 94,
   "metadata": {
    "collapsed": false
   },
   "outputs": [
    {
     "data": {
      "text/html": [
       "<ol class=list-inline>\n",
       "\t<li>100000</li>\n",
       "\t<li>116</li>\n",
       "</ol>\n"
      ],
      "text/latex": [
       "\\begin{enumerate*}\n",
       "\\item 100000\n",
       "\\item 116\n",
       "\\end{enumerate*}\n"
      ],
      "text/markdown": [
       "1. 100000\n",
       "2. 116\n",
       "\n",
       "\n"
      ],
      "text/plain": [
       "[1] 100000    116"
      ]
     },
     "metadata": {},
     "output_type": "display_data"
    }
   ],
   "source": [
    "# Simulate a binary response dataset\n",
    "library(caret)\n",
    "set.seed(1)\n",
    "df <- caret::twoClassSim(n = 100000,\n",
    "                         linearVars = 10, \n",
    "                         noiseVars = 50, \n",
    "                         corrVars = 50)\n",
    "dim(df)"
   ]
  },
  {
   "cell_type": "code",
   "execution_count": 95,
   "metadata": {
    "collapsed": false
   },
   "outputs": [
    {
     "name": "stdout",
     "output_type": "stream",
     "text": [
      " Connection successful!\n",
      "\n",
      "R is connected to the H2O cluster: \n",
      "    H2O cluster uptime:         40 minutes 25 seconds \n",
      "    H2O cluster version:        3.8.2.6 \n",
      "    H2O cluster name:           H2O_started_from_R_me_sot072 \n",
      "    H2O cluster total nodes:    1 \n",
      "    H2O cluster total memory:   2.84 GB \n",
      "    H2O cluster total cores:    8 \n",
      "    H2O cluster allowed cores:  8 \n",
      "    H2O cluster healthy:        TRUE \n",
      "    H2O Connection ip:          localhost \n",
      "    H2O Connection port:        54321 \n",
      "    H2O Connection proxy:       NA \n",
      "    R Version:                  R version 3.3.0 (2016-05-03) \n",
      "\n",
      "  |======================================================================| 100%\n"
     ]
    }
   ],
   "source": [
    "# Convert the data into an H2OFrame\n",
    "library(h2o)\n",
    "h2o.init(nthreads = -1)\n",
    "hf <- as.h2o(df)"
   ]
  },
  {
   "cell_type": "code",
   "execution_count": 97,
   "metadata": {
    "collapsed": true
   },
   "outputs": [],
   "source": [
    "# Identify the response & predictor columns\n",
    "ycol <- \"Class\"\n",
    "xcols <- setdiff(names(hf), ycol)\n",
    "\n",
    "# Convert the 0/1 binary response to a factor \n",
    "hf[,ycol] <- as.factor(hf[,ycol])"
   ]
  },
  {
   "cell_type": "code",
   "execution_count": 98,
   "metadata": {
    "collapsed": false
   },
   "outputs": [
    {
     "data": {
      "text/html": [
       "<ol class=list-inline>\n",
       "\t<li>100000</li>\n",
       "\t<li>116</li>\n",
       "</ol>\n"
      ],
      "text/latex": [
       "\\begin{enumerate*}\n",
       "\\item 100000\n",
       "\\item 116\n",
       "\\end{enumerate*}\n"
      ],
      "text/markdown": [
       "1. 100000\n",
       "2. 116\n",
       "\n",
       "\n"
      ],
      "text/plain": [
       "[1] 100000    116"
      ]
     },
     "metadata": {},
     "output_type": "display_data"
    }
   ],
   "source": [
    "dim(df)"
   ]
  },
  {
   "cell_type": "code",
   "execution_count": 99,
   "metadata": {
    "collapsed": false
   },
   "outputs": [
    {
     "data": {
      "text/html": [
       "<ol class=list-inline>\n",
       "\t<li>75001</li>\n",
       "\t<li>116</li>\n",
       "</ol>\n"
      ],
      "text/latex": [
       "\\begin{enumerate*}\n",
       "\\item 75001\n",
       "\\item 116\n",
       "\\end{enumerate*}\n"
      ],
      "text/markdown": [
       "1. 75001\n",
       "2. 116\n",
       "\n",
       "\n"
      ],
      "text/plain": [
       "[1] 75001   116"
      ]
     },
     "metadata": {},
     "output_type": "display_data"
    },
    {
     "data": {
      "text/html": [
       "<ol class=list-inline>\n",
       "\t<li>24999</li>\n",
       "\t<li>116</li>\n",
       "</ol>\n"
      ],
      "text/latex": [
       "\\begin{enumerate*}\n",
       "\\item 24999\n",
       "\\item 116\n",
       "\\end{enumerate*}\n"
      ],
      "text/markdown": [
       "1. 24999\n",
       "2. 116\n",
       "\n",
       "\n"
      ],
      "text/plain": [
       "[1] 24999   116"
      ]
     },
     "metadata": {},
     "output_type": "display_data"
    }
   ],
   "source": [
    "# Split the data into a 70/25% train/test sets\n",
    "set.seed(1)\n",
    "idxs <- caret::createDataPartition(y = df[,ycol], p = 0.75)[[1]]\n",
    "train <- hf[idxs,]\n",
    "test <- hf[-idxs,]\n",
    "\n",
    "# Dimensions\n",
    "dim(train)\n",
    "dim(test)"
   ]
  },
  {
   "cell_type": "code",
   "execution_count": 100,
   "metadata": {
    "collapsed": false
   },
   "outputs": [
    {
     "name": "stdout",
     "output_type": "stream",
     "text": [
      "\r",
      "  |                                                                            \r",
      "  |                                                                      |   0%\r",
      "  |                                                                            \r",
      "  |=============                                                         |  18%\r",
      "  |                                                                            \r",
      "  |========================                                              |  34%\r",
      "  |                                                                            \r",
      "  |==================================                                    |  49%\r",
      "  |                                                                            \r",
      "  |======================================================================| 100%\n"
     ]
    },
    {
     "data": {
      "text/plain": [
       "   user  system elapsed \n",
       "  0.196   0.008   4.297 "
      ]
     },
     "metadata": {},
     "output_type": "display_data"
    }
   ],
   "source": [
    "# Train a Lasso GLM\n",
    "system.time(fit <- h2o.glm(x = xcols,\n",
    "                           y = ycol,\n",
    "                           training_frame = train,\n",
    "                           family = \"binomial\",\n",
    "                           lambda_search = TRUE,  # compute lasso path\n",
    "                           alpha = 1))  # alpha = 1 means lasso, same as glmnet above"
   ]
  },
  {
   "cell_type": "code",
   "execution_count": 101,
   "metadata": {
    "collapsed": false
   },
   "outputs": [
    {
     "data": {
      "text/html": [
       "0.91198390500988"
      ],
      "text/latex": [
       "0.91198390500988"
      ],
      "text/markdown": [
       "0.91198390500988"
      ],
      "text/plain": [
       "[1] 0.9119839"
      ]
     },
     "metadata": {},
     "output_type": "display_data"
    }
   ],
   "source": [
    "# Compute AUC on test dataset\n",
    "# H2O computes many model performance metrics automatically, including AUC\n",
    "\n",
    "perf <- h2o.performance(model = fit,\n",
    "                        newdata = test)\n",
    "h2o.auc(perf)"
   ]
  },
  {
   "cell_type": "markdown",
   "metadata": {},
   "source": [
    "# References\n",
    "\n",
    "[1] [https://en.wikipedia.org/wiki/Linear_regression#Generalized\\_linear\\_models](https://en.wikipedia.org/wiki/Linear_regression#Generalized_linear_models)\n",
    "\n",
    "[2] [https://en.wikipedia.org/wiki/Generalized\\_linear\\_model](https://en.wikipedia.org/wiki/Generalized_linear_model)\n",
    "\n",
    "[3] [Tibshirani, R. (1996). Regression shrinkage and selection via the lasso. J. Royal. Statist. Soc B., Vol. 58, No. 1, pages 267-288). ](http://www-stat.stanford.edu/%7Etibs/lasso/lasso.pdf)\n"
   ]
  }
 ],
 "metadata": {
  "kernelspec": {
   "display_name": "R",
   "language": "R",
   "name": "ir"
  },
  "language_info": {
   "codemirror_mode": "r",
   "file_extension": ".r",
   "mimetype": "text/x-r-source",
   "name": "R",
   "pygments_lexer": "r",
   "version": "3.3.0"
  }
 },
 "nbformat": 4,
 "nbformat_minor": 0
}
