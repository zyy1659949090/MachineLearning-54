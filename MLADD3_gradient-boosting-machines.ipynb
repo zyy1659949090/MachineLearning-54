{
 "cells": [
  {
   "cell_type": "markdown",
   "metadata": {},
   "source": [
    "# Gradient Boosting Machines "
   ]
  },
  {
   "cell_type": "markdown",
   "metadata": {},
   "source": [
    "* * *\n",
    "![Alt text](./images/shrubs.jpg \"GBMs\")\n",
    "* * *\n",
    "Image Source: brucecompany.com"
   ]
  },
  {
   "cell_type": "markdown",
   "metadata": {},
   "source": [
    "## Introduction\n",
    "\n",
    "[Gradient boosting](https://en.wikipedia.org/wiki/Gradient_boosting) is a machine learning technique for regression and classification problems, which produces a prediction model in the form of an ensemble of weak prediction models, typically decision trees. It builds the model in an iterative fashion like other boosting methods do, and it generalizes them by allowing optimization of an arbitrary differentiable loss function.\n",
    "\n",
    "It is recommended that you read through the accompanying [Classification and Regression Trees Tutorial](decision-trees.ipynb) for an overview of decision trees."
   ]
  },
  {
   "cell_type": "markdown",
   "metadata": {},
   "source": [
    "## History\n",
    "\n",
    "Boosting is one of the most powerful learning ideas introduced in the last twenty years. It was originally designed for classification problems, but it can be extended to regression as well. The motivation for boosting was a procedure that combines the outputs of many \"weak\" classifiers to produce a powerful \"committee.\"  A weak classifier (e.g. decision tree) is one whose error rate is only slightly better than random guessing. \n",
    "\n",
    "[AdaBoost](https://en.wikipedia.org/wiki/AdaBoost) short for \"Adaptive Boosting\", is a machine learning meta-algorithm formulated by [Yoav Freund](https://en.wikipedia.org/wiki/Yoav_Freund) and [Robert Schapire](https://en.wikipedia.org/wiki/Robert_Schapire) in 1996, which is now considered to be a special case of Gradient Boosting.  There are [some differences](http://stats.stackexchange.com/questions/164233/intuitive-explanations-of-differences-between-gradient-boosting-trees-gbm-ad) between the AdaBoost algorithm and modern Gradient Boosting.  In the AdaBoost algorithm, the \"shortcomings\" of existing weak learners are identified by high-weight data points, however in Gradient Boosting, the shortcomings are identified by gradients.\n",
    "\n",
    "The idea of gradient boosting originated in the observation by Leo Breiman that boosting can be interpreted as an optimization algorithm on a suitable cost function. Explicit regression gradient boosting algorithms were subsequently developed by Jerome H. Friedman, simultaneously with the more general functional gradient boosting perspective of Llew Mason, Jonathan Baxter, Peter Bartlett and Marcus Frean. The latter two papers introduced the abstract view of boosting algorithms as iterative functional gradient descent algorithms. That is, algorithms that optimize a cost function over function space by iteratively choosing a function (weak hypothesis) that points in the negative gradient direction. This functional gradient view of boosting has led to the development of boosting algorithms in many areas of machine learning and statistics beyond regression and classification.\n",
    "\n",
    "In general, in terms of model performance, we have the following heirarchy:\n",
    "\n",
    "$$Boosting > Random \\: Forest > Bagging > Single \\: Tree$$"
   ]
  },
  {
   "cell_type": "markdown",
   "metadata": {},
   "source": [
    "## Boosting\n",
    "\n",
    "[Gradient boosting](https://en.wikipedia.org/wiki/Gradient_boosting) is a machine learning technique for regression and classification problems, which produces a prediction model in the form of an ensemble of weak prediction models, typically decision trees. It builds the model in a stage-wise fashion like other boosting methods do, and it generalizes them by allowing optimization of an arbitrary differentiable loss function.\n",
    "\n",
    "The purpose of boosting is to sequentially apply the weak classification algorithm to repeatedly modified versions of the data, thereby producing a sequence of weak classifiers $G_m(x)$, $m = 1, 2, ... , M$."
   ]
  },
  {
   "cell_type": "markdown",
   "metadata": {},
   "source": [
    "## Stagewise Additive Modeling\n",
    "\n",
    "Boosting builds an additive model:\n",
    "\n",
    "$$F(x) = \\sum_{m=1}^M \\beta_m b(x; \\gamma_m)$$\n",
    "\n",
    "where $b(x; \\gamma_m)$ is a tree and $\\gamma_m$ parameterizes the splits.  With boosting, the parameters, $(\\beta_m, \\gamma_m)$ are fit in a *stagewise* fashion.  This slows the process down, and overfits less quickly."
   ]
  },
  {
   "cell_type": "markdown",
   "metadata": {},
   "source": [
    "## AdaBoost\n",
    "\n",
    "- AdaBoost builds an additive logistic regression model by stagewise fitting.\n",
    "- AdaBoost uses an exponential loss function of the form, $L(y, F(x)) = exp(-yF(x))$, similar to the negative binomial log-likelihood loss.\n",
    "- The principal attraction of the exponential loss in the context of additive modeling is computational; it leads to the simple modular reweighting\n",
    "- Instead of fitting trees to residuals, the special form of the exponential loss function in AdaBoost leads to fitting trees to weighted versions of the original data.\n",
    "\n",
    "![Alt text](./images/boosting_diagram.png \"Adaboost M1\")\n",
    "Source: Elements of Statistical Learning\n",
    "\n",
    "![Alt text](./images/adaboost_m1.png \"Adaboost M1\")\n",
    "Source: Elements of Statistical Learning\n"
   ]
  },
  {
   "cell_type": "markdown",
   "metadata": {},
   "source": [
    "## Gradient Boosting Algorithm\n",
    "\n",
    "- The idea of gradient boosting originated in the observation by Leo Breiman that boosting can be interpreted as an optimization algorithm on a suitable cost function.\n",
    "- Explicit regression gradient boosting algorithms were subsequently developed by Jerome H. Friedman simultaneously with the more general functional gradient boosting perspective of Llew Mason, Jonathan Baxter, Peter Bartlett and Marcus Frean. \n",
    "- The latter two papers introduced the abstract view of boosting algorithms as iterative functional gradient descent algorithms. That is, algorithms that optimize a cost function over function space by iteratively choosing a function (weak hypothesis) that points in the negative gradient direction. \n",
    "- This functional gradient view of boosting has led to the development of boosting algorithms in many areas of machine learning and statistics beyond regression and classification.\n",
    "\n",
    "Friedman's Gradient Boosting Algorithm for a generic loss function, $L(y_i, \\gamma)$:\n",
    "\n",
    "![Alt text](./images/friedman_gbm.png \"GBM Algorithm\")\n",
    "Source: Elements of Statistical Learning\n",
    "\n",
    "\n",
    "### Loss Functions and Gradients\n",
    "\n",
    "![Alt text](./images/gbm_gradients_loss.png \"GBM Algorithm\")\n",
    "Source: Elements of Statistical Learning\n",
    "\n",
    "\n",
    "The optimal number of iterations, T, and the learning rate, λ, depend on each other.\n",
    "\n",
    "\n"
   ]
  },
  {
   "cell_type": "markdown",
   "metadata": {},
   "source": [
    "## Stochastic GBM\n",
    "\n",
    "[Stochastic Gradient Boosting](https://statweb.stanford.edu/~jhf/ftp/stobst.pdf) (Friedman, 2002) proposed the stochastic gradient boosting algorithm that simply samples uniformly without replacement from the dataset before estimating the next gradient step. He found that this additional step greatly improved performance. \n",
    "\n",
    "Some implemenations of Stochastic GBM have both column and row sampling (per split and per tree) for better generalization.  XGBoost and H2O are two implemenations that have a per-tree column and row sampling.  This is reason that these implementations are popular among competitive data mining competitors (e.g. Kaggle)."
   ]
  },
  {
   "cell_type": "markdown",
   "metadata": {},
   "source": [
    "## Practical Tips\n",
    "\n",
    "- It's more common to grow shorter trees (\"shrubs\" or \"stumps\") in GBM than you do in Random Forest.\n",
    "- It's useful to try a variety of column sample (and column sample per tree) rates.  \n",
    "- Don't assume that the set of optimal tuning parameters for one implementation of GBM will carry over and also be optimal in a different GBM implementation."
   ]
  },
  {
   "cell_type": "markdown",
   "metadata": {},
   "source": [
    "## Resources\n",
    " - [Trevor Hastie - Gradient Boosting & Random Forests at H2O World 2014](https://www.youtube.com/watch?v=wPqtzj5VZus&index=16&list=PLNtMya54qvOFQhSZ4IKKXRbMkyLMn0caa) (YouTube)\n",
    " - [Trevor Hastie - Data Science of GBM (2013)](http://www.slideshare.net/0xdata/gbm-27891077) (slides)\n",
    " - [Mark Landry - Gradient Boosting Method and Random Forest at H2O World 2015](https://www.youtube.com/watch?v=9wn1f-30_ZY) (YouTube)\n",
    " - [Peter Prettenhofer - Gradient Boosted Regression Trees in scikit-learn at PyData London 2014](https://www.youtube.com/watch?v=IXZKgIsZRm0) (YouTube)\n",
    " - [Alexey Natekin1 and Alois Knoll - Gradient boosting machines, a tutorial](http://journal.frontiersin.org/article/10.3389/fnbot.2013.00021/full) (blog post)"
   ]
  },
  {
   "cell_type": "markdown",
   "metadata": {},
   "source": [
    "***"
   ]
  },
  {
   "cell_type": "markdown",
   "metadata": {},
   "source": [
    "# GBM Software in R\n",
    "\n",
    "This is not a comprehensive list of GBM software in R, however, we detail a few of the most popular implementations below: [gbm](https://cran.r-project.org/web/packages/gbm/index.html), [xgboost](https://cran.r-project.org/web/packages/xgboost/index.html) and [h2o](https://cran.r-project.org/web/packages/gamboostLSS/index.html).  \n",
    "\n",
    "The [CRAN Machine Learning Task View](https://cran.r-project.org/web/views/MachineLearning.html) lists the following projects as well.  The Hinge-loss is optimized by the boosting implementation in package [bst](https://cran.r-project.org/web/packages/bst/index.html). Package [GAMBoost](https://cran.r-project.org/web/packages/GAMBoost/index.html) can be used to fit generalized additive models by a boosting algorithm. An extensible boosting framework for generalized linear, additive and nonparametric models is available in package [mboost](https://cran.r-project.org/web/packages/mboost/index.html). Likelihood-based boosting for Cox models is implemented in [CoxBoost](https://cran.r-project.org/web/packages/CoxBoost/index.html) and for mixed models in [GMMBoost](https://cran.r-project.org/web/packages/GMMBoost/index.html). GAMLSS models can be fitted using boosting by [gamboostLSS](https://cran.r-project.org/web/packages/gamboostLSS/index.html). "
   ]
  },
  {
   "cell_type": "markdown",
   "metadata": {},
   "source": [
    "## gbm\n",
    "\n",
    "Authors: Originally written by Greg Ridgeway, added to by various authors, currently maintained by Harry Southworth\n",
    "\n",
    "Backend: C++\n",
    "\n",
    "The [gbm](https://github.com/gbm-developers/gbm) R package is an implementation of extensions to Freund and Schapire's AdaBoost algorithm and Friedman's gradient boosting machine.  This is the original R implementation of GBM. A presentation is available [here](http://www.slideshare.net/mark_landry/gbm-package-in-r) by Mark Landry. \n",
    "\n",
    "Features:\n",
    "- Stochastic GBM.\n",
    "- Supports up to 1024 factor levels.\n",
    "- Supports Classification and regression trees.\n",
    "- Includes regression methods for: \n",
    "  - least squares\n",
    "  - absolute loss\n",
    "  - t-distribution loss \n",
    "  - quantile regression\n",
    "  - logistic \n",
    "  - multinomial logistic\n",
    "  - Poisson\n",
    "  - Cox proportional hazards partial likelihood\n",
    "  - AdaBoost exponential loss\n",
    "  - Huberized hinge loss\n",
    "  - Learning to Rank measures ([LambdaMart](https://www.microsoft.com/en-us/research/wp-content/uploads/2016/02/tr-2008-109.pdf))\n",
    "- Out-of-bag estimator for the optimal number of iterations is provided.\n",
    "- Easy to overfit since early stopping functionality is not automated in this package.\n",
    "- If internal cross-validation is used, this can be parallelized to all cores on the machine.\n",
    "- Currently undergoing a major refactoring & rewrite (and has been for some time).\n",
    "- GPL-2/3 License."
   ]
  },
  {
   "cell_type": "code",
   "execution_count": 1,
   "metadata": {},
   "outputs": [
    {
     "name": "stderr",
     "output_type": "stream",
     "text": [
      "Loading required package: survival\n",
      "Loading required package: lattice\n",
      "Loading required package: splines\n",
      "Loading required package: parallel\n",
      "Loaded gbm 2.1.3\n",
      "Loading required package: ROCR\n",
      "Loading required package: gplots\n",
      "\n",
      "Attaching package: ‘gplots’\n",
      "\n",
      "The following object is masked from ‘package:stats’:\n",
      "\n",
      "    lowess\n",
      "\n",
      "Loading required package: data.table\n",
      " \n",
      "cvAUC version: 1.1.0\n",
      "Notice to cvAUC users: Major speed improvements in version 1.1.0\n",
      " \n"
     ]
    }
   ],
   "source": [
    "#install.packages(\"gbm\")\n",
    "#install.packages(\"cvAUC\")\n",
    "library(gbm)\n",
    "library(cvAUC)"
   ]
  },
  {
   "cell_type": "code",
   "execution_count": 2,
   "metadata": {
    "collapsed": true
   },
   "outputs": [],
   "source": [
    "# Load 2-class HIGGS dataset\n",
    "train <- read.csv(\"higgs_train_10k.csv\")\n",
    "test <- read.csv(\"higgs_test_5k.csv\")"
   ]
  },
  {
   "cell_type": "code",
   "execution_count": 3,
   "metadata": {
    "collapsed": true
   },
   "outputs": [],
   "source": [
    "set.seed(1)\n",
    "model <- gbm(formula = response ~ ., \n",
    "             distribution = \"bernoulli\",\n",
    "             data = train,\n",
    "             n.trees = 70,\n",
    "             interaction.depth = 5,\n",
    "             shrinkage = 0.3,\n",
    "             bag.fraction = 0.5,\n",
    "             train.fraction = 1.0,\n",
    "             n.cores = NULL)  #will use all cores by default"
   ]
  },
  {
   "cell_type": "code",
   "execution_count": 4,
   "metadata": {},
   "outputs": [
    {
     "name": "stdout",
     "output_type": "stream",
     "text": [
      "gbm(formula = response ~ ., distribution = \"bernoulli\", data = train, \n",
      "    n.trees = 70, interaction.depth = 5, shrinkage = 0.3, bag.fraction = 0.5, \n",
      "    train.fraction = 1, n.cores = NULL)\n",
      "A gradient boosted model with bernoulli loss function.\n",
      "70 iterations were performed.\n",
      "There were 28 predictors of which 28 had non-zero influence.\n"
     ]
    }
   ],
   "source": [
    "print(model)"
   ]
  },
  {
   "cell_type": "code",
   "execution_count": 5,
   "metadata": {},
   "outputs": [
    {
     "data": {
      "text/html": [
       "0.774160905116416"
      ],
      "text/latex": [
       "0.774160905116416"
      ],
      "text/markdown": [
       "0.774160905116416"
      ],
      "text/plain": [
       "[1] 0.7741609"
      ]
     },
     "metadata": {},
     "output_type": "display_data"
    }
   ],
   "source": [
    "# Generate predictions on test dataset\n",
    "preds <- predict(model, newdata = test, n.trees = 70)\n",
    "labels <- test[ , \"response\"]\n",
    "\n",
    "# Compute AUC on the test set\n",
    "cvAUC::AUC(predictions = preds, labels = labels)"
   ]
  },
  {
   "cell_type": "markdown",
   "metadata": {},
   "source": [
    "## xgboost\n",
    "\n",
    "Authors: Tianqi Chen, Tong He, Michael Benesty\n",
    "\n",
    "Backend: C++\n",
    "\n",
    "The [xgboost](https://cran.r-project.org/web/packages/xgboost/index.html) R package provides an R API to \"Extreme Gradient Boosting\", which is an efficient implementation of gradient boosting framework. [Parameter tuning guide](http://www.analyticsvidhya.com/blog/2016/03/complete-guide-parameter-tuning-xgboost-with-codes-python/) and more resources [here](https://github.com/dmlc/xgboost/tree/master/demo).  The xgboost package is quite popular on [Kaggle](http://blog.kaggle.com/tag/xgboost/) for data mining competitions.\n",
    "\n",
    "Features:\n",
    "- Stochastic GBM with  column and row sampling (per split and per tree) for better generalization.\n",
    "- Includes efficient linear model solver and tree learning algorithms. \n",
    "- Parallel computation on a single machine. \n",
    "- Supports various objective functions, including regression, classification and ranking. \n",
    "- The package is made to be extensible, so that users are also allowed to define their own objectives easily.\n",
    "- Apache 2.0 License."
   ]
  },
  {
   "cell_type": "code",
   "execution_count": 6,
   "metadata": {
    "collapsed": true
   },
   "outputs": [],
   "source": [
    "#install.packages(\"xgboost\")\n",
    "#install.packages(\"cvAUC\")\n",
    "library(xgboost)\n",
    "library(Matrix)\n",
    "library(cvAUC)"
   ]
  },
  {
   "cell_type": "code",
   "execution_count": 7,
   "metadata": {},
   "outputs": [],
   "source": [
    "# Load 2-class HIGGS dataset\n",
    "train <- read.csv(\"higgs_train_10k.csv\")\n",
    "test <- read.csv(\"higgs_test_5k.csv\")"
   ]
  },
  {
   "cell_type": "code",
   "execution_count": 8,
   "metadata": {},
   "outputs": [
    {
     "name": "stdout",
     "output_type": "stream",
     "text": [
      "[1]\ttrain-error:0.410100\ttest-error:0.427000 \n",
      "[2]\ttrain-error:0.375900\ttest-error:0.405200 \n",
      "[3]\ttrain-error:0.383100\ttest-error:0.407000 \n",
      "[4]\ttrain-error:0.363500\ttest-error:0.400200 \n",
      "[5]\ttrain-error:0.359900\ttest-error:0.398600 \n",
      "[6]\ttrain-error:0.356000\ttest-error:0.398400 \n",
      "[7]\ttrain-error:0.348000\ttest-error:0.397600 \n",
      "[8]\ttrain-error:0.344700\ttest-error:0.394200 \n",
      "[9]\ttrain-error:0.337600\ttest-error:0.390800 \n",
      "[10]\ttrain-error:0.335300\ttest-error:0.391200 \n",
      "[11]\ttrain-error:0.328600\ttest-error:0.389600 \n",
      "[12]\ttrain-error:0.328500\ttest-error:0.386200 \n",
      "[13]\ttrain-error:0.322100\ttest-error:0.388400 \n",
      "[14]\ttrain-error:0.315200\ttest-error:0.388400 \n",
      "[15]\ttrain-error:0.314900\ttest-error:0.388600 \n",
      "[16]\ttrain-error:0.310500\ttest-error:0.388000 \n",
      "[17]\ttrain-error:0.309200\ttest-error:0.389400 \n",
      "[18]\ttrain-error:0.308000\ttest-error:0.389400 \n",
      "[19]\ttrain-error:0.306200\ttest-error:0.388800 \n",
      "[20]\ttrain-error:0.303800\ttest-error:0.388800 \n",
      "[21]\ttrain-error:0.300700\ttest-error:0.389400 \n",
      "[22]\ttrain-error:0.299100\ttest-error:0.390200 \n",
      "[23]\ttrain-error:0.296000\ttest-error:0.391600 \n",
      "[24]\ttrain-error:0.294900\ttest-error:0.393600 \n",
      "[25]\ttrain-error:0.290900\ttest-error:0.391800 \n",
      "[26]\ttrain-error:0.290400\ttest-error:0.392200 \n",
      "[27]\ttrain-error:0.288500\ttest-error:0.392000 \n",
      "[28]\ttrain-error:0.285800\ttest-error:0.390400 \n",
      "[29]\ttrain-error:0.281200\ttest-error:0.389400 \n",
      "[30]\ttrain-error:0.279800\ttest-error:0.389800 \n",
      "[31]\ttrain-error:0.279000\ttest-error:0.388000 \n",
      "[32]\ttrain-error:0.278400\ttest-error:0.389200 \n",
      "[33]\ttrain-error:0.273300\ttest-error:0.388600 \n",
      "[34]\ttrain-error:0.263400\ttest-error:0.386600 \n",
      "[35]\ttrain-error:0.261300\ttest-error:0.387200 \n",
      "[36]\ttrain-error:0.261000\ttest-error:0.387200 \n",
      "[37]\ttrain-error:0.254500\ttest-error:0.385800 \n",
      "[38]\ttrain-error:0.253600\ttest-error:0.386000 \n",
      "[39]\ttrain-error:0.251500\ttest-error:0.386400 \n",
      "[40]\ttrain-error:0.249100\ttest-error:0.387400 \n",
      "[41]\ttrain-error:0.243700\ttest-error:0.388000 \n",
      "[42]\ttrain-error:0.241400\ttest-error:0.386600 \n",
      "[43]\ttrain-error:0.241100\ttest-error:0.386200 \n",
      "[44]\ttrain-error:0.235700\ttest-error:0.390400 \n",
      "[45]\ttrain-error:0.230800\ttest-error:0.390400 \n",
      "[46]\ttrain-error:0.228900\ttest-error:0.387800 \n",
      "[47]\ttrain-error:0.229000\ttest-error:0.388600 \n",
      "[48]\ttrain-error:0.227600\ttest-error:0.389000 \n",
      "[49]\ttrain-error:0.227700\ttest-error:0.388400 \n",
      "[50]\ttrain-error:0.227200\ttest-error:0.388400 \n",
      "[51]\ttrain-error:0.227200\ttest-error:0.389600 \n",
      "[52]\ttrain-error:0.223300\ttest-error:0.389800 \n",
      "[53]\ttrain-error:0.218500\ttest-error:0.395800 \n",
      "[54]\ttrain-error:0.216900\ttest-error:0.393400 \n",
      "[55]\ttrain-error:0.212900\ttest-error:0.392200 \n",
      "[56]\ttrain-error:0.213100\ttest-error:0.392000 \n",
      "[57]\ttrain-error:0.210900\ttest-error:0.394000 \n",
      "[58]\ttrain-error:0.207300\ttest-error:0.394200 \n",
      "[59]\ttrain-error:0.203500\ttest-error:0.395400 \n",
      "[60]\ttrain-error:0.199800\ttest-error:0.394800 \n",
      "[61]\ttrain-error:0.198600\ttest-error:0.395400 \n",
      "[62]\ttrain-error:0.197200\ttest-error:0.394800 \n",
      "[63]\ttrain-error:0.196600\ttest-error:0.395800 \n",
      "[64]\ttrain-error:0.196600\ttest-error:0.395600 \n",
      "[65]\ttrain-error:0.195900\ttest-error:0.395800 \n",
      "[66]\ttrain-error:0.193600\ttest-error:0.391600 \n",
      "[67]\ttrain-error:0.192100\ttest-error:0.395000 \n",
      "[68]\ttrain-error:0.188900\ttest-error:0.393800 \n",
      "[69]\ttrain-error:0.187500\ttest-error:0.394800 \n",
      "[70]\ttrain-error:0.187100\ttest-error:0.395200 \n"
     ]
    }
   ],
   "source": [
    "# Set seed because we column-sample\n",
    "set.seed(1)\n",
    "\n",
    "y <- \"response\"\n",
    "train.mx <- sparse.model.matrix(response ~ ., train)\n",
    "test.mx <- sparse.model.matrix(response ~ ., test)\n",
    "dtrain <- xgb.DMatrix(train.mx, label = train[ , y])\n",
    "dtest <- xgb.DMatrix(test.mx, label = test[ , y])\n",
    "\n",
    "train.gdbt <- xgb.train(params = list(objective = \"binary:logistic\",\n",
    "                                      #num_class = 2,\n",
    "                                      #eval_metric = \"mlogloss\",\n",
    "                                      eta = 0.3,\n",
    "                                      max_depth = 5,\n",
    "                                      subsample = 1,\n",
    "                                      colsample_bytree = 0.5), \n",
    "                                      data = dtrain, \n",
    "                                      nrounds = 70, \n",
    "                                      watchlist = list(train = dtrain, test = dtest))"
   ]
  },
  {
   "cell_type": "code",
   "execution_count": 9,
   "metadata": {},
   "outputs": [
    {
     "data": {
      "text/html": [
       "0.639851345970536"
      ],
      "text/latex": [
       "0.639851345970536"
      ],
      "text/markdown": [
       "0.639851345970536"
      ],
      "text/plain": [
       "[1] 0.6398513"
      ]
     },
     "metadata": {},
     "output_type": "display_data"
    }
   ],
   "source": [
    "# Generate predictions on test dataset\n",
    "preds <- predict(train.gdbt, newdata = dtest)\n",
    "labels <- test[ , y]\n",
    "\n",
    "# Compute AUC on the test set\n",
    "cvAUC::AUC(predictions = preds, labels = labels)"
   ]
  },
  {
   "cell_type": "code",
   "execution_count": 10,
   "metadata": {},
   "outputs": [
    {
     "data": {
      "image/png": "[encoded data removed]",
      "text/plain": [
       "plot without title"
      ]
     },
     "metadata": {},
     "output_type": "display_data"
    }
   ],
   "source": [
    "#Advanced functionality of xgboost\n",
    "#install.packages(\"Ckmeans.1d.dp\")\n",
    "library(Ckmeans.1d.dp)\n",
    "\n",
    "# Compute feature importance matrix\n",
    "names <- dimnames(data.matrix(train[ , -1]))[[2]]\n",
    "importance_matrix <- xgb.importance(names, model = train.gdbt)\n",
    "\n",
    "# Plot feature importance\n",
    "xgb.plot.importance(importance_matrix[1:10,])"
   ]
  },
  {
   "cell_type": "markdown",
   "metadata": {},
   "source": [
    "## h2o\n",
    "\n",
    "Authors: [Arno Candel](https://www.linkedin.com/in/candel), [Cliff Click](http://www.cliffc.org/blog/), H2O.ai contributors\n",
    "\n",
    "Backend: Java\n",
    "\n",
    "[H2O GBM Tuning guide by Arno Candel](https://github.com/h2oai/h2o-3/blob/master/h2o-docs/src/product/tutorials/gbm/gbmTuning.Rmd) and [H2O GBM Vignette](http://docs.h2o.ai/h2o/latest-stable/h2o-docs/booklets/GBMBooklet.pdf).\n",
    "\n",
    "Features:\n",
    "\n",
    "- Distributed and parallelized computation on either a single node or a multi-node cluster.\n",
    "- Automatic early stopping based on convergence of user-specied metrics to user-specied relative tolerance.\n",
    "- Stochastic GBM with column and  row sampling  (per split and per tree) for better generalization.\n",
    "- Support  for  exponential  families  (Poisson,  Gamma,  Tweedie)  and  loss functions in addition to binomial (Bernoulli), Gaussian and multinomial distributions, such as Quantile regression (including Laplace).\n",
    "- Grid search for hyperparameter optimization and model selection.\n",
    "- Data-distributed, which means the entire dataset does not need to fit into memory on a single node, hence scales to any size training set.\n",
    "- Uses histogram approximations of continuous variables for speedup.\n",
    "- Uses dynamic binning - bin limits are reset at each tree level based on the split bins' min and max values discovered during the last pass.\n",
    "- Uses squared error to determine optimal splits.\n",
    "- Distributed implementation details outlined in a [blog post](http://blog.h2o.ai/2013/10/building-distributed-gbm-h2o/) by Cliff Click.\n",
    "- Unlimited factor levels.\n",
    "- Multiclass trees (one for each class) built in parallel with each other.\n",
    "- Apache 2.0 Licensed.\n",
    "- Model export in plain Java code for deployment in production environments.\n",
    "- GUI for training & model eval/viz (H2O Flow)."
   ]
  },
  {
   "cell_type": "code",
   "execution_count": 11,
   "metadata": {},
   "outputs": [
    {
     "name": "stderr",
     "output_type": "stream",
     "text": [
      "\n",
      "----------------------------------------------------------------------\n",
      "\n",
      "Your next step is to start H2O:\n",
      "    > h2o.init()\n",
      "\n",
      "For H2O package documentation, ask for help:\n",
      "    > ??h2o\n",
      "\n",
      "After starting H2O, you can use the Web UI at http://localhost:54321\n",
      "For more information visit http://docs.h2o.ai\n",
      "\n",
      "----------------------------------------------------------------------\n",
      "\n",
      "\n",
      "Attaching package: ‘h2o’\n",
      "\n",
      "The following objects are masked from ‘package:data.table’:\n",
      "\n",
      "    hour, month, week, year\n",
      "\n",
      "The following objects are masked from ‘package:stats’:\n",
      "\n",
      "    cor, sd, var\n",
      "\n",
      "The following objects are masked from ‘package:base’:\n",
      "\n",
      "    &&, %*%, %in%, ||, apply, as.factor, as.numeric, colnames,\n",
      "    colnames<-, ifelse, is.character, is.factor, is.numeric, log,\n",
      "    log10, log1p, log2, round, signif, trunc\n",
      "\n"
     ]
    },
    {
     "name": "stdout",
     "output_type": "stream",
     "text": [
      " Connection successful!\n",
      "\n",
      "R is connected to the H2O cluster: \n",
      "    H2O cluster uptime:         3 minutes 44 seconds \n",
      "    H2O cluster version:        3.10.5.3 \n",
      "    H2O cluster version age:    1 month and 8 days  \n",
      "    H2O cluster name:           H2O_started_from_R_robertstevens_ppr077 \n",
      "    H2O cluster total nodes:    1 \n",
      "    H2O cluster total memory:   3.27 GB \n",
      "    H2O cluster total cores:    8 \n",
      "    H2O cluster allowed cores:  8 \n",
      "    H2O cluster healthy:        TRUE \n",
      "    H2O Connection ip:          localhost \n",
      "    H2O Connection port:        54321 \n",
      "    H2O Connection proxy:       NA \n",
      "    H2O Internal Security:      FALSE \n",
      "    R Version:                  R version 3.4.1 (2017-06-30) \n",
      "\n"
     ]
    }
   ],
   "source": [
    "#install.packages(\"h2o\")\n",
    "library(h2o)\n",
    "#h2o.shutdown(prompt = FALSE)  #if required\n",
    "h2o.init(nthreads = -1)  #Start a local H2O cluster using nthreads = num available cores"
   ]
  },
  {
   "cell_type": "code",
   "execution_count": 13,
   "metadata": {},
   "outputs": [
    {
     "name": "stdout",
     "output_type": "stream",
     "text": [
      "  |======================================================================| 100%\n",
      "  |======================================================================| 100%\n"
     ]
    },
    {
     "data": {
      "text/html": [
       "<ol class=list-inline>\n",
       "\t<li>10000</li>\n",
       "\t<li>29</li>\n",
       "</ol>\n"
      ],
      "text/latex": [
       "\\begin{enumerate*}\n",
       "\\item 10000\n",
       "\\item 29\n",
       "\\end{enumerate*}\n"
      ],
      "text/markdown": [
       "1. 10000\n",
       "2. 29\n",
       "\n",
       "\n"
      ],
      "text/plain": [
       "[1] 10000    29"
      ]
     },
     "metadata": {},
     "output_type": "display_data"
    },
    {
     "data": {
      "text/html": [
       "<ol class=list-inline>\n",
       "\t<li>5000</li>\n",
       "\t<li>29</li>\n",
       "</ol>\n"
      ],
      "text/latex": [
       "\\begin{enumerate*}\n",
       "\\item 5000\n",
       "\\item 29\n",
       "\\end{enumerate*}\n"
      ],
      "text/markdown": [
       "1. 5000\n",
       "2. 29\n",
       "\n",
       "\n"
      ],
      "text/plain": [
       "[1] 5000   29"
      ]
     },
     "metadata": {},
     "output_type": "display_data"
    }
   ],
   "source": [
    "# Load 10-class MNIST dataset\n",
    "train <- h2o.importFile(\"higgs_train_10k.csv\")\n",
    "test <- h2o.importFile(\"higgs_test_5k.csv\")\n",
    "dim(train)\n",
    "dim(test)"
   ]
  },
  {
   "cell_type": "code",
   "execution_count": 14,
   "metadata": {},
   "outputs": [],
   "source": [
    "# Identity the response column\n",
    "y <- \"response\"\n",
    "\n",
    "# Identify the predictor columns\n",
    "x <- setdiff(names(train), y)\n",
    "\n",
    "# Convert response to factor\n",
    "train[ , y] <- as.factor(train[ , y])\n",
    "test[ , y] <- as.factor(test[ , y])"
   ]
  },
  {
   "cell_type": "code",
   "execution_count": 15,
   "metadata": {},
   "outputs": [
    {
     "name": "stdout",
     "output_type": "stream",
     "text": [
      "\r",
      "  |                                                                            \r",
      "  |                                                                      |   0%\r",
      "  |                                                                            \r",
      "  |==================                                                    |  26%\r",
      "  |                                                                            \r",
      "  |=====================================                                 |  53%\r",
      "  |                                                                            \r",
      "  |=====================================================                 |  76%\r",
      "  |                                                                            \r",
      "  |======================================================================| 100%\n"
     ]
    }
   ],
   "source": [
    "# Train an H2O GBM model\n",
    "model <- h2o.gbm(x = x,\n",
    "                 y = y,\n",
    "                 training_frame = train,\n",
    "                 ntrees = 70,\n",
    "                 learn_rate = 0.3,\n",
    "                 sample_rate = 1.0,\n",
    "                 max_depth = 5,\n",
    "                 col_sample_rate_per_tree = 0.5,\n",
    "                 seed = 1)"
   ]
  },
  {
   "cell_type": "code",
   "execution_count": 17,
   "metadata": {},
   "outputs": [
    {
     "name": "stdout",
     "output_type": "stream",
     "text": [
      "H2OBinomialMetrics: gbm\n",
      "\n",
      "MSE:  0.1938163\n",
      "RMSE:  0.4402457\n",
      "LogLoss:  0.5701889\n",
      "Mean Per-Class Error:  0.3376409\n",
      "AUC:  0.7735663\n",
      "Gini:  0.5471326\n",
      "\n",
      "Confusion Matrix (vertical: actual; across: predicted) for F1-optimal threshold:\n",
      "          0    1    Error        Rate\n",
      "0       994 1321 0.570626  =1321/2315\n",
      "1       281 2404 0.104655   =281/2685\n",
      "Totals 1275 3725 0.320400  =1602/5000\n",
      "\n",
      "Maximum Metrics: Maximum metrics at their respective thresholds\n",
      "                        metric threshold    value idx\n",
      "1                       max f1  0.306264 0.750078 288\n",
      "2                       max f2  0.110686 0.861722 364\n",
      "3                 max f0point5  0.582499 0.733454 170\n",
      "4                 max accuracy  0.427211 0.704600 237\n",
      "5                max precision  0.946492 0.966102  14\n",
      "6                   max recall  0.017942 1.000000 397\n",
      "7              max specificity  0.995085 0.999568   0\n",
      "8             max absolute_mcc  0.582499 0.407274 170\n",
      "9   max min_per_class_accuracy  0.514693 0.702376 198\n",
      "10 max mean_per_class_accuracy  0.582499 0.702967 170\n",
      "\n",
      "Gains/Lift Table: Extract with `h2o.gainsLift(<model>, <data>)` or `h2o.gainsLift(<model>, valid=<T/F>, xval=<T/F>)`"
     ]
    }
   ],
   "source": [
    "# Get model performance on a test set\n",
    "perf <- h2o.performance(model, test)\n",
    "perf"
   ]
  },
  {
   "cell_type": "code",
   "execution_count": 18,
   "metadata": {},
   "outputs": [
    {
     "data": {
      "text/html": [
       "0.773566288998556"
      ],
      "text/latex": [
       "0.773566288998556"
      ],
      "text/markdown": [
       "0.773566288998556"
      ],
      "text/plain": [
       "[1] 0.7735663"
      ]
     },
     "metadata": {},
     "output_type": "display_data"
    }
   ],
   "source": [
    "# To retreive individual metrics\n",
    "h2o.auc(perf)"
   ]
  },
  {
   "cell_type": "code",
   "execution_count": 19,
   "metadata": {},
   "outputs": [
    {
     "data": {
      "text/html": [
       "<table>\n",
       "<thead><tr><th></th><th scope=col>0</th><th scope=col>1</th><th scope=col>Error</th><th scope=col>Rate</th></tr></thead>\n",
       "<tbody>\n",
       "\t<tr><th scope=row>0</th><td> 994       </td><td>1321       </td><td>0.5706263  </td><td> =1321/2315</td></tr>\n",
       "\t<tr><th scope=row>1</th><td> 281       </td><td>2404       </td><td>0.1046555  </td><td> =281/2685 </td></tr>\n",
       "\t<tr><th scope=row>Totals</th><td>1275       </td><td>3725       </td><td>0.3204000  </td><td> =1602/5000</td></tr>\n",
       "</tbody>\n",
       "</table>\n"
      ],
      "text/latex": [
       "\\begin{tabular}{r|llll}\n",
       "  & 0 & 1 & Error & Rate\\\\\n",
       "\\hline\n",
       "\t0 &  994        & 1321        & 0.5706263   &  =1321/2315\\\\\n",
       "\t1 &  281        & 2404        & 0.1046555   &  =281/2685 \\\\\n",
       "\tTotals & 1275        & 3725        & 0.3204000   &  =1602/5000\\\\\n",
       "\\end{tabular}\n"
      ],
      "text/markdown": [
       "\n",
       "| <!--/--> | 0 | 1 | Error | Rate | \n",
       "|---|---|---|\n",
       "| 0 |  994        | 1321        | 0.5706263   |  =1321/2315 | \n",
       "| 1 |  281        | 2404        | 0.1046555   |  =281/2685  | \n",
       "| Totals | 1275        | 3725        | 0.3204000   |  =1602/5000 | \n",
       "\n",
       "\n"
      ],
      "text/plain": [
       "       0    1    Error     Rate       \n",
       "0       994 1321 0.5706263  =1321/2315\n",
       "1       281 2404 0.1046555  =281/2685 \n",
       "Totals 1275 3725 0.3204000  =1602/5000"
      ]
     },
     "metadata": {},
     "output_type": "display_data"
    }
   ],
   "source": [
    "# Print confusion matrix\n",
    "h2o.confusionMatrix(perf)"
   ]
  },
  {
   "cell_type": "code",
   "execution_count": 20,
   "metadata": {},
   "outputs": [
    {
     "data": {
      "image/png": "[encoded data removed]",
      "text/plain": [
       "Plot with title “Training Scoring History”"
      ]
     },
     "metadata": {},
     "output_type": "display_data"
    }
   ],
   "source": [
    "# Plot scoring history over time\n",
    "plot(model)"
   ]
  },
  {
   "cell_type": "code",
   "execution_count": 21,
   "metadata": {},
   "outputs": [
    {
     "data": {
      "text/html": [
       "<table>\n",
       "<thead><tr><th scope=col>variable</th><th scope=col>relative_importance</th><th scope=col>scaled_importance</th><th scope=col>percentage</th></tr></thead>\n",
       "<tbody>\n",
       "\t<tr><td>x26       </td><td>541.3356  </td><td>1.0000000 </td><td>0.20010571</td></tr>\n",
       "\t<tr><td>x28       </td><td>229.3425  </td><td>0.4236604 </td><td>0.08477688</td></tr>\n",
       "\t<tr><td>x25       </td><td>202.5561  </td><td>0.3741784 </td><td>0.07487524</td></tr>\n",
       "\t<tr><td>x6        </td><td>158.7745  </td><td>0.2933014 </td><td>0.05869130</td></tr>\n",
       "\t<tr><td>x23       </td><td>154.0504  </td><td>0.2845746 </td><td>0.05694500</td></tr>\n",
       "\t<tr><td>x27       </td><td>150.6403  </td><td>0.2782753 </td><td>0.05568448</td></tr>\n",
       "\t<tr><td>x4        </td><td>137.7830  </td><td>0.2545241 </td><td>0.05093174</td></tr>\n",
       "\t<tr><td>x10       </td><td>111.8098  </td><td>0.2065443 </td><td>0.04133069</td></tr>\n",
       "\t<tr><td>x1        </td><td>105.7128  </td><td>0.1952814 </td><td>0.03907693</td></tr>\n",
       "\t<tr><td>x22       </td><td> 98.4624  </td><td>0.1818879 </td><td>0.03639681</td></tr>\n",
       "</tbody>\n",
       "</table>\n"
      ],
      "text/latex": [
       "\\begin{tabular}{r|llll}\n",
       " variable & relative\\_importance & scaled\\_importance & percentage\\\\\n",
       "\\hline\n",
       "\t x26        & 541.3356   & 1.0000000  & 0.20010571\\\\\n",
       "\t x28        & 229.3425   & 0.4236604  & 0.08477688\\\\\n",
       "\t x25        & 202.5561   & 0.3741784  & 0.07487524\\\\\n",
       "\t x6         & 158.7745   & 0.2933014  & 0.05869130\\\\\n",
       "\t x23        & 154.0504   & 0.2845746  & 0.05694500\\\\\n",
       "\t x27        & 150.6403   & 0.2782753  & 0.05568448\\\\\n",
       "\t x4         & 137.7830   & 0.2545241  & 0.05093174\\\\\n",
       "\t x10        & 111.8098   & 0.2065443  & 0.04133069\\\\\n",
       "\t x1         & 105.7128   & 0.1952814  & 0.03907693\\\\\n",
       "\t x22        &  98.4624   & 0.1818879  & 0.03639681\\\\\n",
       "\\end{tabular}\n"
      ],
      "text/markdown": [
       "\n",
       "variable | relative_importance | scaled_importance | percentage | \n",
       "|---|---|---|---|---|---|---|---|---|---|\n",
       "| x26        | 541.3356   | 1.0000000  | 0.20010571 | \n",
       "| x28        | 229.3425   | 0.4236604  | 0.08477688 | \n",
       "| x25        | 202.5561   | 0.3741784  | 0.07487524 | \n",
       "| x6         | 158.7745   | 0.2933014  | 0.05869130 | \n",
       "| x23        | 154.0504   | 0.2845746  | 0.05694500 | \n",
       "| x27        | 150.6403   | 0.2782753  | 0.05568448 | \n",
       "| x4         | 137.7830   | 0.2545241  | 0.05093174 | \n",
       "| x10        | 111.8098   | 0.2065443  | 0.04133069 | \n",
       "| x1         | 105.7128   | 0.1952814  | 0.03907693 | \n",
       "| x22        |  98.4624   | 0.1818879  | 0.03639681 | \n",
       "\n",
       "\n"
      ],
      "text/plain": [
       "   variable relative_importance scaled_importance percentage\n",
       "1  x26      541.3356            1.0000000         0.20010571\n",
       "2  x28      229.3425            0.4236604         0.08477688\n",
       "3  x25      202.5561            0.3741784         0.07487524\n",
       "4  x6       158.7745            0.2933014         0.05869130\n",
       "5  x23      154.0504            0.2845746         0.05694500\n",
       "6  x27      150.6403            0.2782753         0.05568448\n",
       "7  x4       137.7830            0.2545241         0.05093174\n",
       "8  x10      111.8098            0.2065443         0.04133069\n",
       "9  x1       105.7128            0.1952814         0.03907693\n",
       "10 x22       98.4624            0.1818879         0.03639681"
      ]
     },
     "metadata": {},
     "output_type": "display_data"
    }
   ],
   "source": [
    "# Retreive feature importance\n",
    "vi <- h2o.varimp(model)\n",
    "vi[1:10, ]"
   ]
  },
  {
   "cell_type": "code",
   "execution_count": 22,
   "metadata": {},
   "outputs": [
    {
     "data": {
      "image/png": "[encoded data removed]",
      "text/plain": [
       "Plot with title “Variable Importance: H2O GBM”"
      ]
     },
     "metadata": {},
     "output_type": "display_data"
    }
   ],
   "source": [
    "# Plot feature importance\n",
    "barplot(vi$scaled_importance,\n",
    "        names.arg = vi$variable,\n",
    "        space = 1,\n",
    "        las = 2,\n",
    "        main = \"Variable Importance: H2O GBM\")"
   ]
  },
  {
   "cell_type": "markdown",
   "metadata": {},
   "source": [
    "Note that all models, data and model metrics can be viewed via the [H2O Flow GUI](http://127.0.0.1:54321/flow/index.html), which should already be running since you started the H2O cluster with `h2o.init()`."
   ]
  },
  {
   "cell_type": "code",
   "execution_count": 77,
   "metadata": {},
   "outputs": [],
   "source": [
    "# Early stopping example\n",
    "# Keep in mind that when you use early stopping, you should pass a validation set\n",
    "# Since the validation set is used to detmine the stopping point, a separate test set should be used for model eval\n",
    "\n",
    "#fit <- h2o.gbm(x = x,\n",
    "#               y = y,\n",
    "#               training_frame = train,\n",
    "#               model_id = \"gbm_fit3\",\n",
    "#               validation_frame = valid,  #only used if stopping_rounds > 0\n",
    "#               ntrees = 500,\n",
    "#               score_tree_interval = 5,      #used for early stopping\n",
    "#               stopping_rounds = 3,          #used for early stopping\n",
    "#               stopping_metric = \"misclassification\", #used for early stopping\n",
    "#               stopping_tolerance = 0.0005,  #used for early stopping\n",
    "#               seed = 1)"
   ]
  },
  {
   "cell_type": "code",
   "execution_count": 23,
   "metadata": {},
   "outputs": [
    {
     "name": "stdout",
     "output_type": "stream",
     "text": [
      "\r",
      "  |                                                                            \r",
      "  |                                                                      |   0%\r",
      "  |                                                                            \r",
      "  |=                                                                     |   1%\r",
      "  |                                                                            \r",
      "  |=                                                                     |   2%\r",
      "  |                                                                            \r",
      "  |==                                                                    |   2%\r",
      "  |                                                                            \r",
      "  |==                                                                    |   3%\r",
      "  |                                                                            \r",
      "  |====                                                                  |   6%\r",
      "  |                                                                            \r",
      "  |=====                                                                 |   8%\r",
      "  |                                                                            \r",
      "  |======                                                                |   8%\r",
      "  |                                                                            \r",
      "  |======                                                                |   9%\r",
      "  |                                                                            \r",
      "  |=======                                                               |  10%\r",
      "  |                                                                            \r",
      "  |========                                                              |  12%\r",
      "  |                                                                            \r",
      "  |=========                                                             |  13%\r",
      "  |                                                                            \r",
      "  |===========                                                           |  15%\r",
      "  |                                                                            \r",
      "  |===========                                                           |  16%\r",
      "  |                                                                            \r",
      "  |============                                                          |  17%\r",
      "  |                                                                            \r",
      "  |============                                                          |  18%\r",
      "  |                                                                            \r",
      "  |=============                                                         |  18%\r",
      "  |                                                                            \r",
      "  |===============                                                       |  21%\r",
      "  |                                                                            \r",
      "  |================                                                      |  22%\r",
      "  |                                                                            \r",
      "  |================                                                      |  23%\r",
      "  |                                                                            \r",
      "  |=================                                                     |  24%\r",
      "  |                                                                            \r",
      "  |==================                                                    |  26%\r",
      "  |                                                                            \r",
      "  |===================                                                   |  27%\r",
      "  |                                                                            \r",
      "  |===================                                                   |  28%\r",
      "  |                                                                            \r",
      "  |====================                                                  |  29%\r",
      "  |                                                                            \r",
      "  |======================                                                |  32%\r",
      "  |                                                                            \r",
      "  |=======================                                               |  33%\r",
      "  |                                                                            \r",
      "  |========================                                              |  34%\r",
      "  |                                                                            \r",
      "  |=========================                                             |  35%\r",
      "  |                                                                            \r",
      "  |==========================                                            |  37%\r",
      "  |                                                                            \r",
      "  |===========================                                           |  38%\r",
      "  |                                                                            \r",
      "  |===========================                                           |  39%\r",
      "  |                                                                            \r",
      "  |============================                                          |  40%\r",
      "  |                                                                            \r",
      "  |=============================                                         |  41%\r",
      "  |                                                                            \r",
      "  |=============================                                         |  42%\r",
      "  |                                                                            \r",
      "  |==============================                                        |  43%\r",
      "  |                                                                            \r",
      "  |================================                                      |  46%\r",
      "  |                                                                            \r",
      "  |=================================                                     |  47%\r",
      "  |                                                                            \r",
      "  |=================================                                     |  48%\r",
      "  |                                                                            \r",
      "  |==================================                                    |  48%\r",
      "  |                                                                            \r",
      "  |==================================                                    |  49%\r",
      "  |                                                                            \r",
      "  |====================================                                  |  52%\r",
      "  |                                                                            \r",
      "  |=====================================                                 |  52%\r",
      "  |                                                                            \r",
      "  |=====================================                                 |  53%\r",
      "  |                                                                            \r",
      "  |======================================                                |  54%\r",
      "  |                                                                            \r",
      "  |=======================================                               |  56%\r",
      "  |                                                                            \r",
      "  |========================================                              |  57%\r",
      "  |                                                                            \r",
      "  |=========================================                             |  58%\r",
      "  |                                                                            \r",
      "  |=========================================                             |  59%\r",
      "  |                                                                            \r",
      "  |===========================================                           |  61%\r",
      "  |                                                                            \r",
      "  |===========================================                           |  62%\r",
      "  |                                                                            \r",
      "  |============================================                          |  63%\r",
      "  |                                                                            \r",
      "  |=============================================                         |  64%\r",
      "  |                                                                            \r",
      "  |===============================================                       |  67%\r",
      "  |                                                                            \r",
      "  |================================================                      |  68%\r",
      "  |                                                                            \r",
      "  |================================================                      |  69%\r",
      "  |                                                                            \r",
      "  |==================================================                    |  71%\r",
      "  |                                                                            \r",
      "  |===================================================                   |  72%\r",
      "  |                                                                            \r",
      "  |===================================================                   |  73%\r",
      "  |                                                                            \r",
      "  |====================================================                  |  74%\r",
      "  |                                                                            \r",
      "  |======================================================                |  77%\r",
      "  |                                                                            \r",
      "  |======================================================                |  78%\r",
      "  |                                                                            \r",
      "  |=======================================================               |  79%\r",
      "  |                                                                            \r",
      "  |=========================================================             |  82%\r",
      "  |                                                                            \r",
      "  |==========================================================            |  83%\r",
      "  |                                                                            \r",
      "  |===========================================================           |  84%\r",
      "  |                                                                            \r",
      "  |============================================================          |  86%\r",
      "  |                                                                            \r",
      "  |=============================================================         |  87%\r",
      "  |                                                                            \r",
      "  |==============================================================        |  88%\r",
      "  |                                                                            \r",
      "  |==============================================================        |  89%\r",
      "  |                                                                            \r",
      "  |===============================================================       |  90%\r",
      "  |                                                                            \r",
      "  |=================================================================     |  92%\r",
      "  |                                                                            \r",
      "  |=================================================================     |  93%\r",
      "  |                                                                            \r",
      "  |==================================================================    |  94%\r",
      "  |                                                                            \r",
      "  |===================================================================   |  95%\r",
      "  |                                                                            \r",
      "  |====================================================================  |  98%\r",
      "  |                                                                            \r",
      "  |===================================================================== |  99%\r",
      "  |                                                                            \r",
      "  |======================================================================| 100%\n"
     ]
    },
    {
     "name": "stdout",
     "output_type": "stream",
     "text": [
      "H2O Grid Details\n",
      "================\n",
      "\n",
      "Grid ID: gbm_grid \n",
      "Used hyper parameters: \n",
      "  -  col_sample_rate \n",
      "  -  learn_rate \n",
      "  -  max_depth \n",
      "  -  sample_rate \n",
      "Number of models: 20 \n",
      "Number of failed models: 0 \n",
      "\n",
      "Hyper-Parameter Search Summary: ordered by decreasing auc\n",
      "   col_sample_rate learn_rate max_depth sample_rate         model_ids\n",
      "1              0.6       0.05         8         0.6 gbm_grid_model_16\n",
      "2              0.6       0.05         9         0.9 gbm_grid_model_12\n",
      "3              0.3       0.06         7         0.6 gbm_grid_model_17\n",
      "4              0.3       0.05         8         0.9 gbm_grid_model_10\n",
      "5              0.3       0.01         9         0.8  gbm_grid_model_2\n",
      "6              0.9       0.03         6         0.6 gbm_grid_model_13\n",
      "7              0.9       0.02         8         0.5  gbm_grid_model_0\n",
      "8              0.8       0.07        10         0.8  gbm_grid_model_5\n",
      "9              0.3       0.09         8         0.9  gbm_grid_model_8\n",
      "10             0.3       0.03         6         0.9 gbm_grid_model_15\n",
      "11             0.5       0.02         6         0.9 gbm_grid_model_14\n",
      "12             0.1        0.1         9         0.7  gbm_grid_model_3\n",
      "13             0.1        0.1         7         0.8  gbm_grid_model_9\n",
      "14             0.5       0.09         2         0.7  gbm_grid_model_7\n",
      "15             0.4       0.08         2         1.0  gbm_grid_model_1\n",
      "16             0.1       0.01         6         0.6 gbm_grid_model_11\n",
      "17             0.1        0.1         2         0.5  gbm_grid_model_4\n",
      "18             0.1       0.01         3         0.5 gbm_grid_model_18\n",
      "19             0.9       0.02         2         0.7  gbm_grid_model_6\n",
      "20             0.4       0.01         2         0.7 gbm_grid_model_19\n",
      "                  auc\n",
      "1  0.7853426966066179\n",
      "2  0.7838682223857846\n",
      "3  0.7833193769079478\n",
      "4  0.7825367713599671\n",
      "5  0.7805576134914793\n",
      "6  0.7802882987238116\n",
      "7  0.7801650638898608\n",
      "8   0.779965410588382\n",
      "9  0.7777372893967366\n",
      "10 0.7765919776697193\n",
      "11 0.7750927277773085\n",
      "12 0.7700243332488709\n",
      "13 0.7673691534844811\n",
      "14  0.760143103635508\n",
      "15 0.7564406691040135\n",
      "16 0.7505315105517816\n",
      "17 0.7437081458064361\n",
      "18 0.7282650996858798\n",
      "19 0.7255086453418923\n",
      "20 0.7154854382599113\n"
     ]
    }
   ],
   "source": [
    "# GBM hyperparamters\n",
    "gbm_params <- list(learn_rate = seq(0.01, 0.1, 0.01),\n",
    "                   max_depth = seq(2, 10, 1),\n",
    "                   sample_rate = seq(0.5, 1.0, 0.1),\n",
    "                   col_sample_rate = seq(0.1, 1.0, 0.1))\n",
    "search_criteria <- list(strategy = \"RandomDiscrete\", \n",
    "                         max_models = 20)\n",
    "\n",
    "# Train and validate a grid of GBMs\n",
    "gbm_grid <- h2o.grid(\"gbm\", x = x, y = y,\n",
    "                      grid_id = \"gbm_grid\",\n",
    "                      training_frame = train,\n",
    "                      validation_frame = test,  #test frame will only be used to calculate metrics\n",
    "                      ntrees = 70,\n",
    "                      seed = 1,\n",
    "                      hyper_params = gbm_params,\n",
    "                      search_criteria = search_criteria)\n",
    "\n",
    "gbm_gridperf <- h2o.getGrid(grid_id = \"gbm_grid\", \n",
    "                            sort_by = \"auc\", \n",
    "                            decreasing = TRUE)\n",
    "gbm_gridperf"
   ]
  },
  {
   "cell_type": "markdown",
   "metadata": {},
   "source": [
    "The grid search helped a lot.  The first model we trained only had a 0.774 test set AUC, but the top GBM in our grid has a test set AUC of 0.786.  More information about grid search is available in the [H2O grid search R tutorial](https://github.com/h2oai/h2o-tutorials/blob/master/h2o-open-tour-2016/chicago/grid-search-model-selection.R)."
   ]
  },
  {
   "cell_type": "markdown",
   "metadata": {},
   "source": [
    "# References\n",
    "\n",
    "[1] [Friedman, Jerome H. Greedy function approximation: A gradient boosting machine. Ann. Statist. 29 (2001), no. 5, 1189--1232. doi:10.1214/aos/1013203451. http://projecteuclid.org/euclid.aos/1013203451.](http://projecteuclid.org/DPubS?verb=Display&version=1.0&service=UI&handle=euclid.aos/1013203451&page=record)"
   ]
  },
  {
   "cell_type": "markdown",
   "metadata": {},
   "source": [
    "***"
   ]
  }
 ],
 "metadata": {
  "kernelspec": {
   "display_name": "R",
   "language": "R",
   "name": "ir"
  },
  "language_info": {
   "codemirror_mode": "r",
   "file_extension": ".r",
   "mimetype": "text/x-r-source",
   "name": "R",
   "pygments_lexer": "r",
   "version": "3.4.1"
  }
 },
 "nbformat": 4,
 "nbformat_minor": 1
}
